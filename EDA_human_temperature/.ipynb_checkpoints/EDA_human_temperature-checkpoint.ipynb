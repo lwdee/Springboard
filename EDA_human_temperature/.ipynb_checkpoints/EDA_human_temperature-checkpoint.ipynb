{
 "cells": [
  {
   "cell_type": "markdown",
   "metadata": {},
   "source": [
    "# What is the True Normal Human Body Temperature? \n",
    "\n",
    "#### Background\n",
    "\n",
    "The mean normal body temperature was held to be 37$^{\\circ}$C or 98.6$^{\\circ}$F for more than 120 years since it was first conceptualized and reported by Carl Wunderlich in a famous 1868 book. But, is this value statistically correct?"
   ]
  },
  {
   "cell_type": "markdown",
   "metadata": {},
   "source": [
    "<h3>Exercises</h3>\n",
    "\n",
    "<p>In this exercise, you will analyze a dataset of human body temperatures and employ the concepts of hypothesis testing, confidence intervals, and statistical significance.</p>\n",
    "\n",
    "<p>Answer the following questions <b>in this notebook below and submit to your Github account</b>.</p> \n",
    "\n",
    "<ol>\n",
    "<li>  Is the distribution of body temperatures normal? \n",
    "    <ul>\n",
    "    <li> Although this is not a requirement for the Central Limit Theorem to hold (read the introduction on Wikipedia's page about the CLT carefully: https://en.wikipedia.org/wiki/Central_limit_theorem), it gives us some peace of mind that the population may also be normally distributed if we assume that this sample is representative of the population.\n",
    "    <li> Think about the way you're going to check for the normality of the distribution. Graphical methods are usually used first, but there are also other ways: https://en.wikipedia.org/wiki/Normality_test\n",
    "    </ul>\n",
    "<li>  Is the sample size large? Are the observations independent?\n",
    "    <ul>\n",
    "    <li> Remember that this is a condition for the Central Limit Theorem, and hence the statistical tests we are using, to apply.\n",
    "    </ul>\n",
    "<li>  Is the true population mean really 98.6 degrees F?\n",
    "    <ul>\n",
    "    <li> First, try a bootstrap hypothesis test.\n",
    "    <li> Now, let's try frequentist statistical testing. Would you use a one-sample or two-sample test? Why?\n",
    "    <li> In this situation, is it appropriate to use the $t$ or $z$ statistic? \n",
    "    <li> Now try using the other test. How is the result be different? Why?\n",
    "    </ul>\n",
    "<li>  Draw a small sample of size 10 from the data and repeat both frequentist tests. \n",
    "    <ul>\n",
    "    <li> Which one is the correct one to use? \n",
    "    <li> What do you notice? What does this tell you about the difference in application of the $t$ and $z$ statistic?\n",
    "    </ul>\n",
    "<li>  At what temperature should we consider someone's temperature to be \"abnormal\"?\n",
    "    <ul>\n",
    "    <li> As in the previous example, try calculating everything using the boostrap approach, as well as the frequentist approach.\n",
    "    <li> Start by computing the margin of error and confidence interval. When calculating the confidence interval, keep in mind that you should use the appropriate formula for one draw, and not N draws.\n",
    "    </ul>\n",
    "<li>  Is there a significant difference between males and females in normal temperature?\n",
    "    <ul>\n",
    "    <li> What testing approach did you use and why?\n",
    "    <li> Write a story with your conclusion in the context of the original problem.\n",
    "    </ul>\n",
    "</ol>\n",
    "\n",
    "You can include written notes in notebook cells using Markdown: \n",
    "   - In the control panel at the top, choose Cell > Cell Type > Markdown\n",
    "   - Markdown syntax: http://nestacms.com/docs/creating-content/markdown-cheat-sheet\n",
    "\n",
    "#### Resources\n",
    "\n",
    "+ Information and data sources: http://www.amstat.org/publications/jse/datasets/normtemp.txt, http://www.amstat.org/publications/jse/jse_data_archive.htm\n",
    "+ Markdown syntax: http://nestacms.com/docs/creating-content/markdown-cheat-sheet\n",
    "\n",
    "****"
   ]
  },
  {
   "cell_type": "markdown",
   "metadata": {},
   "source": [
    "## Humans might not be so hot after all\n",
    "In a study of 130 people, the mean body temperature is found to be 98.25 degrees F. The observed temperatures ranged from 96.3 to 100.8 degrees. This does encompass 98.6 degrees, but does the data suggest it could be the true mean human temperature?\n"
   ]
  },
  {
   "cell_type": "code",
   "execution_count": 1,
   "metadata": {},
   "outputs": [],
   "source": [
    "import pandas as pd\n",
    "import matplotlib.pyplot as plt\n",
    "import numpy as np\n",
    "import seaborn as sns\n",
    "from scipy import stats\n",
    "sns.set()\n",
    "\n",
    "df = pd.read_csv('data/human_body_temperature.csv')"
   ]
  },
  {
   "cell_type": "code",
   "execution_count": 2,
   "metadata": {},
   "outputs": [
    {
     "data": {
      "text/html": [
       "<div>\n",
       "<style scoped>\n",
       "    .dataframe tbody tr th:only-of-type {\n",
       "        vertical-align: middle;\n",
       "    }\n",
       "\n",
       "    .dataframe tbody tr th {\n",
       "        vertical-align: top;\n",
       "    }\n",
       "\n",
       "    .dataframe thead th {\n",
       "        text-align: right;\n",
       "    }\n",
       "</style>\n",
       "<table border=\"1\" class=\"dataframe\">\n",
       "  <thead>\n",
       "    <tr style=\"text-align: right;\">\n",
       "      <th></th>\n",
       "      <th>temperature</th>\n",
       "      <th>gender</th>\n",
       "      <th>heart_rate</th>\n",
       "    </tr>\n",
       "  </thead>\n",
       "  <tbody>\n",
       "    <tr>\n",
       "      <th>0</th>\n",
       "      <td>99.3</td>\n",
       "      <td>F</td>\n",
       "      <td>68.0</td>\n",
       "    </tr>\n",
       "    <tr>\n",
       "      <th>1</th>\n",
       "      <td>98.4</td>\n",
       "      <td>F</td>\n",
       "      <td>81.0</td>\n",
       "    </tr>\n",
       "    <tr>\n",
       "      <th>2</th>\n",
       "      <td>97.8</td>\n",
       "      <td>M</td>\n",
       "      <td>73.0</td>\n",
       "    </tr>\n",
       "    <tr>\n",
       "      <th>3</th>\n",
       "      <td>99.2</td>\n",
       "      <td>F</td>\n",
       "      <td>66.0</td>\n",
       "    </tr>\n",
       "    <tr>\n",
       "      <th>4</th>\n",
       "      <td>98.0</td>\n",
       "      <td>F</td>\n",
       "      <td>73.0</td>\n",
       "    </tr>\n",
       "  </tbody>\n",
       "</table>\n",
       "</div>"
      ],
      "text/plain": [
       "   temperature gender  heart_rate\n",
       "0         99.3      F        68.0\n",
       "1         98.4      F        81.0\n",
       "2         97.8      M        73.0\n",
       "3         99.2      F        66.0\n",
       "4         98.0      F        73.0"
      ]
     },
     "execution_count": 2,
     "metadata": {},
     "output_type": "execute_result"
    }
   ],
   "source": [
    "df.head()"
   ]
  },
  {
   "cell_type": "code",
   "execution_count": 3,
   "metadata": {},
   "outputs": [
    {
     "name": "stdout",
     "output_type": "stream",
     "text": [
      "<class 'pandas.core.frame.DataFrame'>\n",
      "RangeIndex: 130 entries, 0 to 129\n",
      "Data columns (total 3 columns):\n",
      "temperature    130 non-null float64\n",
      "gender         130 non-null object\n",
      "heart_rate     130 non-null float64\n",
      "dtypes: float64(2), object(1)\n",
      "memory usage: 3.1+ KB\n"
     ]
    }
   ],
   "source": [
    "df.info()"
   ]
  },
  {
   "cell_type": "code",
   "execution_count": 4,
   "metadata": {},
   "outputs": [],
   "source": [
    "temp_all = df.temperature\n",
    "temp_m = df[df.gender == 'M'].temperature\n",
    "temp_f = df[df.gender == 'F'].temperature"
   ]
  },
  {
   "cell_type": "code",
   "execution_count": 5,
   "metadata": {},
   "outputs": [
    {
     "data": {
      "text/html": [
       "<div>\n",
       "<style scoped>\n",
       "    .dataframe tbody tr th:only-of-type {\n",
       "        vertical-align: middle;\n",
       "    }\n",
       "\n",
       "    .dataframe tbody tr th {\n",
       "        vertical-align: top;\n",
       "    }\n",
       "\n",
       "    .dataframe thead th {\n",
       "        text-align: right;\n",
       "    }\n",
       "</style>\n",
       "<table border=\"1\" class=\"dataframe\">\n",
       "  <thead>\n",
       "    <tr style=\"text-align: right;\">\n",
       "      <th></th>\n",
       "      <th>All Temps</th>\n",
       "      <th>Male Temps</th>\n",
       "      <th>Female Temps</th>\n",
       "    </tr>\n",
       "  </thead>\n",
       "  <tbody>\n",
       "    <tr>\n",
       "      <th>count</th>\n",
       "      <td>130.000000</td>\n",
       "      <td>65.000000</td>\n",
       "      <td>65.000000</td>\n",
       "    </tr>\n",
       "    <tr>\n",
       "      <th>mean</th>\n",
       "      <td>98.249231</td>\n",
       "      <td>98.104615</td>\n",
       "      <td>98.393846</td>\n",
       "    </tr>\n",
       "    <tr>\n",
       "      <th>std</th>\n",
       "      <td>0.733183</td>\n",
       "      <td>0.698756</td>\n",
       "      <td>0.743488</td>\n",
       "    </tr>\n",
       "    <tr>\n",
       "      <th>min</th>\n",
       "      <td>96.300000</td>\n",
       "      <td>96.300000</td>\n",
       "      <td>96.400000</td>\n",
       "    </tr>\n",
       "    <tr>\n",
       "      <th>25%</th>\n",
       "      <td>97.800000</td>\n",
       "      <td>97.600000</td>\n",
       "      <td>98.000000</td>\n",
       "    </tr>\n",
       "    <tr>\n",
       "      <th>50%</th>\n",
       "      <td>98.300000</td>\n",
       "      <td>98.100000</td>\n",
       "      <td>98.400000</td>\n",
       "    </tr>\n",
       "    <tr>\n",
       "      <th>75%</th>\n",
       "      <td>98.700000</td>\n",
       "      <td>98.600000</td>\n",
       "      <td>98.800000</td>\n",
       "    </tr>\n",
       "    <tr>\n",
       "      <th>max</th>\n",
       "      <td>100.800000</td>\n",
       "      <td>99.500000</td>\n",
       "      <td>100.800000</td>\n",
       "    </tr>\n",
       "  </tbody>\n",
       "</table>\n",
       "</div>"
      ],
      "text/plain": [
       "        All Temps  Male Temps  Female Temps\n",
       "count  130.000000   65.000000     65.000000\n",
       "mean    98.249231   98.104615     98.393846\n",
       "std      0.733183    0.698756      0.743488\n",
       "min     96.300000   96.300000     96.400000\n",
       "25%     97.800000   97.600000     98.000000\n",
       "50%     98.300000   98.100000     98.400000\n",
       "75%     98.700000   98.600000     98.800000\n",
       "max    100.800000   99.500000    100.800000"
      ]
     },
     "execution_count": 5,
     "metadata": {},
     "output_type": "execute_result"
    }
   ],
   "source": [
    "statistics = pd.concat([temp_all.describe(), temp_m.describe(), temp_f.describe()], axis=1)\n",
    "statistics.columns = [\"All Temps\", \"Male Temps\", \"Female Temps\"]\n",
    "statistics"
   ]
  },
  {
   "cell_type": "markdown",
   "metadata": {},
   "source": [
    "## Initial Observations\n",
    "### Total Sample - Male and Female\n",
    " - Mean temperature: $\\bar{x}$ = 98.249231\n",
    " - Standard deviation: s<sub>x</sub> = 0.733183\n",
    " - Sample count: n = 130\n",
    "\n",
    "### Male Sample\n",
    "* Mean temperature: $\\bar{x}$ = 98.104615\n",
    "* Standard deviation: s<sub>x</sub> = 0.698756\n",
    "* Sample count: n = 65\n",
    "\n",
    "### Female Sample\n",
    "* Mean temperature: $\\bar{x}$ = 98.393846\n",
    "* Standard deviation: s<sub>x</sub> = 0.743488\n",
    "* Sample count: n = 65\n",
    "\n",
    "Our first inspection of the data indicates the mean body temperature for this sample of the populations is 98.25 degrees. This is 0.35 less than the expected mean of 98.6 degrees. Females, on average, tend to be slightly warmer at 98.39 than the male mean of 98.10. A quick visualization of the data shows there's also a wider spread in female temperatures."
   ]
  },
  {
   "cell_type": "code",
   "execution_count": 6,
   "metadata": {},
   "outputs": [
    {
     "data": {
      "image/png": "[encoded data removed]",
      "text/plain": [
       "<Figure size 864x432 with 2 Axes>"
      ]
     },
     "metadata": {},
     "output_type": "display_data"
    }
   ],
   "source": [
    "# Bee swarm plot\n",
    "fig, ax = plt.subplots(figsize=(12,6))\n",
    "\n",
    "ax1 = plt.subplot(1, 2, 1)\n",
    "_ = sns.swarmplot(y= 'temperature', data= df)\n",
    "\n",
    "_ = plt.xlabel('Total Sample (Males and Females)')\n",
    "_ = plt.ylabel('Body Temperature')\n",
    "\n",
    "# By gender\n",
    "plt.subplot(1, 2, 2)\n",
    "_ = sns.swarmplot(x= 'gender', y= 'temperature', data= df, palette=\"Set2\")\n",
    "\n",
    "_ = plt.xlabel('Gender')\n",
    "_ = plt.ylabel('Body Temperature')\n",
    "\n",
    "\n",
    "plt.show()"
   ]
  },
  {
   "cell_type": "code",
   "execution_count": 7,
   "metadata": {},
   "outputs": [
    {
     "data": {
      "image/png": "[encoded data removed]",
      "text/plain": [
       "<Figure size 360x360 with 1 Axes>"
      ]
     },
     "metadata": {},
     "output_type": "display_data"
    }
   ],
   "source": [
    "# Bee swarm plot\n",
    "\n",
    "g = sns.catplot(x=\"gender\", y=\"temperature\", kind=\"violin\", inner=None, data=df)\n",
    "_ = sns.swarmplot(x=\"gender\", y=\"temperature\", color=\"k\", size=3, data=df, ax=g.ax);\n",
    "\n",
    "_ = plt.xlabel('Sample Population')\n",
    "_ = plt.ylabel('Body Temperature')\n",
    "\n",
    "\n",
    "plt.show()"
   ]
  },
  {
   "cell_type": "markdown",
   "metadata": {},
   "source": [
    "### 1. Is the distribution of body temperatures normal?\n",
    "Before we perform further statistical analysis on this data, we'll determine if its distribution can be considered normal. To do this, we'll plot a histogram and compare the data's CDF to a normally distributed curve."
   ]
  },
  {
   "cell_type": "code",
   "execution_count": 8,
   "metadata": {},
   "outputs": [
    {
     "data": {
      "image/png": "[encoded data removed]",
      "text/plain": [
       "<Figure size 432x288 with 1 Axes>"
      ]
     },
     "metadata": {},
     "output_type": "display_data"
    }
   ],
   "source": [
    "# Histogram\n",
    "\n",
    "# Compute the square root of number of data points. This will be our number of bins.\n",
    "n_bins = int(np.sqrt(len(df.temperature)))\n",
    "\n",
    "# Plot the histogram of temperatures\n",
    "_ = plt.hist(df.temperature, bins = n_bins)\n",
    "\n",
    "_ = plt.xlabel('Body Temperature')\n",
    "_ = plt.ylabel('Count')\n",
    "\n",
    "plt.show()"
   ]
  },
  {
   "cell_type": "markdown",
   "metadata": {},
   "source": [
    "Other than a thin tail on the right, this looks fairly normally ditributed. To avoid bin bias, we'll examine the cumulative distribution function and overlay a normal distribution."
   ]
  },
  {
   "cell_type": "code",
   "execution_count": 9,
   "metadata": {},
   "outputs": [],
   "source": [
    "def ecdf(data):\n",
    "    \"\"\"Compute ECDF for a one-dimensional array of measurements.\"\"\"\n",
    "    # Number of data points: n\n",
    "    n = len(data)\n",
    "\n",
    "    # x-data for the ECDF: x\n",
    "    x = np.sort(data)\n",
    "\n",
    "    # y-data for the ECDF: y\n",
    "    y = np.arange(1, n+1) / n\n",
    "\n",
    "    return x, y"
   ]
  },
  {
   "cell_type": "code",
   "execution_count": 10,
   "metadata": {},
   "outputs": [
    {
     "data": {
      "image/png": "[encoded data removed]",
      "text/plain": [
       "<Figure size 576x360 with 1 Axes>"
      ]
     },
     "metadata": {},
     "output_type": "display_data"
    }
   ],
   "source": [
    "# CDF: The data compared to a normally distributed curve\n",
    "\n",
    "# Compute mean and standard deviation: mu, sigma\n",
    "mu = np.mean(temp_all)\n",
    "sigma = np.std(temp_all)\n",
    "\n",
    "# Sample out of a normal distribution with this mu and sigma\n",
    "samples = np.random.normal(loc=mu, scale=sigma, size=10000)\n",
    "\n",
    "# Create array of percentiles\n",
    "percentiles = np.array([2.5, 25, 50, 75, 97.5])\n",
    "\n",
    "# Compute temp percentiles\n",
    "ptiles_temp = np.percentile(temp_all, percentiles)\n",
    "# Compute theoretical percentiles\n",
    "ptiles_theor = np.percentile(samples, percentiles)\n",
    "\n",
    "# Get the CDF of the samples and of the data\n",
    "x_theor, y_theor = ecdf(samples)\n",
    "x, y = ecdf(temp_all)\n",
    "\n",
    "# Plot the CDFs\n",
    "fig, ax = plt.subplots(figsize=(8,5))\n",
    "_ = plt.plot(x_theor, y_theor)\n",
    "_ = plt.plot(x, y, marker='.', linestyle='none')\n",
    "_ = plt.xlabel('Body Temperature')\n",
    "_ = plt.ylabel('CDF')\n",
    "\n",
    "# Overlay temp percentiles as red diamonds.\n",
    "_ = plt.plot(ptiles_temp, percentiles/100, marker='D', color='red', linestyle='none')\n",
    "# Overlay theoretical percentiles as blue diamonds.\n",
    "_ = plt.plot(ptiles_theor, percentiles/100, marker='D', color='blue', linestyle='none')\n",
    "\n",
    "plt.legend(['Normal Distribution', 'Sample Temperatures'])\n",
    "\n",
    "plt.show()"
   ]
  },
  {
   "cell_type": "markdown",
   "metadata": {},
   "source": [
    "We can see from the CDF plot that the quartiles line up fairly well. Although the right tail (97.5th percentile) differs slightly from the theoretical model, it is not unreasonabe to consider the data to be normally distributed."
   ]
  },
  {
   "cell_type": "code",
   "execution_count": 11,
   "metadata": {},
   "outputs": [
    {
     "data": {
      "image/png": "[encoded data removed]",
      "text/plain": [
       "<Figure size 432x288 with 1 Axes>"
      ]
     },
     "metadata": {},
     "output_type": "display_data"
    }
   ],
   "source": [
    "# FEMALES: Comparing data to a normal distribution\n",
    "\n",
    "# Compute mean and standard deviation: mu, sigma\n",
    "mu = np.mean(temp_f)\n",
    "sigma = np.std(temp_f)\n",
    "\n",
    "\n",
    "# Sample out of a normal distribution with this mu and sigma: samples\n",
    "normal = np.random.normal(loc=mu, scale=sigma, size=10000)\n",
    "\n",
    "# Get the CDF of the samples and of the data\n",
    "x_theor, y_theor = ecdf(normal)\n",
    "x, y = ecdf(temp_f)\n",
    "\n",
    "\n",
    "# Plot the CDFs\n",
    "_ = plt.plot(x_theor, y_theor)\n",
    "_ = plt.plot(x, y, marker='.', linestyle='none', color='blue')\n",
    "_ = plt.xlabel('Body Temperature (Females)')\n",
    "_ = plt.ylabel('CDF')\n",
    "\n",
    "plt.legend(['Normal Distribution', 'Female Temperatures'])\n",
    "\n",
    "plt.show()"
   ]
  },
  {
   "cell_type": "code",
   "execution_count": 12,
   "metadata": {},
   "outputs": [
    {
     "data": {
      "image/png": "[encoded data removed]",
      "text/plain": [
       "<Figure size 432x288 with 1 Axes>"
      ]
     },
     "metadata": {},
     "output_type": "display_data"
    }
   ],
   "source": [
    "# MALES: Comparing data to a normal distribution\n",
    "\n",
    "# Compute mean and standard deviation: mu, sigma\n",
    "mu = np.mean(temp_m)\n",
    "sigma = np.std(temp_m)\n",
    "\n",
    "\n",
    "# Sample out of a normal distribution with this mu and sigma: samples\n",
    "normal = np.random.normal(loc=mu, scale=sigma, size=10000)\n",
    "\n",
    "# Get the CDF of the samples and of the data\n",
    "x_theor, y_theor = ecdf(normal)\n",
    "x, y = ecdf(temp_m)\n",
    "\n",
    "\n",
    "# Plot the CDFs\n",
    "_ = plt.plot(x_theor, y_theor)\n",
    "_ = plt.plot(x, y, marker='.', linestyle='none')\n",
    "_ = plt.xlabel('Body Temperature (Males)')\n",
    "_ = plt.ylabel('CDF')\n",
    "\n",
    "plt.legend(['Normal Distribution', 'Male Temperatures'])\n",
    "\n",
    "plt.show()"
   ]
  },
  {
   "cell_type": "markdown",
   "metadata": {},
   "source": [
    "#### Quantitative Normality Test"
   ]
  },
  {
   "cell_type": "code",
   "execution_count": 13,
   "metadata": {},
   "outputs": [
    {
     "name": "stdout",
     "output_type": "stream",
     "text": [
      "All Samples:  NormaltestResult(statistic=2.703801433319203, pvalue=0.2587479863488254)\n",
      "Male Samples:  NormaltestResult(statistic=0.8911999666950502, pvalue=0.6404399074569123)\n",
      "Female Samples:  NormaltestResult(statistic=4.7354381129084, pvalue=0.09369419389856398)\n"
     ]
    }
   ],
   "source": [
    "print(\"All Samples: \", stats.normaltest(temp_all))\n",
    "print(\"Male Samples: \", stats.normaltest(temp_m))\n",
    "print(\"Female Samples: \", stats.normaltest(temp_f))"
   ]
  },
  {
   "cell_type": "markdown",
   "metadata": {},
   "source": [
    "P-values for male, female and the combined data fall within a 95% confidence level of normality. Our visual and quantitative inspection of the data supports our assumption that the data is normally distributed. "
   ]
  },
  {
   "cell_type": "markdown",
   "metadata": {},
   "source": [
    "### 2. Sample Size and Independence\n",
    "  \n",
    "\n",
    "The Central Limit Theorem says that when independent random variables are averaged, their mean tends toward a normal distribution even if the original variables themselves are not normally distributed. This generally holds true for sample sizes of n > 30. Our sample contains 65 male temperatures and 65 female temperatures, for a total of n = 130. This is sufficiently large enough to meet the independence condition for the Central Limit Theorem."
   ]
  },
  {
   "cell_type": "markdown",
   "metadata": {},
   "source": [
    "### 3. Is the true population mean really 98.6 degrees F?\n",
    "\n",
    "#### First, we try a bootstrap hypothesis test.\n",
    "Let's assume that mean human body temperature is indeed the widely accepted 98.6 degrees. We'll replicate \n",
    "\n",
    "* H<sub>0</sub>: Our null hypothesis is that the mean human body temperature is 98.6 degrees F (x = 98.6)\n",
    "* H<sub>a</sub>: Our alternative hypothesis is that the mean human body temperature is less than 98.6 degrees F (x < 98.6)\n",
    "* _&alpha;_: Set alpha to be within a 95% confidence level"
   ]
  },
  {
   "cell_type": "code",
   "execution_count": 14,
   "metadata": {},
   "outputs": [],
   "source": [
    "# Generating many bootstrap replicates\n",
    "\n",
    "def bootstrap_replicate_1d(data, func):\n",
    "    \"\"\"Generate bootstrap replicate of 1D data.\"\"\"\n",
    "    bs_sample = np.random.choice(data, len(data))\n",
    "    return func(bs_sample) \n",
    "\n",
    "def draw_bs_reps(data, func, size=1):\n",
    "    \"\"\"Draw bootstrap replicates.\"\"\"\n",
    "\n",
    "    # Initialize array of replicates: bs_replicates\n",
    "    bs_replicates = np.empty(size)\n",
    "\n",
    "    # Generate replicates\n",
    "    for i in range(size):\n",
    "        bs_replicates[i] = bootstrap_replicate_1d(data, func)\n",
    "\n",
    "    return bs_replicates"
   ]
  },
  {
   "cell_type": "code",
   "execution_count": 15,
   "metadata": {},
   "outputs": [
    {
     "name": "stdout",
     "output_type": "stream",
     "text": [
      "p =  0.0\n",
      "Min replicated mean: 98.34923076923079\n",
      "Max replicated mean: 98.85615384615387\n"
     ]
    }
   ],
   "source": [
    "# Make an array of translated body tempratures\n",
    "translated_temps = temp_all + 98.6 - np.mean(temp_all)\n",
    "\n",
    "# Take bootstrap replicates of translated body tempratures\n",
    "bs_replicates = draw_bs_reps(translated_temps, np.mean, 10000)\n",
    "\n",
    "# Compute fraction of replicates that are less than the observed temperatures\n",
    "p = np.sum(bs_replicates <= np.mean(temp_all)) / 10000\n",
    "\n",
    "# Print the p-value\n",
    "print('p = ', p)\n",
    "\n",
    "print(\"Min replicated mean:\", min(bs_replicates))\n",
    "print(\"Max replicated mean:\", max(bs_replicates))"
   ]
  },
  {
   "cell_type": "markdown",
   "metadata": {},
   "source": [
    "The p-value of 0 is less than alpha, our significance level. Even when we increase the number of trials to be 1,000,000, the p-value is 0. In other words, assmuing the mean temperature is 98.6 degrees, there is _less than_ one in a million chance of getting a mean of 98.25 or less. Thus, we will reject the null hypothesis. **Our data strongly suggests the mean human body temperature is less than 98.6 degrees F.**"
   ]
  },
  {
   "cell_type": "markdown",
   "metadata": {},
   "source": [
    "### Now, let's try frequentist statistical testing. \n",
    "* We will use a one sample test, as we're comparing our total sample against a statistic.\n",
    "* Should we use a t statistic or z statistic for our test? Generally, z scores are used when the population standard deviation is known. If it is not known, calculations must be made with the sample's standard deviation. This can lead to an over estimation of the p-value, particularly when the sample size is small. Using a t score will reduce these estimation errors. However, when the sample size is sufficiently large (N > 30), the z and t statistics produce similar results. As our sample has 130 observations, we can use either statistic. \n",
    "\n",
    "#### Z-statistic\n",
    "\n",
    "*Known values*\n",
    " - Sample mean: $\\bar{x}$ = 98.249231\n",
    " - Sample standard deviation: s<sub>x</sub> = 0.733183\n",
    " - Sample count: n = 130\n",
    " \n",
    "*Assumptions*\n",
    " - Assumed population Mean: $\\mu$<sub>0</sub> = 98.6\n",
    " - Population standard deviation is unknown $\\sigma$ = ?\n",
    " - Estimate with sample std: $\\sigma$ = $\\frac{ s }{\\sqrt{n}}$ = $\\frac{0.733183}{\\sqrt{130}}$ = 0.064304\n",
    " \n",
    "*Statistic calculation*\n",
    " - z = $\\frac{\\bar{x} - \\mu}{\\sigma}$\n"
   ]
  },
  {
   "cell_type": "code",
   "execution_count": 16,
   "metadata": {},
   "outputs": [
    {
     "name": "stdout",
     "output_type": "stream",
     "text": [
      "The z-score for 98.25 degrees is: -5.4759252020785585\n",
      "The p-value is: 2.1761575829356528e-08\n",
      "\n",
      "0.5 percentile: 98.43338571710429\n",
      "99.5 percentile: 98.76050524965532\n"
     ]
    }
   ],
   "source": [
    "def z_stat (data, hyp_mean):\n",
    "    mu_0 = hyp_mean\n",
    "    x = np.mean(data)\n",
    "    s = np.std(data)\n",
    "    n = len(data)\n",
    "    \n",
    "    # Calculate z-score\n",
    "    z = (x - mu_0)/(s/np.sqrt(n))\n",
    "    \n",
    "    # Calculate p-value\n",
    "    p = stats.norm.cdf(z)\n",
    "    return (z, p)\n",
    "\n",
    "z_all, p_all = z_stat(temp_all, 98.6)\n",
    "print('The z-score for {} degrees is: {}'.format(98.25, z_all))\n",
    "print('The p-value is: {}'.format(p_all))\n",
    "\n",
    "#Sample the normal distribution with a mean of 98.6 and standard deviation of 0.064\n",
    "hypothesized_mean_distribution = np.random.normal(98.6, 0.064, size = 10000)\n",
    "#Calculate the 99th percentile\n",
    "percentiles = np.percentile(hypothesized_mean_distribution, [0.5,99.5])\n",
    "\n",
    "print('\\n0.5 percentile: {}\\n99.5 percentile: {}'.format(percentiles[0],\n",
    "                                                         percentiles[1]))"
   ]
  },
  {
   "cell_type": "markdown",
   "metadata": {},
   "source": [
    "#### T - Statistic"
   ]
  },
  {
   "cell_type": "code",
   "execution_count": 17,
   "metadata": {
    "scrolled": true
   },
   "outputs": [
    {
     "data": {
      "text/plain": [
       "Ttest_1sampResult(statistic=-5.4548232923645195, pvalue=2.4106320415561276e-07)"
      ]
     },
     "execution_count": 17,
     "metadata": {},
     "output_type": "execute_result"
    }
   ],
   "source": [
    "stats.ttest_1samp(temp_all, 98.6)"
   ]
  },
  {
   "cell_type": "raw",
   "metadata": {},
   "source": [
    "Under the assumption that the true mean temperature is 98.6, our sample mean of 98.25 is well outside of a 99 percent confidence interval. The z- and t-scores both give a near zero p-value."
   ]
  },
  {
   "cell_type": "markdown",
   "metadata": {},
   "source": [
    "### 4. Draw a small sample of size 10 from the data and repeat both frequentist tests.\n",
    "* When examining samples of n < 30, it is customary to use a t-test instead of a z-test.\n",
    "* As demostrated below, the t-test will give a higher p-value "
   ]
  },
  {
   "cell_type": "code",
   "execution_count": 18,
   "metadata": {},
   "outputs": [
    {
     "data": {
      "text/html": [
       "<div>\n",
       "<style scoped>\n",
       "    .dataframe tbody tr th:only-of-type {\n",
       "        vertical-align: middle;\n",
       "    }\n",
       "\n",
       "    .dataframe tbody tr th {\n",
       "        vertical-align: top;\n",
       "    }\n",
       "\n",
       "    .dataframe thead th {\n",
       "        text-align: right;\n",
       "    }\n",
       "</style>\n",
       "<table border=\"1\" class=\"dataframe\">\n",
       "  <thead>\n",
       "    <tr style=\"text-align: right;\">\n",
       "      <th></th>\n",
       "      <th>z-score</th>\n",
       "      <th>p-value (z)</th>\n",
       "      <th>t-score</th>\n",
       "      <th>p-value (t)</th>\n",
       "    </tr>\n",
       "  </thead>\n",
       "  <tbody>\n",
       "    <tr>\n",
       "      <th>0</th>\n",
       "      <td>-3.047182</td>\n",
       "      <td>0.001155</td>\n",
       "      <td>-2.890811</td>\n",
       "      <td>0.017861</td>\n",
       "    </tr>\n",
       "    <tr>\n",
       "      <th>1</th>\n",
       "      <td>-1.753470</td>\n",
       "      <td>0.039761</td>\n",
       "      <td>-1.663488</td>\n",
       "      <td>0.130575</td>\n",
       "    </tr>\n",
       "    <tr>\n",
       "      <th>2</th>\n",
       "      <td>-1.044544</td>\n",
       "      <td>0.148117</td>\n",
       "      <td>-0.990942</td>\n",
       "      <td>0.347606</td>\n",
       "    </tr>\n",
       "    <tr>\n",
       "      <th>3</th>\n",
       "      <td>-1.198403</td>\n",
       "      <td>0.115380</td>\n",
       "      <td>-1.136905</td>\n",
       "      <td>0.284941</td>\n",
       "    </tr>\n",
       "    <tr>\n",
       "      <th>4</th>\n",
       "      <td>-0.543928</td>\n",
       "      <td>0.293245</td>\n",
       "      <td>-0.516016</td>\n",
       "      <td>0.618281</td>\n",
       "    </tr>\n",
       "  </tbody>\n",
       "</table>\n",
       "</div>"
      ],
      "text/plain": [
       "    z-score  p-value (z)   t-score  p-value (t)\n",
       "0 -3.047182     0.001155 -2.890811     0.017861\n",
       "1 -1.753470     0.039761 -1.663488     0.130575\n",
       "2 -1.044544     0.148117 -0.990942     0.347606\n",
       "3 -1.198403     0.115380 -1.136905     0.284941\n",
       "4 -0.543928     0.293245 -0.516016     0.618281"
      ]
     },
     "execution_count": 18,
     "metadata": {},
     "output_type": "execute_result"
    }
   ],
   "source": [
    "z_test = []\n",
    "t_test = []\n",
    "\n",
    "\n",
    "# Run 5 trials\n",
    "for i in range(5):\n",
    "    \n",
    "    # Extract sample of size 10 from the data\n",
    "    sample_of_10 = np.random.choice(temp_all, 10)\n",
    "    \n",
    "    # Calculate Z and t statistics with corresponding p-value\n",
    "    z, p_z = z_stat(sample_of_10, 98.6)\n",
    "    t, p_t = stats.ttest_1samp(sample_of_10, 98.6)\n",
    "    \n",
    "    #append results to each list\n",
    "    z_test.append((z, p_z))\n",
    "    t_test.append((t, p_t))\n",
    "\n",
    "# Transform results into dataframes for readability\n",
    "z_statistics = pd.DataFrame(z_test, columns=['z-score', 'p-value (z)'])\n",
    "t_statistics = pd.DataFrame(t_test, columns=['t-score', 'p-value (t)'])\n",
    "\n",
    "# Combine the results into one table\n",
    "trials = pd.concat([z_statistics, t_statistics], axis=1)\n",
    "trials"
   ]
  },
  {
   "cell_type": "markdown",
   "metadata": {},
   "source": [
    "### 5. At what temperature should we consider someone's temperature to be \"abnormal\"?\n",
    "* We will consider a temperature to be abnormal if it's outside of the 99% of the normal distribution.\n",
    "* For a 99% confidence interval, we'll use a z-value of 2.58 to calculate the margin of error.\n",
    "* Margin of error = z * $\\sigma / \\sqrt{n}$"
   ]
  },
  {
   "cell_type": "code",
   "execution_count": 19,
   "metadata": {},
   "outputs": [
    {
     "name": "stdout",
     "output_type": "stream",
     "text": [
      "\n",
      "0.5 percentile: 98.08257800937947\n",
      "99.5 percentile: 98.41383198521436\n",
      "Margin of error =  0.1652660659135989\n"
     ]
    }
   ],
   "source": [
    "# Sample the normal distribution with our data's mean of 98.25 and standard deviation of 0.064\n",
    "sample_distribution = np.random.normal(98.25, 0.064, size = 10000)\n",
    "\n",
    "# Calculate the 99th percentile\n",
    "percentiles = np.percentile(sample_distribution, [0.5,99.5])\n",
    "\n",
    "print('\\n0.5 percentile: {}\\n99.5 percentile: {}'.format(percentiles[0],\n",
    "                                                         percentiles[1]))\n",
    "\n",
    "# Calculate margin or error\n",
    "margin_error = 2.58 * np.std(temp_all) / np.sqrt(len(temp_all))\n",
    "\n",
    "print(\"Margin of error = \", margin_error)"
   ]
  },
  {
   "cell_type": "code",
   "execution_count": 20,
   "metadata": {
    "scrolled": true
   },
   "outputs": [
    {
     "name": "stdout",
     "output_type": "stream",
     "text": [
      "Mean: 98.249911\n",
      "SEM: 0.06405661469519337\n",
      "STD: 0.06420972807598328\n",
      "95% Confidence interval: [98.12230769 98.37538462]\n"
     ]
    },
    {
     "data": {
      "image/png": "[encoded data removed]",
      "text/plain": [
       "<Figure size 432x288 with 1 Axes>"
      ]
     },
     "metadata": {},
     "output_type": "display_data"
    }
   ],
   "source": [
    "# What does the data suggest is the mean human body temperature?\n",
    "\n",
    "\n",
    "# Take 10,000 bootstrap replicates of the mean\n",
    "bs_replicates = draw_bs_reps(data=temp_all, func=np.mean, size=10000)\n",
    "\n",
    "# Compute and print the mean of the means\n",
    "mean = np.mean(bs_replicates)\n",
    "print(\"Mean:\", mean)\n",
    "\n",
    "# Compute and print the standard error of the mean (SEM)\n",
    "sem = np.std(temp_all) / np.sqrt(len(temp_all))\n",
    "print(\"SEM:\", sem)\n",
    "\n",
    "# Compute and print standard deviation of bootstrap replicates\n",
    "bs_std = np.std(bs_replicates)\n",
    "print(\"STD:\", bs_std)\n",
    "\n",
    "# Compute and print confidence interval\n",
    "conf_int = np.percentile(bs_replicates, [2.5, 97.5])\n",
    "print(\"95% Confidence interval:\", conf_int)\n",
    "\n",
    "# Make a histogram of the results\n",
    "_ = plt.hist(bs_replicates, bins=25, density=True)\n",
    "_ = plt.xlabel('Mean Body Temperature (F)')\n",
    "_ = plt.ylabel('PDF')\n",
    "\n",
    "# Show the plot\n",
    "plt.show()"
   ]
  },
  {
   "cell_type": "markdown",
   "metadata": {},
   "source": [
    "### 6. Is there a significant difference between males and females in normal temperature?\n",
    "* What testing approach did you use and why?\n",
    "* Write a story with your conclusion in the context of the original problem.\n",
    "\n",
    "#### Visual inspection"
   ]
  },
  {
   "cell_type": "code",
   "execution_count": 21,
   "metadata": {},
   "outputs": [
    {
     "data": {
      "image/png": "[encoded data removed]",
      "text/plain": [
       "<Figure size 432x288 with 1 Axes>"
      ]
     },
     "metadata": {},
     "output_type": "display_data"
    }
   ],
   "source": [
    "# Bee swarm plot\n",
    "_ = sns.swarmplot(x= 'gender', y= 'temperature', data= df)\n",
    "\n",
    "# Label the axes\n",
    "_ = plt.xlabel('Gender')\n",
    "_ = plt.ylabel('Body Temperature')\n",
    "\n",
    "# Show the plot\n",
    "plt.show()"
   ]
  },
  {
   "cell_type": "code",
   "execution_count": 22,
   "metadata": {
    "scrolled": true
   },
   "outputs": [
    {
     "data": {
      "image/png": "[encoded data removed]",
      "text/plain": [
       "<Figure size 432x288 with 1 Axes>"
      ]
     },
     "metadata": {},
     "output_type": "display_data"
    }
   ],
   "source": [
    "# Compute ECDFs\n",
    "#x_all, y_all = ecdf(temp_all)\n",
    "x_f, y_f = ecdf(temp_f)\n",
    "x_m, y_m = ecdf(temp_m)\n",
    "\n",
    "\n",
    "\n",
    "# Plot all ECDFs on the same plot\n",
    "#_ = plt.plot(x_all, y_all, marker = '.', linestyle='none')\n",
    "_ = plt.plot(x_f, y_f, marker = '.', linestyle='none')\n",
    "_ = plt.plot(x_m, y_m, marker = '.', linestyle='none')\n",
    "\n",
    "\n",
    "#plt.legend(('All', 'Males', 'Females'), loc='lower right')\n",
    "plt.legend(('Females', 'Males'), loc='lower right')\n",
    "_ = plt.xlabel('Body Temperature')\n",
    "_ = plt.ylabel('ECDF')\n",
    "\n",
    "plt.show()"
   ]
  },
  {
   "cell_type": "markdown",
   "metadata": {},
   "source": [
    "The difference in mean temperature is much clearer in the ECDF. The mean is larger in the female data, and the variance appears larger as well."
   ]
  },
  {
   "cell_type": "markdown",
   "metadata": {},
   "source": [
    "### Two Sample Test\n",
    "We will hypothesize that there's no difference between male and female temperatures. What is the probability we would find data showing a difference of 0.289 degrees?\n",
    "\n",
    "#### Bootstrap method"
   ]
  },
  {
   "cell_type": "code",
   "execution_count": 23,
   "metadata": {},
   "outputs": [
    {
     "name": "stdout",
     "output_type": "stream",
     "text": [
      "difference of means = 0.2892307692307696\n",
      "95% confidence interval = [-0.24307692  0.24311538]\n",
      "p-value = 0.0101\n"
     ]
    }
   ],
   "source": [
    "# Compute mean of all forces: mean_force\n",
    "mean_temp = np.mean(temp_all)\n",
    "\n",
    "# Calculate difference in female and male sample means\n",
    "mean_diff = np.mean(temp_f) - np.mean(temp_m)\n",
    "\n",
    "# Generate shifted arrays\n",
    "temp_f_shifted = temp_f - np.mean(temp_f) + mean_temp\n",
    "temp_m_shifted = temp_m - np.mean(temp_m) + mean_temp\n",
    "\n",
    "# Compute 10,000 bootstrap replicates from shifted arrays\n",
    "bs_replicates_f = draw_bs_reps(temp_f_shifted, np.mean, 10000)\n",
    "bs_replicates_m = draw_bs_reps(temp_m_shifted, np.mean, 10000)\n",
    "\n",
    "# Get replicates of difference of means: bs_replicates\n",
    "bs_replicates = bs_replicates_f - bs_replicates_m\n",
    "\n",
    "# Compute and print p-value: p\n",
    "p = np.sum(bs_replicates >= mean_diff) / len(bs_replicates)\n",
    "\n",
    "# Compute 95% confidence interval: conf_int\n",
    "conf_int = np.percentile(bs_replicates, [2.5, 97.5])\n",
    "\n",
    "# Print the results\n",
    "print('difference of means =', mean_diff)\n",
    "print('95% confidence interval =', conf_int)\n",
    "print('p-value =', p)"
   ]
  },
  {
   "cell_type": "markdown",
   "metadata": {},
   "source": [
    "#### Frequentist method"
   ]
  },
  {
   "cell_type": "code",
   "execution_count": 24,
   "metadata": {},
   "outputs": [
    {
     "name": "stdout",
     "output_type": "stream",
     "text": [
      "difference of means = 0.2892307692307696\n",
      "95% confidence interval = [-0.24773717  0.24584111]\n",
      "z-score = 2.3032202891943516\n",
      "p-value = 0.010633225915055111\n"
     ]
    }
   ],
   "source": [
    "# Calculate difference in female and male sample means\n",
    "mean_diff = np.mean(temp_f) - np.mean(temp_m)\n",
    "\n",
    "# Standard deviation of the male sample\n",
    "std_m = np.std(temp_m)\n",
    "#Standard deviation of the female sample\n",
    "std_f = np.std(temp_f)\n",
    "\n",
    "# Calculate standard error of means\n",
    "std_diff = np.sqrt((std_f**2 / len(temp_f)) + (std_m**2 / len(temp_m)))\n",
    "\n",
    "# Sample normal distribution assuming mean difference of 0\n",
    "normal_diff = np.random.normal(0, std_diff, 10000)\n",
    "\n",
    "# Calculate the z-score\n",
    "z_score = (mean_diff - 0) / std_diff\n",
    "\n",
    "# Calculate p-value\n",
    "p = stats.norm.cdf(z_score)\n",
    "\n",
    "# Compute 95% confidence interval: conf_int\n",
    "conf_int = np.percentile(normal_diff, [2.5, 97.5])\n",
    "\n",
    "# Print the results\n",
    "print('difference of means =', mean_diff)\n",
    "print('95% confidence interval =', conf_int)\n",
    "print('z-score =', z_score)\n",
    "print('p-value =', (1-p))\n"
   ]
  },
  {
   "cell_type": "markdown",
   "metadata": {},
   "source": [
    "There is approximately a 1% probability the male and female temperatures would differ as much as they do simply by random chance. This puts our 0.289 difference of means outside our desired 95% confidence interval. We conclude there is indeed a difference between male and female normal temperatures.\n",
    "\n",
    "### How much do male and female temperatures differ?"
   ]
  },
  {
   "cell_type": "code",
   "execution_count": 25,
   "metadata": {},
   "outputs": [
    {
     "name": "stdout",
     "output_type": "stream",
     "text": [
      "difference of means = 0.2892307692307696 degrees\n",
      "95% confidence interval = [0.03846154 0.53384615] degrees\n"
     ]
    }
   ],
   "source": [
    "# Compute the difference of the sample means: mean_diff\n",
    "mean_diff = np.mean(temp_f) - np.mean(temp_m)\n",
    "\n",
    "# Get bootstrap replicates of means\n",
    "bs_replicates_f = draw_bs_reps(temp_f, np.mean, 10000)\n",
    "bs_replicates_m = draw_bs_reps(temp_m, np.mean, 10000)\n",
    "\n",
    "# Compute samples of difference of means: bs_diff_replicates\n",
    "bs_diff_replicates = bs_replicates_f - bs_replicates_m\n",
    "\n",
    "# Compute 95% confidence interval: conf_int\n",
    "conf_int = np.percentile(bs_diff_replicates, [2.5, 97.5])\n",
    "\n",
    "# Print the results\n",
    "print('difference of means =', mean_diff, 'degrees')\n",
    "print('95% confidence interval =', conf_int, 'degrees')"
   ]
  },
  {
   "cell_type": "markdown",
   "metadata": {},
   "source": [
    "## Conclusion\n",
    "The mean human body temperature is below 98.6 degrees. This data leads us to infer the following:\n",
    "* Normal temperatures fall within ***98.08 to 98.42 degrees***\n",
    "* We are 95% confident that the true mean is within 98.12 to 98.37 degrees.\n",
    "* Female body temperatures are higher than male temperatures by approximately 0.289 degrees, with a 95% confidence interval of 0.04 to 0.53 degrees higher."
   ]
  },
  {
   "cell_type": "code",
   "execution_count": null,
   "metadata": {},
   "outputs": [],
   "source": []
  }
 ],
 "metadata": {
  "kernelspec": {
   "display_name": "Python 3",
   "language": "python",
   "name": "python3"
  },
  "language_info": {
   "codemirror_mode": {
    "name": "ipython",
    "version": 3
   },
   "file_extension": ".py",
   "mimetype": "text/x-python",
   "name": "python",
   "nbconvert_exporter": "python",
   "pygments_lexer": "ipython3",
   "version": "3.6.6"
  }
 },
 "nbformat": 4,
 "nbformat_minor": 1
}
