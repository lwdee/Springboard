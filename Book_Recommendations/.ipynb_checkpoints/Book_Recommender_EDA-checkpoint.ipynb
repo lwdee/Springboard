{
 "cells": [
  {
   "cell_type": "markdown",
   "metadata": {},
   "source": [
    "# Exploratory Data Analysis\n",
    "- Average ratings\n",
    "    - Mean\n",
    "    - Rating minus mean\n",
    "    \n",
    "- Number of ratings\n",
    "- Most rated books\n",
    "- Highest rated books\n",
    "- Highest variance of ratings\n",
    "- Books not on a to-read list\n",
    "- Books most people have in common (network)\n",
    "- Correlations between average rating and length of to-read list?\n",
    "- Correlations between number of rating and length of to-read list?\n",
    "- Ratio of number of ratings (have read) vs. to-read. (What books do people say they want to read, but aren't actually reading?)\n",
    "- Variety of genres per user\n",
    "- Rating distribution per genre\n",
    "- Genres most likely to be rated highly by the same users?\n",
    "- Go through each feature and see how it affects ratings"
   ]
  },
  {
   "cell_type": "code",
   "execution_count": null,
   "metadata": {},
   "outputs": [],
   "source": []
  },
  {
   "cell_type": "code",
   "execution_count": null,
   "metadata": {},
   "outputs": [],
   "source": []
  },
  {
   "cell_type": "code",
   "execution_count": null,
   "metadata": {},
   "outputs": [],
   "source": []
  },
  {
   "cell_type": "code",
   "execution_count": null,
   "metadata": {},
   "outputs": [],
   "source": []
  },
  {
   "cell_type": "code",
   "execution_count": null,
   "metadata": {},
   "outputs": [],
   "source": []
  },
  {
   "cell_type": "code",
   "execution_count": null,
   "metadata": {},
   "outputs": [],
   "source": []
  },
  {
   "cell_type": "code",
   "execution_count": null,
   "metadata": {},
   "outputs": [],
   "source": []
  },
  {
   "cell_type": "code",
   "execution_count": null,
   "metadata": {},
   "outputs": [],
   "source": []
  },
  {
   "cell_type": "code",
   "execution_count": null,
   "metadata": {},
   "outputs": [],
   "source": []
  }
 ],
 "metadata": {
  "kernelspec": {
   "display_name": "Python 3",
   "language": "python",
   "name": "python3"
  },
  "language_info": {
   "codemirror_mode": {
    "name": "ipython",
    "version": 3
   },
   "file_extension": ".py",
   "mimetype": "text/x-python",
   "name": "python",
   "nbconvert_exporter": "python",
   "pygments_lexer": "ipython3",
   "version": "3.6.8"
  }
 },
 "nbformat": 4,
 "nbformat_minor": 2
}
