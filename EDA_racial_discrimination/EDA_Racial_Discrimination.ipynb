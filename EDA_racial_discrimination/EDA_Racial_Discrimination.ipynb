{
 "cells": [
  {
   "cell_type": "markdown",
   "metadata": {},
   "source": [
    "# Examining Racial Discrimination in the US Job Market\n",
    "\n",
    "### Background\n",
    "Racial discrimination continues to be pervasive in cultures throughout the world. Researchers examined the level of racial discrimination in the United States labor market by randomly assigning identical résumés to black-sounding or white-sounding names and observing the impact on requests for interviews from employers.\n",
    "\n",
    "### Data\n",
    "In the dataset provided, each row represents a resume. The 'race' column has two values, 'b' and 'w', indicating black-sounding and white-sounding. The column 'call' has two values, 1 and 0, indicating whether the resume received a call from employers or not.\n",
    "\n",
    "Note that the 'b' and 'w' values in race are assigned randomly to the resumes when presented to the employer."
   ]
  },
  {
   "cell_type": "markdown",
   "metadata": {},
   "source": [
    "<div class=\"span5 alert alert-info\">\n",
    "### Exercises\n",
    "You will perform a statistical analysis to establish whether race has a significant impact on the rate of callbacks for resumes.\n",
    "\n",
    "Answer the following questions **in this notebook below and submit to your Github account**. \n",
    "\n",
    "   1. What test is appropriate for this problem? Does CLT apply?\n",
    "   2. What are the null and alternate hypotheses?\n",
    "   3. Compute margin of error, confidence interval, and p-value. Try using both the bootstrapping and the frequentist statistical approaches.\n",
    "   4. Write a story describing the statistical significance in the context or the original problem.\n",
    "   5. Does your analysis mean that race/name is the most important factor in callback success? Why or why not? If not, how would you amend your analysis?\n",
    "\n",
    "You can include written notes in notebook cells using Markdown: \n",
    "   - In the control panel at the top, choose Cell > Cell Type > Markdown\n",
    "   - Markdown syntax: http://nestacms.com/docs/creating-content/markdown-cheat-sheet\n",
    "\n",
    "\n",
    "#### Resources\n",
    "+ Experiment information and data source: http://www.povertyactionlab.org/evaluation/discrimination-job-market-united-states\n",
    "+ Scipy statistical methods: http://docs.scipy.org/doc/scipy/reference/stats.html \n",
    "+ Markdown syntax: http://nestacms.com/docs/creating-content/markdown-cheat-sheet\n",
    "+ Formulas for the Bernoulli distribution: https://en.wikipedia.org/wiki/Bernoulli_distribution\n",
    "</div>\n",
    "****"
   ]
  },
  {
   "cell_type": "code",
   "execution_count": 1,
   "metadata": {},
   "outputs": [],
   "source": [
    "import pandas as pd\n",
    "import numpy as np\n",
    "from scipy import stats\n",
    "import matplotlib.pyplot as plt\n",
    "import seaborn as sns\n",
    "sns.set()"
   ]
  },
  {
   "cell_type": "code",
   "execution_count": 2,
   "metadata": {},
   "outputs": [],
   "source": [
    "data = pd.io.stata.read_stata('data/us_job_market_discrimination.dta')"
   ]
  },
  {
   "cell_type": "code",
   "execution_count": 3,
   "metadata": {},
   "outputs": [
    {
     "data": {
      "text/html": [
       "<div>\n",
       "<style scoped>\n",
       "    .dataframe tbody tr th:only-of-type {\n",
       "        vertical-align: middle;\n",
       "    }\n",
       "\n",
       "    .dataframe tbody tr th {\n",
       "        vertical-align: top;\n",
       "    }\n",
       "\n",
       "    .dataframe thead th {\n",
       "        text-align: right;\n",
       "    }\n",
       "</style>\n",
       "<table border=\"1\" class=\"dataframe\">\n",
       "  <thead>\n",
       "    <tr style=\"text-align: right;\">\n",
       "      <th></th>\n",
       "      <th>id</th>\n",
       "      <th>ad</th>\n",
       "      <th>education</th>\n",
       "      <th>ofjobs</th>\n",
       "      <th>yearsexp</th>\n",
       "      <th>honors</th>\n",
       "      <th>volunteer</th>\n",
       "      <th>military</th>\n",
       "      <th>empholes</th>\n",
       "      <th>occupspecific</th>\n",
       "      <th>...</th>\n",
       "      <th>compreq</th>\n",
       "      <th>orgreq</th>\n",
       "      <th>manuf</th>\n",
       "      <th>transcom</th>\n",
       "      <th>bankreal</th>\n",
       "      <th>trade</th>\n",
       "      <th>busservice</th>\n",
       "      <th>othservice</th>\n",
       "      <th>missind</th>\n",
       "      <th>ownership</th>\n",
       "    </tr>\n",
       "  </thead>\n",
       "  <tbody>\n",
       "    <tr>\n",
       "      <th>0</th>\n",
       "      <td>b</td>\n",
       "      <td>1</td>\n",
       "      <td>4</td>\n",
       "      <td>2</td>\n",
       "      <td>6</td>\n",
       "      <td>0</td>\n",
       "      <td>0</td>\n",
       "      <td>0</td>\n",
       "      <td>1</td>\n",
       "      <td>17</td>\n",
       "      <td>...</td>\n",
       "      <td>1.0</td>\n",
       "      <td>0.0</td>\n",
       "      <td>1.0</td>\n",
       "      <td>0.0</td>\n",
       "      <td>0.0</td>\n",
       "      <td>0.0</td>\n",
       "      <td>0.0</td>\n",
       "      <td>0.0</td>\n",
       "      <td>0.0</td>\n",
       "      <td></td>\n",
       "    </tr>\n",
       "    <tr>\n",
       "      <th>1</th>\n",
       "      <td>b</td>\n",
       "      <td>1</td>\n",
       "      <td>3</td>\n",
       "      <td>3</td>\n",
       "      <td>6</td>\n",
       "      <td>0</td>\n",
       "      <td>1</td>\n",
       "      <td>1</td>\n",
       "      <td>0</td>\n",
       "      <td>316</td>\n",
       "      <td>...</td>\n",
       "      <td>1.0</td>\n",
       "      <td>0.0</td>\n",
       "      <td>1.0</td>\n",
       "      <td>0.0</td>\n",
       "      <td>0.0</td>\n",
       "      <td>0.0</td>\n",
       "      <td>0.0</td>\n",
       "      <td>0.0</td>\n",
       "      <td>0.0</td>\n",
       "      <td></td>\n",
       "    </tr>\n",
       "    <tr>\n",
       "      <th>2</th>\n",
       "      <td>b</td>\n",
       "      <td>1</td>\n",
       "      <td>4</td>\n",
       "      <td>1</td>\n",
       "      <td>6</td>\n",
       "      <td>0</td>\n",
       "      <td>0</td>\n",
       "      <td>0</td>\n",
       "      <td>0</td>\n",
       "      <td>19</td>\n",
       "      <td>...</td>\n",
       "      <td>1.0</td>\n",
       "      <td>0.0</td>\n",
       "      <td>1.0</td>\n",
       "      <td>0.0</td>\n",
       "      <td>0.0</td>\n",
       "      <td>0.0</td>\n",
       "      <td>0.0</td>\n",
       "      <td>0.0</td>\n",
       "      <td>0.0</td>\n",
       "      <td></td>\n",
       "    </tr>\n",
       "    <tr>\n",
       "      <th>3</th>\n",
       "      <td>b</td>\n",
       "      <td>1</td>\n",
       "      <td>3</td>\n",
       "      <td>4</td>\n",
       "      <td>6</td>\n",
       "      <td>0</td>\n",
       "      <td>1</td>\n",
       "      <td>0</td>\n",
       "      <td>1</td>\n",
       "      <td>313</td>\n",
       "      <td>...</td>\n",
       "      <td>1.0</td>\n",
       "      <td>0.0</td>\n",
       "      <td>1.0</td>\n",
       "      <td>0.0</td>\n",
       "      <td>0.0</td>\n",
       "      <td>0.0</td>\n",
       "      <td>0.0</td>\n",
       "      <td>0.0</td>\n",
       "      <td>0.0</td>\n",
       "      <td></td>\n",
       "    </tr>\n",
       "    <tr>\n",
       "      <th>4</th>\n",
       "      <td>b</td>\n",
       "      <td>1</td>\n",
       "      <td>3</td>\n",
       "      <td>3</td>\n",
       "      <td>22</td>\n",
       "      <td>0</td>\n",
       "      <td>0</td>\n",
       "      <td>0</td>\n",
       "      <td>0</td>\n",
       "      <td>313</td>\n",
       "      <td>...</td>\n",
       "      <td>1.0</td>\n",
       "      <td>1.0</td>\n",
       "      <td>0.0</td>\n",
       "      <td>0.0</td>\n",
       "      <td>0.0</td>\n",
       "      <td>0.0</td>\n",
       "      <td>0.0</td>\n",
       "      <td>1.0</td>\n",
       "      <td>0.0</td>\n",
       "      <td>Nonprofit</td>\n",
       "    </tr>\n",
       "  </tbody>\n",
       "</table>\n",
       "<p>5 rows × 65 columns</p>\n",
       "</div>"
      ],
      "text/plain": [
       "  id ad  education  ofjobs  yearsexp  honors  volunteer  military  empholes  \\\n",
       "0  b  1          4       2         6       0          0         0         1   \n",
       "1  b  1          3       3         6       0          1         1         0   \n",
       "2  b  1          4       1         6       0          0         0         0   \n",
       "3  b  1          3       4         6       0          1         0         1   \n",
       "4  b  1          3       3        22       0          0         0         0   \n",
       "\n",
       "   occupspecific    ...      compreq  orgreq  manuf  transcom  bankreal trade  \\\n",
       "0             17    ...          1.0     0.0    1.0       0.0       0.0   0.0   \n",
       "1            316    ...          1.0     0.0    1.0       0.0       0.0   0.0   \n",
       "2             19    ...          1.0     0.0    1.0       0.0       0.0   0.0   \n",
       "3            313    ...          1.0     0.0    1.0       0.0       0.0   0.0   \n",
       "4            313    ...          1.0     1.0    0.0       0.0       0.0   0.0   \n",
       "\n",
       "  busservice othservice  missind  ownership  \n",
       "0        0.0        0.0      0.0             \n",
       "1        0.0        0.0      0.0             \n",
       "2        0.0        0.0      0.0             \n",
       "3        0.0        0.0      0.0             \n",
       "4        0.0        1.0      0.0  Nonprofit  \n",
       "\n",
       "[5 rows x 65 columns]"
      ]
     },
     "execution_count": 3,
     "metadata": {},
     "output_type": "execute_result"
    }
   ],
   "source": [
    "data.head()"
   ]
  },
  {
   "cell_type": "code",
   "execution_count": 4,
   "metadata": {
    "scrolled": true
   },
   "outputs": [
    {
     "data": {
      "text/plain": [
       "Index(['id', 'ad', 'education', 'ofjobs', 'yearsexp', 'honors', 'volunteer',\n",
       "       'military', 'empholes', 'occupspecific', 'occupbroad', 'workinschool',\n",
       "       'email', 'computerskills', 'specialskills', 'firstname', 'sex', 'race',\n",
       "       'h', 'l', 'call', 'city', 'kind', 'adid', 'fracblack', 'fracwhite',\n",
       "       'lmedhhinc', 'fracdropout', 'fraccolp', 'linc', 'col', 'expminreq',\n",
       "       'schoolreq', 'eoe', 'parent_sales', 'parent_emp', 'branch_sales',\n",
       "       'branch_emp', 'fed', 'fracblack_empzip', 'fracwhite_empzip',\n",
       "       'lmedhhinc_empzip', 'fracdropout_empzip', 'fraccolp_empzip',\n",
       "       'linc_empzip', 'manager', 'supervisor', 'secretary', 'offsupport',\n",
       "       'salesrep', 'retailsales', 'req', 'expreq', 'comreq', 'educreq',\n",
       "       'compreq', 'orgreq', 'manuf', 'transcom', 'bankreal', 'trade',\n",
       "       'busservice', 'othservice', 'missind', 'ownership'],\n",
       "      dtype='object')"
      ]
     },
     "execution_count": 4,
     "metadata": {},
     "output_type": "execute_result"
    }
   ],
   "source": [
    "data.columns"
   ]
  },
  {
   "cell_type": "code",
   "execution_count": 5,
   "metadata": {
    "scrolled": true
   },
   "outputs": [
    {
     "data": {
      "text/plain": [
       "count    4870.000000\n",
       "mean        0.080493\n",
       "std         0.272083\n",
       "min         0.000000\n",
       "25%         0.000000\n",
       "50%         0.000000\n",
       "75%         0.000000\n",
       "max         1.000000\n",
       "Name: call, dtype: float64"
      ]
     },
     "execution_count": 5,
     "metadata": {},
     "output_type": "execute_result"
    }
   ],
   "source": [
    "data.call.describe()"
   ]
  },
  {
   "cell_type": "markdown",
   "metadata": {
    "collapsed": true
   },
   "source": [
    "### 1. What test is appropriate for this problem? Does CLT apply?\n",
    "To compare outcomes for distinct groups, we'll use a two-sample test to determine statistically significant differences between call back rates. The resume experiment can be viewed as Bernoulli trials. We will assume the process for assigning names and distibuting resumes was random and independent for each resume. As with all Bernoulli trials, two outcomes are possible: call back (1) or no call back (0). Based on the large size of this study, it's reasonable to consider the probability of a call back to be constant from trial to trial.\n",
    "\n",
    "Given we're working with Bernoulli trials, the partial sums of call backs will converge to a normal distribution. As the sample size is > 30 (N=4870), the Central Limit Theorem will apply.\n",
    "\n"
   ]
  },
  {
   "cell_type": "markdown",
   "metadata": {},
   "source": [
    "#### Call Statistics by Name Type\n",
    "* Sample size: n\n",
    "* Sample proportion of callbacks: p = (number of callbacks) / n\n",
    "* Sample standard deviation: s = $\\sqrt{p(1-p) / n}$"
   ]
  },
  {
   "cell_type": "code",
   "execution_count": 6,
   "metadata": {},
   "outputs": [
    {
     "data": {
      "text/html": [
       "<div>\n",
       "<style scoped>\n",
       "    .dataframe tbody tr th:only-of-type {\n",
       "        vertical-align: middle;\n",
       "    }\n",
       "\n",
       "    .dataframe tbody tr th {\n",
       "        vertical-align: top;\n",
       "    }\n",
       "\n",
       "    .dataframe thead th {\n",
       "        text-align: right;\n",
       "    }\n",
       "</style>\n",
       "<table border=\"1\" class=\"dataframe\">\n",
       "  <thead>\n",
       "    <tr style=\"text-align: right;\">\n",
       "      <th></th>\n",
       "      <th>Race</th>\n",
       "      <th>Sample Count (n)</th>\n",
       "      <th>Callbacks</th>\n",
       "      <th>Proportion Called (p)</th>\n",
       "      <th>Standard Deviation (std)</th>\n",
       "    </tr>\n",
       "  </thead>\n",
       "  <tbody>\n",
       "    <tr>\n",
       "      <th>0</th>\n",
       "      <td>All Names</td>\n",
       "      <td>4870</td>\n",
       "      <td>392.0</td>\n",
       "      <td>0.080493</td>\n",
       "      <td>0.003898</td>\n",
       "    </tr>\n",
       "    <tr>\n",
       "      <th>1</th>\n",
       "      <td>White Names</td>\n",
       "      <td>2435</td>\n",
       "      <td>235.0</td>\n",
       "      <td>0.096509</td>\n",
       "      <td>0.005984</td>\n",
       "    </tr>\n",
       "    <tr>\n",
       "      <th>2</th>\n",
       "      <td>Black Names</td>\n",
       "      <td>2435</td>\n",
       "      <td>157.0</td>\n",
       "      <td>0.064476</td>\n",
       "      <td>0.004977</td>\n",
       "    </tr>\n",
       "  </tbody>\n",
       "</table>\n",
       "</div>"
      ],
      "text/plain": [
       "          Race  Sample Count (n)  Callbacks  Proportion Called (p)  \\\n",
       "0    All Names              4870      392.0               0.080493   \n",
       "1  White Names              2435      235.0               0.096509   \n",
       "2  Black Names              2435      157.0               0.064476   \n",
       "\n",
       "   Standard Deviation (std)  \n",
       "0                  0.003898  \n",
       "1                  0.005984  \n",
       "2                  0.004977  "
      ]
     },
     "execution_count": 6,
     "metadata": {},
     "output_type": "execute_result"
    }
   ],
   "source": [
    "w = data[data.race=='w']\n",
    "b = data[data.race=='b']\n",
    "all_callbacks = sum(data.call)\n",
    "w_callbacks = sum(w.call)\n",
    "b_callbacks = sum(b.call)\n",
    "\n",
    "# Calculate callback proportion\n",
    "p_all = all_callbacks / len(data)\n",
    "p_w = w_callbacks / len(w)\n",
    "p_b = b_callbacks / len(b)\n",
    "\n",
    "# Calculate standard deviation\n",
    "std_all = np.sqrt((p_all*(1-p_all))/len(data))\n",
    "std_w = np.sqrt((p_w*(1-p_w))/len(w))\n",
    "std_b = np.sqrt((p_b*(1-p_b))/len(b))\n",
    "\n",
    "sample_stats = {'Race': ['All Names', 'White Names', 'Black Names'], 'Sample Count (n)': [len(data), len(w), len(b)], \n",
    "                'Callbacks': [all_callbacks, w_callbacks, b_callbacks], 'Proportion Called (p)': [p_all, p_w, p_b],\n",
    "                'Standard Deviation (std)': [std_all, std_w, std_b]}\n",
    "statistics = pd.DataFrame(sample_stats)\n",
    "statistics"
   ]
  },
  {
   "cell_type": "code",
   "execution_count": 7,
   "metadata": {},
   "outputs": [
    {
     "data": {
      "text/plain": [
       "1.4968205223649107"
      ]
     },
     "execution_count": 7,
     "metadata": {},
     "output_type": "execute_result"
    }
   ],
   "source": [
    "# By what magnitude does a white name increase callback rate?\n",
    ".096509/0.064476"
   ]
  },
  {
   "cell_type": "markdown",
   "metadata": {},
   "source": [
    "**Observation:**\n",
    "Initial calculations show race may be a factor in callback success. In our sample, resumes with white-sounding names were called back at a rate of about 9.65% versus 6.45% for resumes with black-sounding names."
   ]
  },
  {
   "cell_type": "markdown",
   "metadata": {},
   "source": [
    "### 2. What are the null and alternate hypotheses?\n",
    "* **H<sub>0</sub>**: Our null hypothesis is that there is no difference between the proportion of callbacks for resumes with white sounding names vs. black sounding names. P<sub>w</sub> - P<sub>b</sub>= 0\n",
    "* **H<sub>a</sub>**: Our alternative hypothesis is that there is a difference between the proportion of callbacks for resumes with white sounding names vs. black sounding names. P<sub>w</sub> - P<sub>b</sub> > 0\n",
    "* **_&alpha;_**: Set alpha to be 2.5% for a two sided 95% confidence interval."
   ]
  },
  {
   "cell_type": "markdown",
   "metadata": {},
   "source": [
    "### 3. Compute margin of error, confidence interval, and p-value. Try using both the bootstrapping and the frequentist statistical approaches.\n",
    "* Margin of error: MoE = z * s\n",
    "* To calculate a 95% confindence interval, use z = 1.96\n",
    "* Confidence interval = ( P<sub>w</sub> - P<sub>b</sub> ) $\\pm$ MoE"
   ]
  },
  {
   "cell_type": "markdown",
   "metadata": {},
   "source": [
    "#### Frequentist method"
   ]
  },
  {
   "cell_type": "code",
   "execution_count": 8,
   "metadata": {},
   "outputs": [
    {
     "name": "stdout",
     "output_type": "stream",
     "text": [
      "Difference in proportions = 0.032032854209445585\n",
      "Margin of error =  0.015255406349886438\n",
      "95% Confidence interval = [0.016777447859559147, 0.047288260559332024]\n"
     ]
    }
   ],
   "source": [
    "# Calculate difference of proportion and standard deviation\n",
    "p_diff = p_w - p_b\n",
    "std_diff = np.sqrt((std_w)**2 + (std_b)**2)\n",
    "\n",
    "\n",
    "# Use z = 1.96 to calculate margin of error for a 95% confindence interval\n",
    "margin_error = 1.96 * std_diff\n",
    "conf_int =  [(p_diff - margin_error), (p_diff + margin_error)]\n",
    "\n",
    "# Print the results\n",
    "print('Difference in proportions =', p_diff)\n",
    "print(\"Margin of error = \", margin_error)\n",
    "print('95% Confidence interval =', conf_int)\n"
   ]
  },
  {
   "cell_type": "markdown",
   "metadata": {},
   "source": [
    "#### Bootstrapping for Visualization\n",
    "From the Central Limit Theorem, we can consider the difference of proportions to be normally distributed. After generating 10,000 differences in callback rates, we can visualize how statistically reasonable it is that the true difference is zero."
   ]
  },
  {
   "cell_type": "code",
   "execution_count": 9,
   "metadata": {},
   "outputs": [
    {
     "name": "stdout",
     "output_type": "stream",
     "text": [
      "difference of proportions = 0.032032854209445585\n",
      "95% confidence interval = [0.01692061 0.04722405]\n",
      "z-score = 4.11555043573\n",
      "p-value = 1.9312826037620745e-05\n"
     ]
    },
    {
     "data": {
      "image/png": "[encoded data removed]",
      "text/plain": [
       "<Figure size 720x360 with 1 Axes>"
      ]
     },
     "metadata": {},
     "output_type": "display_data"
    }
   ],
   "source": [
    "# Sample normal distribution of proportion difference\n",
    "distrib_diff = np.random.normal(p_diff, std_diff, 10000)\n",
    "\n",
    "# Calculate the z-score for a difference = 0\n",
    "z_score = (p_diff - 0) / std_diff\n",
    "\n",
    "# Calculate p-value\n",
    "p = stats.norm.cdf(z_score)\n",
    "\n",
    "# Compute 95% confidence interval with bootstrapping\n",
    "conf_int_bs = np.percentile(distrib_diff, [2.5, 97.5])\n",
    "\n",
    "# Print the results\n",
    "print('difference of proportions =', p_diff)\n",
    "print('95% confidence interval =', conf_int_bs)\n",
    "print('z-score =', z_score)\n",
    "print('p-value =', (1-p))\n",
    "\n",
    "# Plot visualization of the difference in callback proportions\n",
    "fig = plt.figure(figsize=(10,5))\n",
    "ax1 = sns.distplot(distrib_diff)\n",
    "az1 = plt.axvline(x=0, color='red')\n",
    "\n",
    "ax1.set_title('The difference in callback rates for white vs. black resumes is greater than zero')\n",
    "ax1.set_xlabel('Difference in Resume Callback Rates')\n",
    "ax1.set_ylabel('Frequency')\n",
    "plt.show()\n"
   ]
  },
  {
   "cell_type": "markdown",
   "metadata": {},
   "source": [
    "#### Conlcusion:\n",
    "By calculating the difference and spread (standard deviation) of resume call rates, we can model what might happen if we repeated the experiment. We would expect 95% of further trials to show that resumes with white-sounding names have a callback rate 1.7% to 4.7% higher than resumes with black-sounding names. The chances are near zero that any sample would show equal callback rates for both sets of resumes.\n",
    "\n",
    "#### Another Bootstrapping approach\n",
    "In this approach we'll treat the data as if there's no difference between callback rates based on name type. \n",
    "* The resumes will be combined, permuted and randomly resampled 1000 times with replacement. \n",
    "* The new samples will be split into two groups the same size as our original data.\n",
    "* With both groups randomly chosen from the same pool, the mean difference in callback rates between the two new groups should be zero.\n",
    "* We'll compare the middle 95% of the resampled differences to our observed difference of .032. If our observed difference is outside the confidence interval, we'll consider race to be a statistically significant factor in resume callback rates."
   ]
  },
  {
   "cell_type": "code",
   "execution_count": 10,
   "metadata": {},
   "outputs": [
    {
     "name": "stdout",
     "output_type": "stream",
     "text": [
      "Observed difference of proportions = 0.032032854209445585\n",
      "95% confidence interval assuming difference = 0:  [-0.01560575  0.01478439]\n",
      "p-value = 0.0001\n"
     ]
    }
   ],
   "source": [
    "def permutation_sample(data1, data2):\n",
    "    \"\"\"Generate a permutation sample from two data sets.\"\"\"\n",
    "\n",
    "    # Concatenate the data sets: data\n",
    "    data = np.concatenate((data1, data2))\n",
    "\n",
    "    # Permute the concatenated array: permuted_data\n",
    "    permuted_data = np.random.permutation(data)\n",
    "\n",
    "    # Split the permuted array into two: perm_sample_1, perm_sample_2\n",
    "    perm_sample_1 = permuted_data[:len(data1)]\n",
    "    perm_sample_2 = permuted_data[len(data1):]\n",
    "\n",
    "    return perm_sample_1, perm_sample_2\n",
    "\n",
    "def draw_perm_reps(data_1, data_2, func, size=1):\n",
    "    \"\"\"Generate multiple permutation replicates. \n",
    "       Func must take 2 arrays as input.\"\"\"\n",
    "\n",
    "    # Initialize array of replicates: perm_replicates\n",
    "    perm_replicates = np.empty(size)\n",
    "\n",
    "    for i in range(size):\n",
    "        # Generate permutation sample\n",
    "        perm_sample_1, perm_sample_2 = permutation_sample(data_1, data_2)\n",
    "\n",
    "        # Compute the test statistic\n",
    "        perm_replicates[i] = func(perm_sample_1, perm_sample_2)\n",
    "\n",
    "    return perm_replicates\n",
    "\n",
    "def call_diff(sample_1, sample_2):\n",
    "    \"\"\"Compute fraction of resumes called back.\"\"\"\n",
    "    frac1 = np.sum(sample_1) / len(sample_1)\n",
    "    frac2 = np.sum(sample_2) / len(sample_2)\n",
    "    diff = frac1-frac2\n",
    "    return diff\n",
    "\n",
    "# Acquire permutation samples: perm_replicates\n",
    "perm_replicates = draw_perm_reps(w.call, b.call, call_diff, 10000)\n",
    "\n",
    "# Compute and print p-value: p\n",
    "p = np.sum(perm_replicates >= p_diff) / len(perm_replicates)\n",
    "\n",
    "# Compute 95% confidence interval: conf_int\n",
    "conf_int = np.percentile(perm_replicates, [2.5, 97.5])\n",
    "\n",
    "# Print the results\n",
    "print('Observed difference of proportions =', p_diff)\n",
    "print('95% confidence interval assuming difference = 0: ', conf_int)\n",
    "print('p-value =', p)"
   ]
  },
  {
   "cell_type": "markdown",
   "metadata": {},
   "source": [
    "#### Conclusion:\n",
    "The p-value is close to 0, thus we will reject our null hypothesis. We can confidently assert there is a statistically significant difference in the callback rates between white- and black-sounding names."
   ]
  },
  {
   "cell_type": "markdown",
   "metadata": {},
   "source": [
    "### 4. Write a story describing the statistical significance in the context of the original problem.\n",
    "\n",
    "A study conducted to examine racial discrimination in the United States labor market found that only 6.45% of resumes with black-sounding names received requests for interviews. The **callback rate was 1.5 times higher** (9.65%) when white-sounding names were assigned to identical resumes.\n",
    "\n",
    "Scoring an interview is tough, as we saw that neither group had a callback rate above 10%. **Is it possible the difference of 3.2% was due to random chance instead of racial bias?**\n",
    "\n",
    "This experiment follows a Bernoulli distribution, where each trial (resume sent out) has two possible outcomes (callback or no callback). When comparing two groups in the same set of trials, we know that the difference in success rate is normally distributed.  By calculating the mean and standard deviation of the difference in resume callback rates, we can model what might happen if the experiment was repeated. \n",
    "\n",
    "If these trials were run thousands of times, we would expect 95% of them to show that **resumes with white-sounding names have a callback rate 1.7% to 4.7% higher than resumes with black-sounding names.** There is a near zero probability that any sample would show equal callback rates for both groups. Thus, we conclude there is a statistically significant difference in the callback rates for resumes with white- vs. black-sounding names. Racial discrimination continues to affect the United States labor market. \n",
    "\n",
    "### 5. Does your analysis mean that race/name is the most important factor in callback success? Why or why not? If not, how would you amend your analysis?\n",
    "\n",
    "Although race/name is a statistically significant factor in callback success, there may be other factors with an even stronger correlation. To be thorough, we could examine the correlation between callback rate and each factor in our dataset. Even so, there may be unknown confounders not taken into account during the design of this study."
   ]
  }
 ],
 "metadata": {
  "kernelspec": {
   "display_name": "Python 3",
   "language": "python",
   "name": "python3"
  },
  "language_info": {
   "codemirror_mode": {
    "name": "ipython",
    "version": 3
   },
   "file_extension": ".py",
   "mimetype": "text/x-python",
   "name": "python",
   "nbconvert_exporter": "python",
   "pygments_lexer": "ipython3",
   "version": "3.6.6"
  }
 },
 "nbformat": 4,
 "nbformat_minor": 1
}
