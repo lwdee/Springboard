{
 "cells": [
  {
   "cell_type": "markdown",
   "metadata": {},
   "source": [
    "# Data Wrangling - 311 Data"
   ]
  },
  {
   "cell_type": "markdown",
   "metadata": {},
   "source": [
    "\n",
    "### I. Summary of the Data\n",
    "The data used in this project was gathered from a few different sources. Information was accessed with an API or downloaded as CSV files. The data was cleaned and consolidated into a single CSV file, ready for further analysis and modeling.\n",
    "\n",
    "_Minneapolis 311 Open Dataset (2016-2018)_  \n",
    "**Annual 311 service request data** was available from the City of Minneapolis Open Data website. The data for 2017 and 2018 data was collected as a JSON file through an API. The 2016 dataset was downloaded as a CSV file.\n",
    "* **Source:** http://opendata.minneapolismn.gov/datasets?t=311\n",
    "* **File:** 311_Incidents_2016.csv\n",
    "         \n",
    "_Historical Climate Data for Minneapolis (2016-2018)_  \n",
    "**Daily historical climate data** was collected as a CSV file from the Minnesota Department of Natural Resources.\n",
    "* **Source:** https://www.dnr.state.mn.us/climate/historical/summary.html\n",
    "* **File:**  Climate_Data_16_17.csv\n",
    "\n",
    "\n",
    "### II. Cleaning and Consolidating the Data\n",
    "In order to consolidate 311 data from different years (and different file formats), column headers and timestamp formats were standardized. Some unnecessary attributes such as Case ID and Enquiry ID were dropped to reduce dimensionality. A new feature, called Days_Open, was engineered by calculating the number of days before each case was closed. The timestamps in the 311 data included the date and time, however, the climate data was recorded per day. The date each 311 case was opened was extracted from the timestamp so that the data frames could be merged on that feature. \n",
    "\n",
    "\n",
    "### III. Missing Values\n",
    "Although neither dataset had missing values, there were a few inconsistencies in notation that were adjusted for ease of future analysis.  \n",
    "\n",
    "- One 311 case (a parking violation) had an opening time stamp 3 seconds after it was closed. The time stamps were left as they were, but the Days_Open value was updated to be 1 (the minimum number of days). \n",
    "- The climate data contained some entries of “T”, indicating there were “trace amounts” of precipitation, snowfall or snow accumulation (depth). To convert “T” to a numerical value, it was replaced with 0.05 or 0.005 (inches).\n",
    "\n",
    "### IV. Outliers\n",
    "- Some 311 call types tended to have large clusters of cases all closed on the same date. These clusters occurred most notably for Sidewalk Snow & Ice Complaints, Exterior Nuisance Complaints, Private Property - Residential Conditions, and Hoarding Complaints. It’s unclear if these close dates are accurate, or were filled in to avoid missing values.\n",
    "\n",
    "After cleaning and consolidating the data, it was converted to the CSV file listed below.\n",
    "* 311_clean.csv\n",
    "\n"
   ]
  },
  {
   "cell_type": "code",
   "execution_count": 1,
   "metadata": {},
   "outputs": [],
   "source": [
    "import pandas as pd\n",
    "import numpy as np\n",
    "import requests\n",
    "import json\n",
    "from pandas.io.json import json_normalize\n",
    "import datetime as dt\n",
    "import matplotlib.pyplot as plt\n",
    "import seaborn as sns\n",
    "\n",
    "import geopandas as gpd\n",
    "import folium\n",
    "from folium import plugins\n",
    "import json\n",
    "import geojson"
   ]
  },
  {
   "cell_type": "markdown",
   "metadata": {},
   "source": [
    "## 311 Data - 2016\n",
    "\n",
    "The API for 2016 data returned only 1000 out of 51k rows. The 'exceededTransferLimit' line of the data was listed as \"True\". As an alternative, the data was downloaded as a CSV file."
   ]
  },
  {
   "cell_type": "code",
   "execution_count": 2,
   "metadata": {},
   "outputs": [
    {
     "data": {
      "text/html": [
       "<div>\n",
       "<style scoped>\n",
       "    .dataframe tbody tr th:only-of-type {\n",
       "        vertical-align: middle;\n",
       "    }\n",
       "\n",
       "    .dataframe tbody tr th {\n",
       "        vertical-align: top;\n",
       "    }\n",
       "\n",
       "    .dataframe thead th {\n",
       "        text-align: right;\n",
       "    }\n",
       "</style>\n",
       "<table border=\"1\" class=\"dataframe\">\n",
       "  <thead>\n",
       "    <tr style=\"text-align: right;\">\n",
       "      <th></th>\n",
       "      <th>X</th>\n",
       "      <th>Y</th>\n",
       "      <th>CASEID</th>\n",
       "      <th>ENQUIRYTYPEID</th>\n",
       "      <th>SUBJECTNAME</th>\n",
       "      <th>REASONNAME</th>\n",
       "      <th>TYPENAME</th>\n",
       "      <th>TITLE</th>\n",
       "      <th>OPENEDDATETIME</th>\n",
       "      <th>CASESTATUS</th>\n",
       "      <th>CLOSEDDATETIME</th>\n",
       "      <th>XCOORD</th>\n",
       "      <th>YCOORD</th>\n",
       "      <th>LastUpdateDate</th>\n",
       "      <th>OBJECTID</th>\n",
       "    </tr>\n",
       "  </thead>\n",
       "  <tbody>\n",
       "    <tr>\n",
       "      <th>0</th>\n",
       "      <td>-93.235927</td>\n",
       "      <td>44.931412</td>\n",
       "      <td>101003863139</td>\n",
       "      <td>101000085</td>\n",
       "      <td>Streets</td>\n",
       "      <td>Street Maintenance</td>\n",
       "      <td>General Street Complaint</td>\n",
       "      <td>General Street Complaint</td>\n",
       "      <td>2016-03-18T08:54:34.000Z</td>\n",
       "      <td>0</td>\n",
       "      <td>2016-03-21T06:57:34.000Z</td>\n",
       "      <td>-1.037898e+07</td>\n",
       "      <td>5.610730e+06</td>\n",
       "      <td>2018-03-13T10:24:55.000Z</td>\n",
       "      <td>3001</td>\n",
       "    </tr>\n",
       "    <tr>\n",
       "      <th>1</th>\n",
       "      <td>-93.255669</td>\n",
       "      <td>44.988227</td>\n",
       "      <td>101003863146</td>\n",
       "      <td>101002181</td>\n",
       "      <td>Public Safety</td>\n",
       "      <td>Graffiti / Clean City</td>\n",
       "      <td>Graffiti - Open311</td>\n",
       "      <td>Graffiti - Open311</td>\n",
       "      <td>2016-03-18T09:02:08.000Z</td>\n",
       "      <td>0</td>\n",
       "      <td>2016-03-23T09:37:03.000Z</td>\n",
       "      <td>-1.038117e+07</td>\n",
       "      <td>5.619668e+06</td>\n",
       "      <td>2018-03-13T10:24:55.000Z</td>\n",
       "      <td>3002</td>\n",
       "    </tr>\n",
       "  </tbody>\n",
       "</table>\n",
       "</div>"
      ],
      "text/plain": [
       "           X          Y        CASEID  ENQUIRYTYPEID    SUBJECTNAME  \\\n",
       "0 -93.235927  44.931412  101003863139      101000085        Streets   \n",
       "1 -93.255669  44.988227  101003863146      101002181  Public Safety   \n",
       "\n",
       "              REASONNAME                  TYPENAME                     TITLE  \\\n",
       "0     Street Maintenance  General Street Complaint  General Street Complaint   \n",
       "1  Graffiti / Clean City        Graffiti - Open311        Graffiti - Open311   \n",
       "\n",
       "             OPENEDDATETIME  CASESTATUS            CLOSEDDATETIME  \\\n",
       "0  2016-03-18T08:54:34.000Z           0  2016-03-21T06:57:34.000Z   \n",
       "1  2016-03-18T09:02:08.000Z           0  2016-03-23T09:37:03.000Z   \n",
       "\n",
       "         XCOORD        YCOORD            LastUpdateDate  OBJECTID  \n",
       "0 -1.037898e+07  5.610730e+06  2018-03-13T10:24:55.000Z      3001  \n",
       "1 -1.038117e+07  5.619668e+06  2018-03-13T10:24:55.000Z      3002  "
      ]
     },
     "execution_count": 2,
     "metadata": {},
     "output_type": "execute_result"
    }
   ],
   "source": [
    "df16 = pd.read_csv(\"311_Incidents_2016.csv\")\n",
    "df16.head(2)"
   ]
  },
  {
   "cell_type": "code",
   "execution_count": 3,
   "metadata": {},
   "outputs": [],
   "source": [
    "# Standardize column names\n",
    "new_col_names = [ 'x_geom', 'y_geom', 'case_id', 'enquiry_type_id',\n",
    "                 'subject', 'reason', 'complaint_type', 'title',\n",
    "                 'opened_date', 'status', 'closed_date', \n",
    "                 'x_coord', 'y_coord', 'last_update', 'object_id']\n",
    "df16.columns = new_col_names\n",
    "\n",
    "# Convert dates to pandas datetime format.\n",
    "df16['opened_date'] = pd.to_datetime(df16['opened_date'], format='%Y-%m-%dT%H:%M:%S')\n",
    "df16['closed_date'] = pd.to_datetime(df16['closed_date'], format='%Y-%m-%dT%H:%M:%S')"
   ]
  },
  {
   "cell_type": "markdown",
   "metadata": {},
   "source": [
    "## 311 Data - 2017"
   ]
  },
  {
   "cell_type": "code",
   "execution_count": 4,
   "metadata": {},
   "outputs": [
    {
     "data": {
      "text/html": [
       "<div>\n",
       "<style scoped>\n",
       "    .dataframe tbody tr th:only-of-type {\n",
       "        vertical-align: middle;\n",
       "    }\n",
       "\n",
       "    .dataframe tbody tr th {\n",
       "        vertical-align: top;\n",
       "    }\n",
       "\n",
       "    .dataframe thead th {\n",
       "        text-align: right;\n",
       "    }\n",
       "</style>\n",
       "<table border=\"1\" class=\"dataframe\">\n",
       "  <thead>\n",
       "    <tr style=\"text-align: right;\">\n",
       "      <th></th>\n",
       "      <th>attributes.CASEID</th>\n",
       "      <th>attributes.CASESTATUS</th>\n",
       "      <th>attributes.CLOSEDDATETIME</th>\n",
       "      <th>attributes.ENQUIRYTYPEID</th>\n",
       "      <th>attributes.OBJECTID</th>\n",
       "      <th>attributes.OPENEDDATETIME</th>\n",
       "      <th>attributes.REASONNAME</th>\n",
       "      <th>attributes.SUBJECTNAME</th>\n",
       "      <th>attributes.TITLE</th>\n",
       "      <th>attributes.TYPENAME</th>\n",
       "      <th>attributes.XCOORD</th>\n",
       "      <th>attributes.YCOORD</th>\n",
       "      <th>geometry.x</th>\n",
       "      <th>geometry.y</th>\n",
       "    </tr>\n",
       "  </thead>\n",
       "  <tbody>\n",
       "    <tr>\n",
       "      <th>0</th>\n",
       "      <td>101004067850</td>\n",
       "      <td>0</td>\n",
       "      <td>1.502965e+12</td>\n",
       "      <td>101000108</td>\n",
       "      <td>1</td>\n",
       "      <td>1502923353000</td>\n",
       "      <td>Traffic Control</td>\n",
       "      <td>Vehicles and Commuting</td>\n",
       "      <td>Abandoned Vehicle</td>\n",
       "      <td>Abandoned Vehicle</td>\n",
       "      <td>-1.038153e+07</td>\n",
       "      <td>5.613039e+06</td>\n",
       "      <td>-93.258830</td>\n",
       "      <td>44.946091</td>\n",
       "    </tr>\n",
       "    <tr>\n",
       "      <th>1</th>\n",
       "      <td>101004067853</td>\n",
       "      <td>0</td>\n",
       "      <td>1.502962e+12</td>\n",
       "      <td>101000381</td>\n",
       "      <td>2</td>\n",
       "      <td>1502953724000</td>\n",
       "      <td>Animal Control</td>\n",
       "      <td>Animal Related</td>\n",
       "      <td>Animal Complaint - Public Health</td>\n",
       "      <td>Animal Complaint - Public Health</td>\n",
       "      <td>-1.037977e+07</td>\n",
       "      <td>5.623440e+06</td>\n",
       "      <td>-93.243016</td>\n",
       "      <td>45.012184</td>\n",
       "    </tr>\n",
       "  </tbody>\n",
       "</table>\n",
       "</div>"
      ],
      "text/plain": [
       "   attributes.CASEID  attributes.CASESTATUS  attributes.CLOSEDDATETIME  \\\n",
       "0       101004067850                      0               1.502965e+12   \n",
       "1       101004067853                      0               1.502962e+12   \n",
       "\n",
       "   attributes.ENQUIRYTYPEID  attributes.OBJECTID  attributes.OPENEDDATETIME  \\\n",
       "0                 101000108                    1              1502923353000   \n",
       "1                 101000381                    2              1502953724000   \n",
       "\n",
       "  attributes.REASONNAME  attributes.SUBJECTNAME  \\\n",
       "0       Traffic Control  Vehicles and Commuting   \n",
       "1        Animal Control          Animal Related   \n",
       "\n",
       "                   attributes.TITLE               attributes.TYPENAME  \\\n",
       "0                 Abandoned Vehicle                 Abandoned Vehicle   \n",
       "1  Animal Complaint - Public Health  Animal Complaint - Public Health   \n",
       "\n",
       "   attributes.XCOORD  attributes.YCOORD  geometry.x  geometry.y  \n",
       "0      -1.038153e+07       5.613039e+06  -93.258830   44.946091  \n",
       "1      -1.037977e+07       5.623440e+06  -93.243016   45.012184  "
      ]
     },
     "execution_count": 4,
     "metadata": {},
     "output_type": "execute_result"
    }
   ],
   "source": [
    "# Pull data from API - 311 2017\n",
    "url = 'https://services.arcgis.com/afSMGVsC7QlRK1kZ/arcgis/rest/services/Public_311_2017/FeatureServer/0/query?where=1%3D1&outFields=CASEID,ENQUIRYTYPEID,SUBJECTNAME,REASONNAME,TYPENAME,TITLE,OPENEDDATETIME,CASESTATUS,CLOSEDDATETIME,XCOORD,YCOORD,OBJECTID&outSR=4326&f=json'\n",
    "r = requests.get(url)\n",
    "api_json_data = r.json()\n",
    "data_entries = api_json_data['features']\n",
    "\n",
    "# Normalize the JSON data to populate tables from nested element\n",
    "df17 = json_normalize(data_entries)\n",
    "\n",
    "df17.head(2)"
   ]
  },
  {
   "cell_type": "code",
   "execution_count": 5,
   "metadata": {},
   "outputs": [
    {
     "data": {
      "text/html": [
       "<div>\n",
       "<style scoped>\n",
       "    .dataframe tbody tr th:only-of-type {\n",
       "        vertical-align: middle;\n",
       "    }\n",
       "\n",
       "    .dataframe tbody tr th {\n",
       "        vertical-align: top;\n",
       "    }\n",
       "\n",
       "    .dataframe thead th {\n",
       "        text-align: right;\n",
       "    }\n",
       "</style>\n",
       "<table border=\"1\" class=\"dataframe\">\n",
       "  <thead>\n",
       "    <tr style=\"text-align: right;\">\n",
       "      <th></th>\n",
       "      <th>case_id</th>\n",
       "      <th>status</th>\n",
       "      <th>closed_date</th>\n",
       "      <th>enquiry_type_id</th>\n",
       "      <th>object_id</th>\n",
       "      <th>opened_date</th>\n",
       "      <th>reason</th>\n",
       "      <th>subject</th>\n",
       "      <th>title</th>\n",
       "      <th>complaint_type</th>\n",
       "      <th>x_coord</th>\n",
       "      <th>y_coord</th>\n",
       "      <th>x_geom</th>\n",
       "      <th>y_geom</th>\n",
       "    </tr>\n",
       "  </thead>\n",
       "  <tbody>\n",
       "    <tr>\n",
       "      <th>0</th>\n",
       "      <td>101004067850</td>\n",
       "      <td>0</td>\n",
       "      <td>2017-08-17 05:24:53</td>\n",
       "      <td>101000108</td>\n",
       "      <td>1</td>\n",
       "      <td>2017-08-16 17:42:33</td>\n",
       "      <td>Traffic Control</td>\n",
       "      <td>Vehicles and Commuting</td>\n",
       "      <td>Abandoned Vehicle</td>\n",
       "      <td>Abandoned Vehicle</td>\n",
       "      <td>-1.038153e+07</td>\n",
       "      <td>5.613039e+06</td>\n",
       "      <td>-93.258830</td>\n",
       "      <td>44.946091</td>\n",
       "    </tr>\n",
       "    <tr>\n",
       "      <th>1</th>\n",
       "      <td>101004067853</td>\n",
       "      <td>0</td>\n",
       "      <td>2017-08-17 04:28:08</td>\n",
       "      <td>101000381</td>\n",
       "      <td>2</td>\n",
       "      <td>2017-08-17 02:08:44</td>\n",
       "      <td>Animal Control</td>\n",
       "      <td>Animal Related</td>\n",
       "      <td>Animal Complaint - Public Health</td>\n",
       "      <td>Animal Complaint - Public Health</td>\n",
       "      <td>-1.037977e+07</td>\n",
       "      <td>5.623440e+06</td>\n",
       "      <td>-93.243016</td>\n",
       "      <td>45.012184</td>\n",
       "    </tr>\n",
       "  </tbody>\n",
       "</table>\n",
       "</div>"
      ],
      "text/plain": [
       "        case_id  status         closed_date  enquiry_type_id  object_id  \\\n",
       "0  101004067850       0 2017-08-17 05:24:53        101000108          1   \n",
       "1  101004067853       0 2017-08-17 04:28:08        101000381          2   \n",
       "\n",
       "          opened_date           reason                 subject  \\\n",
       "0 2017-08-16 17:42:33  Traffic Control  Vehicles and Commuting   \n",
       "1 2017-08-17 02:08:44   Animal Control          Animal Related   \n",
       "\n",
       "                              title                    complaint_type  \\\n",
       "0                 Abandoned Vehicle                 Abandoned Vehicle   \n",
       "1  Animal Complaint - Public Health  Animal Complaint - Public Health   \n",
       "\n",
       "        x_coord       y_coord     x_geom     y_geom  \n",
       "0 -1.038153e+07  5.613039e+06 -93.258830  44.946091  \n",
       "1 -1.037977e+07  5.623440e+06 -93.243016  45.012184  "
      ]
     },
     "execution_count": 5,
     "metadata": {},
     "output_type": "execute_result"
    }
   ],
   "source": [
    "# Create new column names\n",
    "new_col_names = ['case_id','status', 'closed_date', 'enquiry_type_id', 'object_id', \n",
    "                 'opened_date', 'reason', 'subject', 'title', 'complaint_type', \n",
    "                 'x_coord', 'y_coord', 'x_geom', 'y_geom']\n",
    "\n",
    "# Rename columns\n",
    "df17.columns = new_col_names\n",
    "\n",
    "# Convert 'opened_date' values to datetime objects\n",
    "df17['opened_date'] = df17['opened_date'].apply(lambda x: dt.datetime.fromtimestamp(x/1000).isoformat())\n",
    "\n",
    "# Convert 'closed_date' values to datetime objects, unless NaN\n",
    "df17['closed_date'] = df17['closed_date'].apply(lambda x: dt.datetime.fromtimestamp(x/1000).isoformat() \n",
    "                                               if pd.notnull(x) else x)\n",
    "\n",
    "# Convert dates to pandas datetime format.\n",
    "df17['opened_date'] = pd.to_datetime(df17['opened_date'], format='%Y-%m-%dT%H:%M:%S')\n",
    "df17['closed_date'] = pd.to_datetime(df17['closed_date'], format='%Y-%m-%dT%H:%M:%S')\n",
    "\n",
    "df17.head(2)"
   ]
  },
  {
   "cell_type": "markdown",
   "metadata": {},
   "source": [
    "## Combine 2016 and 2017\n",
    "* Append 2017 data onto 2016 data.\n",
    "* Create a new column called Days_Open, calculated from the difference between the opened date and closed date.\n",
    "* Set the opened_date column as the index."
   ]
  },
  {
   "cell_type": "code",
   "execution_count": 6,
   "metadata": {},
   "outputs": [
    {
     "data": {
      "text/html": [
       "<div>\n",
       "<style scoped>\n",
       "    .dataframe tbody tr th:only-of-type {\n",
       "        vertical-align: middle;\n",
       "    }\n",
       "\n",
       "    .dataframe tbody tr th {\n",
       "        vertical-align: top;\n",
       "    }\n",
       "\n",
       "    .dataframe thead th {\n",
       "        text-align: right;\n",
       "    }\n",
       "</style>\n",
       "<table border=\"1\" class=\"dataframe\">\n",
       "  <thead>\n",
       "    <tr style=\"text-align: right;\">\n",
       "      <th></th>\n",
       "      <th>case_id</th>\n",
       "      <th>status</th>\n",
       "      <th>closed_date</th>\n",
       "      <th>enquiry_type_id</th>\n",
       "      <th>object_id</th>\n",
       "      <th>reason</th>\n",
       "      <th>subject</th>\n",
       "      <th>title</th>\n",
       "      <th>complaint_type</th>\n",
       "      <th>x_coord</th>\n",
       "      <th>y_coord</th>\n",
       "      <th>x_geom</th>\n",
       "      <th>y_geom</th>\n",
       "      <th>days_open</th>\n",
       "    </tr>\n",
       "    <tr>\n",
       "      <th>opened_date</th>\n",
       "      <th></th>\n",
       "      <th></th>\n",
       "      <th></th>\n",
       "      <th></th>\n",
       "      <th></th>\n",
       "      <th></th>\n",
       "      <th></th>\n",
       "      <th></th>\n",
       "      <th></th>\n",
       "      <th></th>\n",
       "      <th></th>\n",
       "      <th></th>\n",
       "      <th></th>\n",
       "      <th></th>\n",
       "    </tr>\n",
       "  </thead>\n",
       "  <tbody>\n",
       "    <tr>\n",
       "      <th>2016-01-01 00:10:35</th>\n",
       "      <td>101003839191</td>\n",
       "      <td>0</td>\n",
       "      <td>2016-01-02 12:03:41</td>\n",
       "      <td>101002221</td>\n",
       "      <td>2196</td>\n",
       "      <td>Traffic Control</td>\n",
       "      <td>Vehicles and Commuting</td>\n",
       "      <td>Abandoned Vehicle - Open311</td>\n",
       "      <td>Abandoned Vehicle - Open311</td>\n",
       "      <td>-1.038160e+07</td>\n",
       "      <td>5.613667e+06</td>\n",
       "      <td>-93.259481</td>\n",
       "      <td>44.950087</td>\n",
       "      <td>2.0</td>\n",
       "    </tr>\n",
       "    <tr>\n",
       "      <th>2016-01-01 07:50:34</th>\n",
       "      <td>101003839192</td>\n",
       "      <td>0</td>\n",
       "      <td>2016-01-02 09:08:54</td>\n",
       "      <td>101002281</td>\n",
       "      <td>29550</td>\n",
       "      <td>Traffic Control</td>\n",
       "      <td>Vehicles and Commuting</td>\n",
       "      <td>Parking Violation - Open311</td>\n",
       "      <td>Parking Violation - Open311</td>\n",
       "      <td>-1.038520e+07</td>\n",
       "      <td>5.616158e+06</td>\n",
       "      <td>-93.291802</td>\n",
       "      <td>44.965918</td>\n",
       "      <td>2.0</td>\n",
       "    </tr>\n",
       "  </tbody>\n",
       "</table>\n",
       "</div>"
      ],
      "text/plain": [
       "                          case_id  status         closed_date  \\\n",
       "opened_date                                                     \n",
       "2016-01-01 00:10:35  101003839191       0 2016-01-02 12:03:41   \n",
       "2016-01-01 07:50:34  101003839192       0 2016-01-02 09:08:54   \n",
       "\n",
       "                     enquiry_type_id  object_id           reason  \\\n",
       "opened_date                                                        \n",
       "2016-01-01 00:10:35        101002221       2196  Traffic Control   \n",
       "2016-01-01 07:50:34        101002281      29550  Traffic Control   \n",
       "\n",
       "                                    subject                        title  \\\n",
       "opened_date                                                                \n",
       "2016-01-01 00:10:35  Vehicles and Commuting  Abandoned Vehicle - Open311   \n",
       "2016-01-01 07:50:34  Vehicles and Commuting  Parking Violation - Open311   \n",
       "\n",
       "                                  complaint_type       x_coord       y_coord  \\\n",
       "opened_date                                                                    \n",
       "2016-01-01 00:10:35  Abandoned Vehicle - Open311 -1.038160e+07  5.613667e+06   \n",
       "2016-01-01 07:50:34  Parking Violation - Open311 -1.038520e+07  5.616158e+06   \n",
       "\n",
       "                        x_geom     y_geom  days_open  \n",
       "opened_date                                           \n",
       "2016-01-01 00:10:35 -93.259481  44.950087        2.0  \n",
       "2016-01-01 07:50:34 -93.291802  44.965918        2.0  "
      ]
     },
     "execution_count": 6,
     "metadata": {},
     "output_type": "execute_result"
    }
   ],
   "source": [
    "# Re-order the 2016 columns to align with the 2017 dataframe.\n",
    "df16 = df16[list(df17.columns)]\n",
    "\n",
    "# Combine 2016 and 2017 call data\n",
    "df1617 = df16.append(df17)\n",
    "\n",
    "# Function to calculate the number of days between when each case was opened and closed.\n",
    "# Added 1 to number of days open. If a case is closed within 24 hours, days_open = 1.\n",
    "def days_open(row):\n",
    "    if pd.notnull(row['closed_date']):\n",
    "        date_cl = row['closed_date']\n",
    "        date_op = row['opened_date']\n",
    "        diff = date_cl - date_op\n",
    "        return int(diff.days) + 1\n",
    "    else:\n",
    "        return np.nan\n",
    "\n",
    "# Create new column that lists the number of days each case was open.\n",
    "df1617['days_open'] = df1617.apply(lambda row: days_open(row), axis=1)\n",
    "\n",
    "# Sort by opened_date\n",
    "df1617 = df1617.sort_values(by = 'opened_date')\n",
    "\n",
    "# Set the opened date as the index.\n",
    "df1617 = df1617.set_index('opened_date')\n",
    "\n",
    "df1617.head(2)"
   ]
  },
  {
   "cell_type": "code",
   "execution_count": 7,
   "metadata": {},
   "outputs": [
    {
     "name": "stdout",
     "output_type": "stream",
     "text": [
      "<class 'pandas.core.frame.DataFrame'>\n",
      "DatetimeIndex: 106928 entries, 2016-01-01 00:10:35 to 2017-12-31 06:56:54\n",
      "Data columns (total 14 columns):\n",
      "case_id            106928 non-null int64\n",
      "status             106928 non-null int64\n",
      "closed_date        106325 non-null datetime64[ns]\n",
      "enquiry_type_id    106928 non-null int64\n",
      "object_id          106928 non-null int64\n",
      "reason             106928 non-null object\n",
      "subject            106928 non-null object\n",
      "title              106928 non-null object\n",
      "complaint_type     106928 non-null object\n",
      "x_coord            106928 non-null float64\n",
      "y_coord            106928 non-null float64\n",
      "x_geom             106928 non-null float64\n",
      "y_geom             106928 non-null float64\n",
      "days_open          106325 non-null float64\n",
      "dtypes: datetime64[ns](1), float64(5), int64(4), object(4)\n",
      "memory usage: 12.2+ MB\n"
     ]
    }
   ],
   "source": [
    "# Check columns and entry types\n",
    "df1617.info()"
   ]
  },
  {
   "cell_type": "markdown",
   "metadata": {},
   "source": [
    "## 311 Data - 2018\n",
    "\n",
    "This data is updated daily, and will be kept separate from the 2016 and 2017 data."
   ]
  },
  {
   "cell_type": "code",
   "execution_count": 8,
   "metadata": {},
   "outputs": [],
   "source": [
    "#Read 311 Data - 2018\n",
    "url = 'https://services.arcgis.com/afSMGVsC7QlRK1kZ/arcgis/rest/services/Public_311_2018_YTD/FeatureServer/0/query?where=1%3D1&outFields=CASEID,ENQUIRYTYPEID,SUBJECTNAME,REASONNAME,TYPENAME,TITLE,OPENEDDATETIME,CASESTATUS,CLOSEDDATETIME,XCOORD,YCOORD,OBJECTID&outSR=4326&f=json'\n",
    "r = requests.get(url)\n",
    "api_json_data = r.json()\n",
    "\n",
    "data_entries = api_json_data['features']\n",
    "df18 = json_normalize(data_entries)"
   ]
  },
  {
   "cell_type": "code",
   "execution_count": 9,
   "metadata": {},
   "outputs": [
    {
     "data": {
      "text/html": [
       "<div>\n",
       "<style scoped>\n",
       "    .dataframe tbody tr th:only-of-type {\n",
       "        vertical-align: middle;\n",
       "    }\n",
       "\n",
       "    .dataframe tbody tr th {\n",
       "        vertical-align: top;\n",
       "    }\n",
       "\n",
       "    .dataframe thead th {\n",
       "        text-align: right;\n",
       "    }\n",
       "</style>\n",
       "<table border=\"1\" class=\"dataframe\">\n",
       "  <thead>\n",
       "    <tr style=\"text-align: right;\">\n",
       "      <th></th>\n",
       "      <th>case_id</th>\n",
       "      <th>status</th>\n",
       "      <th>closed_date</th>\n",
       "      <th>enquiry_type_id</th>\n",
       "      <th>object_id</th>\n",
       "      <th>reason</th>\n",
       "      <th>subject</th>\n",
       "      <th>title</th>\n",
       "      <th>complaint_type</th>\n",
       "      <th>x_coord</th>\n",
       "      <th>y_coord</th>\n",
       "      <th>x_geom</th>\n",
       "      <th>y_geom</th>\n",
       "      <th>days_open</th>\n",
       "    </tr>\n",
       "    <tr>\n",
       "      <th>opened_date</th>\n",
       "      <th></th>\n",
       "      <th></th>\n",
       "      <th></th>\n",
       "      <th></th>\n",
       "      <th></th>\n",
       "      <th></th>\n",
       "      <th></th>\n",
       "      <th></th>\n",
       "      <th></th>\n",
       "      <th></th>\n",
       "      <th></th>\n",
       "      <th></th>\n",
       "      <th></th>\n",
       "      <th></th>\n",
       "    </tr>\n",
       "  </thead>\n",
       "  <tbody>\n",
       "    <tr>\n",
       "      <th>2017-12-31 18:05:00</th>\n",
       "      <td>101004120778</td>\n",
       "      <td>0</td>\n",
       "      <td>2018-01-02 02:38:36</td>\n",
       "      <td>101002181</td>\n",
       "      <td>37150</td>\n",
       "      <td>Graffiti / Clean City</td>\n",
       "      <td>Public Safety</td>\n",
       "      <td>Graffiti - Open311</td>\n",
       "      <td>Graffiti - Open311</td>\n",
       "      <td>-1.038604e+07</td>\n",
       "      <td>5.608372e+06</td>\n",
       "      <td>-93.299350</td>\n",
       "      <td>44.916415</td>\n",
       "      <td>2.0</td>\n",
       "    </tr>\n",
       "    <tr>\n",
       "      <th>2017-12-31 21:37:13</th>\n",
       "      <td>101004120779</td>\n",
       "      <td>0</td>\n",
       "      <td>2018-01-01 13:26:45</td>\n",
       "      <td>101002281</td>\n",
       "      <td>37152</td>\n",
       "      <td>Traffic Control</td>\n",
       "      <td>Vehicles and Commuting</td>\n",
       "      <td>Parking Violation - Open311</td>\n",
       "      <td>Parking Violation - Open311</td>\n",
       "      <td>-1.038293e+07</td>\n",
       "      <td>5.614953e+06</td>\n",
       "      <td>-93.271489</td>\n",
       "      <td>44.958263</td>\n",
       "      <td>1.0</td>\n",
       "    </tr>\n",
       "  </tbody>\n",
       "</table>\n",
       "</div>"
      ],
      "text/plain": [
       "                          case_id  status         closed_date  \\\n",
       "opened_date                                                     \n",
       "2017-12-31 18:05:00  101004120778       0 2018-01-02 02:38:36   \n",
       "2017-12-31 21:37:13  101004120779       0 2018-01-01 13:26:45   \n",
       "\n",
       "                     enquiry_type_id  object_id                 reason  \\\n",
       "opened_date                                                              \n",
       "2017-12-31 18:05:00        101002181      37150  Graffiti / Clean City   \n",
       "2017-12-31 21:37:13        101002281      37152        Traffic Control   \n",
       "\n",
       "                                    subject                        title  \\\n",
       "opened_date                                                                \n",
       "2017-12-31 18:05:00           Public Safety           Graffiti - Open311   \n",
       "2017-12-31 21:37:13  Vehicles and Commuting  Parking Violation - Open311   \n",
       "\n",
       "                                  complaint_type       x_coord       y_coord  \\\n",
       "opened_date                                                                    \n",
       "2017-12-31 18:05:00           Graffiti - Open311 -1.038604e+07  5.608372e+06   \n",
       "2017-12-31 21:37:13  Parking Violation - Open311 -1.038293e+07  5.614953e+06   \n",
       "\n",
       "                        x_geom     y_geom  days_open  \n",
       "opened_date                                           \n",
       "2017-12-31 18:05:00 -93.299350  44.916415        2.0  \n",
       "2017-12-31 21:37:13 -93.271489  44.958263        1.0  "
      ]
     },
     "execution_count": 9,
     "metadata": {},
     "output_type": "execute_result"
    }
   ],
   "source": [
    "# Standardize column names \n",
    "new_col_names = ['case_id', 'status', 'closed_date', 'enquiry_type_id', 'object_id', \n",
    "                 'opened_date', 'reason', 'subject', 'title', 'complaint_type', \n",
    "                 'x_coord', 'y_coord', 'x_geom', 'y_geom']\n",
    "df18.columns = new_col_names\n",
    "\n",
    "# Convert 'OpenDateTime' values to datetime objects\n",
    "df18['opened_date'] = df18['opened_date'].apply(lambda x: dt.datetime.fromtimestamp(x/1000).isoformat())\n",
    "# Convert 'CloseDateTime' values to datetime objects, unless NaN\n",
    "df18['closed_date'] = df18['closed_date'].apply(lambda x: dt.datetime.fromtimestamp(x/1000).isoformat() \n",
    "                                               if pd.notnull(x) else x)\n",
    "\n",
    "# Convert dates to pandas datetime format.\n",
    "df18['opened_date'] = pd.to_datetime(df18['opened_date'], format='%Y-%m-%dT%H:%M:%S')\n",
    "df18['closed_date'] = pd.to_datetime(df18['closed_date'], format='%Y-%m-%dT%H:%M:%S')\n",
    "\n",
    "# Create new column that lists the number of days each case was open. \n",
    "df18['days_open'] = df18.apply(lambda row: days_open(row), axis=1)\n",
    "\n",
    "# Sort by opened_date\n",
    "df18 = df18.sort_values(by = 'opened_date')\n",
    "\n",
    "# Set the opened date as the index.\n",
    "df18 = df18.set_index('opened_date')\n",
    "df18.head(2)"
   ]
  },
  {
   "cell_type": "markdown",
   "metadata": {},
   "source": [
    "## Climate data\n",
    "Historical climate data from the State of Minnesota. Columns include:\n",
    "* Maximum Temperature (F)\n",
    "* Minimum Temperature (F)\n",
    "* Precipitation (Inches)\n",
    "* Snow Fall (Inches)\n",
    "* Snow Depth (Inches)"
   ]
  },
  {
   "cell_type": "code",
   "execution_count": 10,
   "metadata": {},
   "outputs": [
    {
     "data": {
      "text/html": [
       "<div>\n",
       "<style scoped>\n",
       "    .dataframe tbody tr th:only-of-type {\n",
       "        vertical-align: middle;\n",
       "    }\n",
       "\n",
       "    .dataframe tbody tr th {\n",
       "        vertical-align: top;\n",
       "    }\n",
       "\n",
       "    .dataframe thead th {\n",
       "        text-align: right;\n",
       "    }\n",
       "</style>\n",
       "<table border=\"1\" class=\"dataframe\">\n",
       "  <thead>\n",
       "    <tr style=\"text-align: right;\">\n",
       "      <th></th>\n",
       "      <th>max_temp</th>\n",
       "      <th>min_temp</th>\n",
       "      <th>precipitation</th>\n",
       "      <th>snow</th>\n",
       "      <th>snow_depth</th>\n",
       "    </tr>\n",
       "    <tr>\n",
       "      <th>Date</th>\n",
       "      <th></th>\n",
       "      <th></th>\n",
       "      <th></th>\n",
       "      <th></th>\n",
       "      <th></th>\n",
       "    </tr>\n",
       "  </thead>\n",
       "  <tbody>\n",
       "    <tr>\n",
       "      <th>2016-01-01</th>\n",
       "      <td>30</td>\n",
       "      <td>15</td>\n",
       "      <td>T</td>\n",
       "      <td>T</td>\n",
       "      <td>4</td>\n",
       "    </tr>\n",
       "    <tr>\n",
       "      <th>2016-01-02</th>\n",
       "      <td>31</td>\n",
       "      <td>14</td>\n",
       "      <td>0</td>\n",
       "      <td>0</td>\n",
       "      <td>4</td>\n",
       "    </tr>\n",
       "    <tr>\n",
       "      <th>2016-01-03</th>\n",
       "      <td>29</td>\n",
       "      <td>20</td>\n",
       "      <td>0</td>\n",
       "      <td>0</td>\n",
       "      <td>4</td>\n",
       "    </tr>\n",
       "    <tr>\n",
       "      <th>2016-01-04</th>\n",
       "      <td>26</td>\n",
       "      <td>10</td>\n",
       "      <td>0</td>\n",
       "      <td>0</td>\n",
       "      <td>4</td>\n",
       "    </tr>\n",
       "    <tr>\n",
       "      <th>2016-01-05</th>\n",
       "      <td>32</td>\n",
       "      <td>20</td>\n",
       "      <td>0</td>\n",
       "      <td>0</td>\n",
       "      <td>4</td>\n",
       "    </tr>\n",
       "  </tbody>\n",
       "</table>\n",
       "</div>"
      ],
      "text/plain": [
       "            max_temp  min_temp precipitation snow snow_depth\n",
       "Date                                                        \n",
       "2016-01-01        30        15             T    T          4\n",
       "2016-01-02        31        14             0    0          4\n",
       "2016-01-03        29        20             0    0          4\n",
       "2016-01-04        26        10             0    0          4\n",
       "2016-01-05        32        20             0    0          4"
      ]
     },
     "execution_count": 10,
     "metadata": {},
     "output_type": "execute_result"
    }
   ],
   "source": [
    "df_weather = pd.read_csv(\"Climate_Data_16_17.csv\", index_col = 'Date', parse_dates = True)\n",
    "\n",
    "# Standardize column names \n",
    "new_col_names = ['max_temp', 'min_temp', 'precipitation', 'snow', 'snow_depth']\n",
    "df_weather.columns = new_col_names\n",
    "\n",
    "df_weather.head()  # T = trace amounts"
   ]
  },
  {
   "cell_type": "code",
   "execution_count": 11,
   "metadata": {},
   "outputs": [
    {
     "name": "stdout",
     "output_type": "stream",
     "text": [
      "<class 'pandas.core.frame.DataFrame'>\n",
      "DatetimeIndex: 933 entries, 2016-01-01 to 2018-07-21\n",
      "Data columns (total 5 columns):\n",
      "max_temp         933 non-null int64\n",
      "min_temp         933 non-null int64\n",
      "precipitation    933 non-null object\n",
      "snow             933 non-null object\n",
      "snow_depth       933 non-null object\n",
      "dtypes: int64(2), object(3)\n",
      "memory usage: 43.7+ KB\n"
     ]
    }
   ],
   "source": [
    "# Check for missing values and discrepancies in formatting\n",
    "df_weather.info()"
   ]
  },
  {
   "cell_type": "code",
   "execution_count": 12,
   "metadata": {},
   "outputs": [
    {
     "data": {
      "text/plain": [
       "0       474\n",
       "T       147\n",
       "0.01     43\n",
       "0.02     21\n",
       "0.04     16\n",
       "Name: precipitation, dtype: int64"
      ]
     },
     "execution_count": 12,
     "metadata": {},
     "output_type": "execute_result"
    }
   ],
   "source": [
    "df_weather['precipitation'].value_counts(dropna=False).head()"
   ]
  },
  {
   "cell_type": "code",
   "execution_count": 13,
   "metadata": {
    "scrolled": true
   },
   "outputs": [
    {
     "data": {
      "text/plain": [
       "0      763\n",
       "T       86\n",
       "0.1     14\n",
       "0.3      8\n",
       "0.6      7\n",
       "Name: snow, dtype: int64"
      ]
     },
     "execution_count": 13,
     "metadata": {},
     "output_type": "execute_result"
    }
   ],
   "source": [
    "df_weather['snow'].value_counts(dropna=False).head()"
   ]
  },
  {
   "cell_type": "code",
   "execution_count": 14,
   "metadata": {
    "scrolled": true
   },
   "outputs": [
    {
     "data": {
      "text/plain": [
       "0    658\n",
       "2     62\n",
       "1     46\n",
       "T     43\n",
       "5     42\n",
       "Name: snow_depth, dtype: int64"
      ]
     },
     "execution_count": 14,
     "metadata": {},
     "output_type": "execute_result"
    }
   ],
   "source": [
    "df_weather['snow_depth'].value_counts(dropna=False).head()"
   ]
  },
  {
   "cell_type": "code",
   "execution_count": 15,
   "metadata": {},
   "outputs": [
    {
     "name": "stdout",
     "output_type": "stream",
     "text": [
      "<class 'pandas.core.frame.DataFrame'>\n",
      "DatetimeIndex: 933 entries, 2016-01-01 to 2018-07-21\n",
      "Data columns (total 5 columns):\n",
      "max_temp         933 non-null int64\n",
      "min_temp         933 non-null int64\n",
      "precipitation    933 non-null float64\n",
      "snow             933 non-null float64\n",
      "snow_depth       933 non-null float64\n",
      "dtypes: float64(3), int64(2)\n",
      "memory usage: 43.7 KB\n"
     ]
    }
   ],
   "source": [
    "# Some precipitation, snow, and snow depth entries are \"T\" for \"trace amounts\".\n",
    "# Current minimum values in each column are 0.01 inches (precipitation, snow) and 0.1 inches (snow depth).\n",
    "# Replace these \"T\" values with a half increment.\n",
    "\n",
    "df_weather.precipitation = df_weather.precipitation.replace('T', 0.005)\n",
    "df_weather.snow = df_weather.snow.replace('T', 0.005)\n",
    "df_weather.snow_depth = df_weather.snow_depth.replace('T', 0.05)\n",
    "\n",
    "# Coerce the values into numeric types, after removing any string values.\n",
    "\n",
    "df_weather.precipitation = pd.to_numeric(df_weather.precipitation)\n",
    "df_weather.snow = pd.to_numeric(df_weather.snow)\n",
    "df_weather.snow_depth = pd.to_numeric(df_weather.snow_depth)\n",
    "\n",
    "# Check entry types are correct\n",
    "df_weather.info()"
   ]
  },
  {
   "cell_type": "markdown",
   "metadata": {},
   "source": [
    "## Combine 311 and Climate Dataframes\n",
    "* Separate the date and time values from the opened_date index. These will be saved in new columns called 'open_day' and 'open_time'.\n",
    "* Use multi indexing to isolate the date each case was opened.\n",
    "* Merge the climate data and 311 data by matching the opened date."
   ]
  },
  {
   "cell_type": "code",
   "execution_count": 16,
   "metadata": {},
   "outputs": [],
   "source": [
    "# Need to create date column in order to combine with weather data.\n",
    "df1617['open_day'] = df1617.index.date\n",
    "df1617['open_time'] = df1617.index.time\n",
    "\n",
    "#Isolate month and year each case was closed\n",
    "df1617['closed_year'] = df1617['closed_date'].dt.year\n",
    "df1617['closed_month'] = df1617['closed_date'].dt.month\n",
    "\n",
    "#Isolate month and year each case was opened\n",
    "df1617['opened_year'] = df1617.index.year\n",
    "df1617['opened_month'] = df1617.index.month\n",
    "\n",
    "#df1617.index = pd.MultiIndex.from_arrays([df1617.index.date, df1617.index.time], names=['Date','Time'])\n",
    "df1617.index = pd.MultiIndex.from_arrays([df1617.index.date, df1617.index.time], names=['Date','Time'])\n"
   ]
  },
  {
   "cell_type": "code",
   "execution_count": 17,
   "metadata": {},
   "outputs": [
    {
     "data": {
      "text/plain": [
       "True"
      ]
     },
     "execution_count": 17,
     "metadata": {},
     "output_type": "execute_result"
    }
   ],
   "source": [
    "# Check whether title and complaint_type are identical, and one can be removed.\n",
    "list(df1617.title) == list(df1617.complaint_type)"
   ]
  },
  {
   "cell_type": "code",
   "execution_count": 18,
   "metadata": {},
   "outputs": [
    {
     "data": {
      "text/html": [
       "<div>\n",
       "<style scoped>\n",
       "    .dataframe tbody tr th:only-of-type {\n",
       "        vertical-align: middle;\n",
       "    }\n",
       "\n",
       "    .dataframe tbody tr th {\n",
       "        vertical-align: top;\n",
       "    }\n",
       "\n",
       "    .dataframe thead th {\n",
       "        text-align: right;\n",
       "    }\n",
       "</style>\n",
       "<table border=\"1\" class=\"dataframe\">\n",
       "  <thead>\n",
       "    <tr style=\"text-align: right;\">\n",
       "      <th></th>\n",
       "      <th></th>\n",
       "      <th>status</th>\n",
       "      <th>closed_date</th>\n",
       "      <th>days_open</th>\n",
       "      <th>reason</th>\n",
       "      <th>subject</th>\n",
       "      <th>title</th>\n",
       "      <th>object_id</th>\n",
       "      <th>x_coord</th>\n",
       "      <th>y_coord</th>\n",
       "      <th>x_geom</th>\n",
       "      <th>...</th>\n",
       "      <th>opened_month</th>\n",
       "      <th>open_day</th>\n",
       "      <th>open_time</th>\n",
       "      <th>closed_year</th>\n",
       "      <th>closed_month</th>\n",
       "      <th>max_temp</th>\n",
       "      <th>min_temp</th>\n",
       "      <th>precipitation</th>\n",
       "      <th>snow</th>\n",
       "      <th>snow_depth</th>\n",
       "    </tr>\n",
       "    <tr>\n",
       "      <th>Date</th>\n",
       "      <th>Time</th>\n",
       "      <th></th>\n",
       "      <th></th>\n",
       "      <th></th>\n",
       "      <th></th>\n",
       "      <th></th>\n",
       "      <th></th>\n",
       "      <th></th>\n",
       "      <th></th>\n",
       "      <th></th>\n",
       "      <th></th>\n",
       "      <th></th>\n",
       "      <th></th>\n",
       "      <th></th>\n",
       "      <th></th>\n",
       "      <th></th>\n",
       "      <th></th>\n",
       "      <th></th>\n",
       "      <th></th>\n",
       "      <th></th>\n",
       "      <th></th>\n",
       "      <th></th>\n",
       "    </tr>\n",
       "  </thead>\n",
       "  <tbody>\n",
       "    <tr>\n",
       "      <th rowspan=\"2\" valign=\"top\">2016-01-01</th>\n",
       "      <th>00:10:35</th>\n",
       "      <td>0</td>\n",
       "      <td>2016-01-02 12:03:41</td>\n",
       "      <td>2.0</td>\n",
       "      <td>Traffic Control</td>\n",
       "      <td>Vehicles and Commuting</td>\n",
       "      <td>Abandoned Vehicle - Open311</td>\n",
       "      <td>2196</td>\n",
       "      <td>-1.038160e+07</td>\n",
       "      <td>5.613667e+06</td>\n",
       "      <td>-93.259481</td>\n",
       "      <td>...</td>\n",
       "      <td>1</td>\n",
       "      <td>2016-01-01</td>\n",
       "      <td>00:10:35</td>\n",
       "      <td>2016.0</td>\n",
       "      <td>1.0</td>\n",
       "      <td>30</td>\n",
       "      <td>15</td>\n",
       "      <td>0.005</td>\n",
       "      <td>0.005</td>\n",
       "      <td>4.0</td>\n",
       "    </tr>\n",
       "    <tr>\n",
       "      <th>07:50:34</th>\n",
       "      <td>0</td>\n",
       "      <td>2016-01-02 09:08:54</td>\n",
       "      <td>2.0</td>\n",
       "      <td>Traffic Control</td>\n",
       "      <td>Vehicles and Commuting</td>\n",
       "      <td>Parking Violation - Open311</td>\n",
       "      <td>29550</td>\n",
       "      <td>-1.038520e+07</td>\n",
       "      <td>5.616158e+06</td>\n",
       "      <td>-93.291802</td>\n",
       "      <td>...</td>\n",
       "      <td>1</td>\n",
       "      <td>2016-01-01</td>\n",
       "      <td>07:50:34</td>\n",
       "      <td>2016.0</td>\n",
       "      <td>1.0</td>\n",
       "      <td>30</td>\n",
       "      <td>15</td>\n",
       "      <td>0.005</td>\n",
       "      <td>0.005</td>\n",
       "      <td>4.0</td>\n",
       "    </tr>\n",
       "  </tbody>\n",
       "</table>\n",
       "<p>2 rows × 22 columns</p>\n",
       "</div>"
      ],
      "text/plain": [
       "                     status         closed_date  days_open           reason  \\\n",
       "Date       Time                                                               \n",
       "2016-01-01 00:10:35       0 2016-01-02 12:03:41        2.0  Traffic Control   \n",
       "           07:50:34       0 2016-01-02 09:08:54        2.0  Traffic Control   \n",
       "\n",
       "                                    subject                        title  \\\n",
       "Date       Time                                                            \n",
       "2016-01-01 00:10:35  Vehicles and Commuting  Abandoned Vehicle - Open311   \n",
       "           07:50:34  Vehicles and Commuting  Parking Violation - Open311   \n",
       "\n",
       "                     object_id       x_coord       y_coord     x_geom  \\\n",
       "Date       Time                                                         \n",
       "2016-01-01 00:10:35       2196 -1.038160e+07  5.613667e+06 -93.259481   \n",
       "           07:50:34      29550 -1.038520e+07  5.616158e+06 -93.291802   \n",
       "\n",
       "                        ...      opened_month    open_day  open_time  \\\n",
       "Date       Time         ...                                            \n",
       "2016-01-01 00:10:35     ...                 1  2016-01-01   00:10:35   \n",
       "           07:50:34     ...                 1  2016-01-01   07:50:34   \n",
       "\n",
       "                    closed_year closed_month  max_temp  min_temp  \\\n",
       "Date       Time                                                    \n",
       "2016-01-01 00:10:35      2016.0          1.0        30        15   \n",
       "           07:50:34      2016.0          1.0        30        15   \n",
       "\n",
       "                     precipitation   snow  snow_depth  \n",
       "Date       Time                                        \n",
       "2016-01-01 00:10:35          0.005  0.005         4.0  \n",
       "           07:50:34          0.005  0.005         4.0  \n",
       "\n",
       "[2 rows x 22 columns]"
      ]
     },
     "execution_count": 18,
     "metadata": {},
     "output_type": "execute_result"
    }
   ],
   "source": [
    "#Combine dataframes: 311 and weather \n",
    "df1617weather = pd.merge(df1617, df_weather, left_index=True, right_index=True, how = 'left')\n",
    "\n",
    "# Re-order the columns for better viewing. \n",
    "# Remove unused features ('case_id', 'enquiry_id', 'complaint_type')\n",
    "df1617weather = df1617weather[['status', 'closed_date', 'days_open', \n",
    "                              'reason', 'subject', 'title', 'object_id', \n",
    "                              'x_coord', 'y_coord', 'x_geom', 'y_geom', \n",
    "                              'opened_year', 'opened_month', 'open_day', 'open_time', \n",
    "                              'closed_year', 'closed_month', 'max_temp', 'min_temp', \n",
    "                              'precipitation', 'snow', 'snow_depth']]\n",
    "\n",
    "df1617weather.head(2)"
   ]
  },
  {
   "cell_type": "markdown",
   "metadata": {},
   "source": [
    "## Export Clean Data as a CSV file"
   ]
  },
  {
   "cell_type": "code",
   "execution_count": 19,
   "metadata": {},
   "outputs": [],
   "source": [
    "df1617weather.to_csv('311_clean.csv')"
   ]
  },
  {
   "cell_type": "markdown",
   "metadata": {},
   "source": [
    "## Outliers and Missing Values"
   ]
  },
  {
   "cell_type": "code",
   "execution_count": 20,
   "metadata": {},
   "outputs": [
    {
     "data": {
      "text/html": [
       "<div>\n",
       "<style scoped>\n",
       "    .dataframe tbody tr th:only-of-type {\n",
       "        vertical-align: middle;\n",
       "    }\n",
       "\n",
       "    .dataframe tbody tr th {\n",
       "        vertical-align: top;\n",
       "    }\n",
       "\n",
       "    .dataframe thead th {\n",
       "        text-align: right;\n",
       "    }\n",
       "</style>\n",
       "<table border=\"1\" class=\"dataframe\">\n",
       "  <thead>\n",
       "    <tr style=\"text-align: right;\">\n",
       "      <th></th>\n",
       "      <th></th>\n",
       "      <th>status</th>\n",
       "      <th>closed_date</th>\n",
       "      <th>days_open</th>\n",
       "      <th>reason</th>\n",
       "      <th>subject</th>\n",
       "      <th>title</th>\n",
       "      <th>object_id</th>\n",
       "      <th>x_coord</th>\n",
       "      <th>y_coord</th>\n",
       "      <th>x_geom</th>\n",
       "      <th>...</th>\n",
       "      <th>opened_month</th>\n",
       "      <th>open_day</th>\n",
       "      <th>open_time</th>\n",
       "      <th>closed_year</th>\n",
       "      <th>closed_month</th>\n",
       "      <th>max_temp</th>\n",
       "      <th>min_temp</th>\n",
       "      <th>precipitation</th>\n",
       "      <th>snow</th>\n",
       "      <th>snow_depth</th>\n",
       "    </tr>\n",
       "    <tr>\n",
       "      <th>Date</th>\n",
       "      <th>Time</th>\n",
       "      <th></th>\n",
       "      <th></th>\n",
       "      <th></th>\n",
       "      <th></th>\n",
       "      <th></th>\n",
       "      <th></th>\n",
       "      <th></th>\n",
       "      <th></th>\n",
       "      <th></th>\n",
       "      <th></th>\n",
       "      <th></th>\n",
       "      <th></th>\n",
       "      <th></th>\n",
       "      <th></th>\n",
       "      <th></th>\n",
       "      <th></th>\n",
       "      <th></th>\n",
       "      <th></th>\n",
       "      <th></th>\n",
       "      <th></th>\n",
       "      <th></th>\n",
       "    </tr>\n",
       "  </thead>\n",
       "  <tbody>\n",
       "    <tr>\n",
       "      <th rowspan=\"2\" valign=\"top\">2016-01-01</th>\n",
       "      <th>00:10:35</th>\n",
       "      <td>0</td>\n",
       "      <td>2016-01-02 12:03:41</td>\n",
       "      <td>2.0</td>\n",
       "      <td>Traffic Control</td>\n",
       "      <td>Vehicles and Commuting</td>\n",
       "      <td>Abandoned Vehicle - Open311</td>\n",
       "      <td>2196</td>\n",
       "      <td>-1.038160e+07</td>\n",
       "      <td>5.613667e+06</td>\n",
       "      <td>-93.259481</td>\n",
       "      <td>...</td>\n",
       "      <td>1</td>\n",
       "      <td>2016-01-01</td>\n",
       "      <td>00:10:35</td>\n",
       "      <td>2016.0</td>\n",
       "      <td>1.0</td>\n",
       "      <td>30</td>\n",
       "      <td>15</td>\n",
       "      <td>0.005</td>\n",
       "      <td>0.005</td>\n",
       "      <td>4.0</td>\n",
       "    </tr>\n",
       "    <tr>\n",
       "      <th>07:50:34</th>\n",
       "      <td>0</td>\n",
       "      <td>2016-01-02 09:08:54</td>\n",
       "      <td>2.0</td>\n",
       "      <td>Traffic Control</td>\n",
       "      <td>Vehicles and Commuting</td>\n",
       "      <td>Parking Violation - Open311</td>\n",
       "      <td>29550</td>\n",
       "      <td>-1.038520e+07</td>\n",
       "      <td>5.616158e+06</td>\n",
       "      <td>-93.291802</td>\n",
       "      <td>...</td>\n",
       "      <td>1</td>\n",
       "      <td>2016-01-01</td>\n",
       "      <td>07:50:34</td>\n",
       "      <td>2016.0</td>\n",
       "      <td>1.0</td>\n",
       "      <td>30</td>\n",
       "      <td>15</td>\n",
       "      <td>0.005</td>\n",
       "      <td>0.005</td>\n",
       "      <td>4.0</td>\n",
       "    </tr>\n",
       "  </tbody>\n",
       "</table>\n",
       "<p>2 rows × 22 columns</p>\n",
       "</div>"
      ],
      "text/plain": [
       "                     status         closed_date  days_open           reason  \\\n",
       "Date       Time                                                               \n",
       "2016-01-01 00:10:35       0 2016-01-02 12:03:41        2.0  Traffic Control   \n",
       "           07:50:34       0 2016-01-02 09:08:54        2.0  Traffic Control   \n",
       "\n",
       "                                    subject                        title  \\\n",
       "Date       Time                                                            \n",
       "2016-01-01 00:10:35  Vehicles and Commuting  Abandoned Vehicle - Open311   \n",
       "           07:50:34  Vehicles and Commuting  Parking Violation - Open311   \n",
       "\n",
       "                     object_id       x_coord       y_coord     x_geom  \\\n",
       "Date       Time                                                         \n",
       "2016-01-01 00:10:35       2196 -1.038160e+07  5.613667e+06 -93.259481   \n",
       "           07:50:34      29550 -1.038520e+07  5.616158e+06 -93.291802   \n",
       "\n",
       "                        ...      opened_month   open_day  open_time  \\\n",
       "Date       Time         ...                                           \n",
       "2016-01-01 00:10:35     ...                 1 2016-01-01   00:10:35   \n",
       "           07:50:34     ...                 1 2016-01-01   07:50:34   \n",
       "\n",
       "                    closed_year closed_month  max_temp  min_temp  \\\n",
       "Date       Time                                                    \n",
       "2016-01-01 00:10:35      2016.0          1.0        30        15   \n",
       "           07:50:34      2016.0          1.0        30        15   \n",
       "\n",
       "                     precipitation   snow  snow_depth  \n",
       "Date       Time                                        \n",
       "2016-01-01 00:10:35          0.005  0.005         4.0  \n",
       "           07:50:34          0.005  0.005         4.0  \n",
       "\n",
       "[2 rows x 22 columns]"
      ]
     },
     "execution_count": 20,
     "metadata": {},
     "output_type": "execute_result"
    }
   ],
   "source": [
    "# Read the csv data file from above.\n",
    "df = pd.read_csv('311_clean.csv', index_col=[0,1], parse_dates = ['Date', 'closed_date', 'open_day'])\n",
    "df.head(2)"
   ]
  },
  {
   "cell_type": "markdown",
   "metadata": {},
   "source": [
    "## Search for Outliers"
   ]
  },
  {
   "cell_type": "code",
   "execution_count": 21,
   "metadata": {},
   "outputs": [
    {
     "data": {
      "text/html": [
       "<div>\n",
       "<style scoped>\n",
       "    .dataframe tbody tr th:only-of-type {\n",
       "        vertical-align: middle;\n",
       "    }\n",
       "\n",
       "    .dataframe tbody tr th {\n",
       "        vertical-align: top;\n",
       "    }\n",
       "\n",
       "    .dataframe thead th {\n",
       "        text-align: right;\n",
       "    }\n",
       "</style>\n",
       "<table border=\"1\" class=\"dataframe\">\n",
       "  <thead>\n",
       "    <tr style=\"text-align: right;\">\n",
       "      <th></th>\n",
       "      <th>status</th>\n",
       "      <th>days_open</th>\n",
       "      <th>object_id</th>\n",
       "      <th>x_coord</th>\n",
       "      <th>y_coord</th>\n",
       "      <th>x_geom</th>\n",
       "      <th>y_geom</th>\n",
       "      <th>opened_year</th>\n",
       "      <th>opened_month</th>\n",
       "      <th>closed_year</th>\n",
       "      <th>closed_month</th>\n",
       "      <th>max_temp</th>\n",
       "      <th>min_temp</th>\n",
       "      <th>precipitation</th>\n",
       "      <th>snow</th>\n",
       "      <th>snow_depth</th>\n",
       "    </tr>\n",
       "  </thead>\n",
       "  <tbody>\n",
       "    <tr>\n",
       "      <th>count</th>\n",
       "      <td>106928.000000</td>\n",
       "      <td>106325.000000</td>\n",
       "      <td>106928.000000</td>\n",
       "      <td>1.069280e+05</td>\n",
       "      <td>1.069280e+05</td>\n",
       "      <td>1.069280e+05</td>\n",
       "      <td>1.069280e+05</td>\n",
       "      <td>106928.000000</td>\n",
       "      <td>106928.000000</td>\n",
       "      <td>106325.000000</td>\n",
       "      <td>106325.000000</td>\n",
       "      <td>106928.000000</td>\n",
       "      <td>106928.000000</td>\n",
       "      <td>106928.000000</td>\n",
       "      <td>106928.000000</td>\n",
       "      <td>106928.000000</td>\n",
       "    </tr>\n",
       "    <tr>\n",
       "      <th>mean</th>\n",
       "      <td>0.005639</td>\n",
       "      <td>11.259149</td>\n",
       "      <td>26759.527533</td>\n",
       "      <td>-9.607225e+06</td>\n",
       "      <td>5.196746e+06</td>\n",
       "      <td>-8.630317e+01</td>\n",
       "      <td>4.160782e+01</td>\n",
       "      <td>2016.515889</td>\n",
       "      <td>6.639692</td>\n",
       "      <td>2016.552523</td>\n",
       "      <td>6.492462</td>\n",
       "      <td>60.202660</td>\n",
       "      <td>43.410267</td>\n",
       "      <td>0.106029</td>\n",
       "      <td>0.063588</td>\n",
       "      <td>0.527504</td>\n",
       "    </tr>\n",
       "    <tr>\n",
       "      <th>std</th>\n",
       "      <td>0.074884</td>\n",
       "      <td>31.301559</td>\n",
       "      <td>15480.518465</td>\n",
       "      <td>2.729446e+06</td>\n",
       "      <td>1.476424e+06</td>\n",
       "      <td>2.451903e+01</td>\n",
       "      <td>1.182098e+01</td>\n",
       "      <td>0.499750</td>\n",
       "      <td>3.273724</td>\n",
       "      <td>0.548467</td>\n",
       "      <td>3.279049</td>\n",
       "      <td>22.375392</td>\n",
       "      <td>20.303351</td>\n",
       "      <td>0.287227</td>\n",
       "      <td>0.422753</td>\n",
       "      <td>1.415929</td>\n",
       "    </tr>\n",
       "    <tr>\n",
       "      <th>min</th>\n",
       "      <td>0.000000</td>\n",
       "      <td>0.000000</td>\n",
       "      <td>1.000000</td>\n",
       "      <td>-1.038935e+07</td>\n",
       "      <td>0.000000e+00</td>\n",
       "      <td>-9.332915e+01</td>\n",
       "      <td>-1.280796e-14</td>\n",
       "      <td>2016.000000</td>\n",
       "      <td>1.000000</td>\n",
       "      <td>2016.000000</td>\n",
       "      <td>1.000000</td>\n",
       "      <td>-6.000000</td>\n",
       "      <td>-20.000000</td>\n",
       "      <td>0.000000</td>\n",
       "      <td>0.000000</td>\n",
       "      <td>0.000000</td>\n",
       "    </tr>\n",
       "    <tr>\n",
       "      <th>25%</th>\n",
       "      <td>0.000000</td>\n",
       "      <td>1.000000</td>\n",
       "      <td>13366.750000</td>\n",
       "      <td>-1.038512e+07</td>\n",
       "      <td>5.610720e+06</td>\n",
       "      <td>-9.329116e+01</td>\n",
       "      <td>4.493135e+01</td>\n",
       "      <td>2016.000000</td>\n",
       "      <td>4.000000</td>\n",
       "      <td>2016.000000</td>\n",
       "      <td>4.000000</td>\n",
       "      <td>41.000000</td>\n",
       "      <td>29.000000</td>\n",
       "      <td>0.000000</td>\n",
       "      <td>0.000000</td>\n",
       "      <td>0.000000</td>\n",
       "    </tr>\n",
       "    <tr>\n",
       "      <th>50%</th>\n",
       "      <td>0.000000</td>\n",
       "      <td>3.000000</td>\n",
       "      <td>26732.500000</td>\n",
       "      <td>-1.038250e+07</td>\n",
       "      <td>5.614949e+06</td>\n",
       "      <td>-9.326761e+01</td>\n",
       "      <td>4.495823e+01</td>\n",
       "      <td>2017.000000</td>\n",
       "      <td>7.000000</td>\n",
       "      <td>2017.000000</td>\n",
       "      <td>7.000000</td>\n",
       "      <td>66.000000</td>\n",
       "      <td>47.000000</td>\n",
       "      <td>0.000000</td>\n",
       "      <td>0.000000</td>\n",
       "      <td>0.000000</td>\n",
       "    </tr>\n",
       "    <tr>\n",
       "      <th>75%</th>\n",
       "      <td>0.000000</td>\n",
       "      <td>7.000000</td>\n",
       "      <td>40098.250000</td>\n",
       "      <td>-1.037922e+07</td>\n",
       "      <td>5.620285e+06</td>\n",
       "      <td>-9.323808e+01</td>\n",
       "      <td>4.499214e+01</td>\n",
       "      <td>2017.000000</td>\n",
       "      <td>9.000000</td>\n",
       "      <td>2017.000000</td>\n",
       "      <td>9.000000</td>\n",
       "      <td>79.000000</td>\n",
       "      <td>61.000000</td>\n",
       "      <td>0.040000</td>\n",
       "      <td>0.000000</td>\n",
       "      <td>0.000000</td>\n",
       "    </tr>\n",
       "    <tr>\n",
       "      <th>max</th>\n",
       "      <td>1.000000</td>\n",
       "      <td>550.000000</td>\n",
       "      <td>55164.000000</td>\n",
       "      <td>0.000000e+00</td>\n",
       "      <td>5.629593e+06</td>\n",
       "      <td>2.544444e-14</td>\n",
       "      <td>4.505124e+01</td>\n",
       "      <td>2017.000000</td>\n",
       "      <td>12.000000</td>\n",
       "      <td>2018.000000</td>\n",
       "      <td>12.000000</td>\n",
       "      <td>97.000000</td>\n",
       "      <td>77.000000</td>\n",
       "      <td>2.180000</td>\n",
       "      <td>8.800000</td>\n",
       "      <td>9.000000</td>\n",
       "    </tr>\n",
       "  </tbody>\n",
       "</table>\n",
       "</div>"
      ],
      "text/plain": [
       "              status      days_open      object_id       x_coord  \\\n",
       "count  106928.000000  106325.000000  106928.000000  1.069280e+05   \n",
       "mean        0.005639      11.259149   26759.527533 -9.607225e+06   \n",
       "std         0.074884      31.301559   15480.518465  2.729446e+06   \n",
       "min         0.000000       0.000000       1.000000 -1.038935e+07   \n",
       "25%         0.000000       1.000000   13366.750000 -1.038512e+07   \n",
       "50%         0.000000       3.000000   26732.500000 -1.038250e+07   \n",
       "75%         0.000000       7.000000   40098.250000 -1.037922e+07   \n",
       "max         1.000000     550.000000   55164.000000  0.000000e+00   \n",
       "\n",
       "            y_coord        x_geom        y_geom    opened_year   opened_month  \\\n",
       "count  1.069280e+05  1.069280e+05  1.069280e+05  106928.000000  106928.000000   \n",
       "mean   5.196746e+06 -8.630317e+01  4.160782e+01    2016.515889       6.639692   \n",
       "std    1.476424e+06  2.451903e+01  1.182098e+01       0.499750       3.273724   \n",
       "min    0.000000e+00 -9.332915e+01 -1.280796e-14    2016.000000       1.000000   \n",
       "25%    5.610720e+06 -9.329116e+01  4.493135e+01    2016.000000       4.000000   \n",
       "50%    5.614949e+06 -9.326761e+01  4.495823e+01    2017.000000       7.000000   \n",
       "75%    5.620285e+06 -9.323808e+01  4.499214e+01    2017.000000       9.000000   \n",
       "max    5.629593e+06  2.544444e-14  4.505124e+01    2017.000000      12.000000   \n",
       "\n",
       "         closed_year   closed_month       max_temp       min_temp  \\\n",
       "count  106325.000000  106325.000000  106928.000000  106928.000000   \n",
       "mean     2016.552523       6.492462      60.202660      43.410267   \n",
       "std         0.548467       3.279049      22.375392      20.303351   \n",
       "min      2016.000000       1.000000      -6.000000     -20.000000   \n",
       "25%      2016.000000       4.000000      41.000000      29.000000   \n",
       "50%      2017.000000       7.000000      66.000000      47.000000   \n",
       "75%      2017.000000       9.000000      79.000000      61.000000   \n",
       "max      2018.000000      12.000000      97.000000      77.000000   \n",
       "\n",
       "       precipitation           snow     snow_depth  \n",
       "count  106928.000000  106928.000000  106928.000000  \n",
       "mean        0.106029       0.063588       0.527504  \n",
       "std         0.287227       0.422753       1.415929  \n",
       "min         0.000000       0.000000       0.000000  \n",
       "25%         0.000000       0.000000       0.000000  \n",
       "50%         0.000000       0.000000       0.000000  \n",
       "75%         0.040000       0.000000       0.000000  \n",
       "max         2.180000       8.800000       9.000000  "
      ]
     },
     "execution_count": 21,
     "metadata": {},
     "output_type": "execute_result"
    }
   ],
   "source": [
    "df.describe()"
   ]
  },
  {
   "cell_type": "code",
   "execution_count": 22,
   "metadata": {},
   "outputs": [
    {
     "data": {
      "text/html": [
       "<div>\n",
       "<style scoped>\n",
       "    .dataframe tbody tr th:only-of-type {\n",
       "        vertical-align: middle;\n",
       "    }\n",
       "\n",
       "    .dataframe tbody tr th {\n",
       "        vertical-align: top;\n",
       "    }\n",
       "\n",
       "    .dataframe thead th {\n",
       "        text-align: right;\n",
       "    }\n",
       "</style>\n",
       "<table border=\"1\" class=\"dataframe\">\n",
       "  <thead>\n",
       "    <tr style=\"text-align: right;\">\n",
       "      <th></th>\n",
       "      <th></th>\n",
       "      <th>status</th>\n",
       "      <th>closed_date</th>\n",
       "      <th>days_open</th>\n",
       "      <th>reason</th>\n",
       "      <th>subject</th>\n",
       "      <th>title</th>\n",
       "      <th>object_id</th>\n",
       "      <th>x_coord</th>\n",
       "      <th>y_coord</th>\n",
       "      <th>x_geom</th>\n",
       "      <th>...</th>\n",
       "      <th>opened_month</th>\n",
       "      <th>open_day</th>\n",
       "      <th>open_time</th>\n",
       "      <th>closed_year</th>\n",
       "      <th>closed_month</th>\n",
       "      <th>max_temp</th>\n",
       "      <th>min_temp</th>\n",
       "      <th>precipitation</th>\n",
       "      <th>snow</th>\n",
       "      <th>snow_depth</th>\n",
       "    </tr>\n",
       "    <tr>\n",
       "      <th>Date</th>\n",
       "      <th>Time</th>\n",
       "      <th></th>\n",
       "      <th></th>\n",
       "      <th></th>\n",
       "      <th></th>\n",
       "      <th></th>\n",
       "      <th></th>\n",
       "      <th></th>\n",
       "      <th></th>\n",
       "      <th></th>\n",
       "      <th></th>\n",
       "      <th></th>\n",
       "      <th></th>\n",
       "      <th></th>\n",
       "      <th></th>\n",
       "      <th></th>\n",
       "      <th></th>\n",
       "      <th></th>\n",
       "      <th></th>\n",
       "      <th></th>\n",
       "      <th></th>\n",
       "      <th></th>\n",
       "    </tr>\n",
       "  </thead>\n",
       "  <tbody>\n",
       "    <tr>\n",
       "      <th>2017-10-30</th>\n",
       "      <th>08:40:03</th>\n",
       "      <td>0</td>\n",
       "      <td>2017-10-30 08:40:00</td>\n",
       "      <td>0.0</td>\n",
       "      <td>Traffic Control</td>\n",
       "      <td>Vehicles and Commuting</td>\n",
       "      <td>Parking Violation Complaint</td>\n",
       "      <td>46556</td>\n",
       "      <td>-1.037889e+07</td>\n",
       "      <td>5.613397e+06</td>\n",
       "      <td>-93.235147</td>\n",
       "      <td>...</td>\n",
       "      <td>10</td>\n",
       "      <td>2017-10-30</td>\n",
       "      <td>08:40:03</td>\n",
       "      <td>2017.0</td>\n",
       "      <td>10.0</td>\n",
       "      <td>40</td>\n",
       "      <td>31</td>\n",
       "      <td>0.005</td>\n",
       "      <td>0.005</td>\n",
       "      <td>0.0</td>\n",
       "    </tr>\n",
       "  </tbody>\n",
       "</table>\n",
       "<p>1 rows × 22 columns</p>\n",
       "</div>"
      ],
      "text/plain": [
       "                     status         closed_date  days_open           reason  \\\n",
       "Date       Time                                                               \n",
       "2017-10-30 08:40:03       0 2017-10-30 08:40:00        0.0  Traffic Control   \n",
       "\n",
       "                                    subject                        title  \\\n",
       "Date       Time                                                            \n",
       "2017-10-30 08:40:03  Vehicles and Commuting  Parking Violation Complaint   \n",
       "\n",
       "                     object_id       x_coord       y_coord     x_geom  \\\n",
       "Date       Time                                                         \n",
       "2017-10-30 08:40:03      46556 -1.037889e+07  5.613397e+06 -93.235147   \n",
       "\n",
       "                        ...      opened_month   open_day  open_time  \\\n",
       "Date       Time         ...                                           \n",
       "2017-10-30 08:40:03     ...                10 2017-10-30   08:40:03   \n",
       "\n",
       "                    closed_year closed_month  max_temp  min_temp  \\\n",
       "Date       Time                                                    \n",
       "2017-10-30 08:40:03      2017.0         10.0        40        31   \n",
       "\n",
       "                     precipitation   snow  snow_depth  \n",
       "Date       Time                                        \n",
       "2017-10-30 08:40:03          0.005  0.005         0.0  \n",
       "\n",
       "[1 rows x 22 columns]"
      ]
     },
     "execution_count": 22,
     "metadata": {},
     "output_type": "execute_result"
    }
   ],
   "source": [
    "# Inspect case(s) open for 0 days. \n",
    "df[df['days_open'] == 0] "
   ]
  },
  {
   "cell_type": "markdown",
   "metadata": {},
   "source": [
    "#### Case was closed 3 seconds before it was opened. Replace 'days_open' value with 1 (the minimum count we're using)."
   ]
  },
  {
   "cell_type": "code",
   "execution_count": 23,
   "metadata": {},
   "outputs": [],
   "source": [
    "# Replace 0 value in 'days_open' column with 1.\n",
    "df.days_open = df.days_open.replace(0, 1) "
   ]
  },
  {
   "cell_type": "code",
   "execution_count": 24,
   "metadata": {},
   "outputs": [
    {
     "data": {
      "image/png": "[encoded data removed]",
      "text/plain": [
       "<Figure size 432x288 with 1 Axes>"
      ]
     },
     "metadata": {},
     "output_type": "display_data"
    }
   ],
   "source": [
    "# View box plot of number of days open, to visually inspect outliers\n",
    "df1617.boxplot(column='days_open')\n",
    "plt.yscale('log')\n",
    "plt.title('311 Cases - Number of Days Open')\n",
    "plt.ylabel('Days (Log Scale)')\n",
    "plt.show()"
   ]
  },
  {
   "cell_type": "markdown",
   "metadata": {},
   "source": [
    "### Outliers\n",
    "The 75th percentile is 7 days, for number of days each case is open. This implies any case open longer than a week is an outlier. This will need to be examined for each type of case during EDA."
   ]
  },
  {
   "cell_type": "markdown",
   "metadata": {},
   "source": [
    "## Search for Missing Values"
   ]
  },
  {
   "cell_type": "code",
   "execution_count": 25,
   "metadata": {
    "scrolled": true
   },
   "outputs": [
    {
     "data": {
      "text/plain": [
       "NaT                    603\n",
       "2018-01-29 07:41:25    100\n",
       "2018-01-29 07:39:05    100\n",
       "2017-03-31 08:45:18     95\n",
       "2018-01-29 07:36:39     95\n",
       "2018-01-29 08:26:09     91\n",
       "2017-03-31 13:45:55     91\n",
       "2017-10-31 12:34:48     84\n",
       "2017-03-31 13:47:49     68\n",
       "2018-01-29 07:46:29     64\n",
       "Name: closed_date, dtype: int64"
      ]
     },
     "execution_count": 25,
     "metadata": {},
     "output_type": "execute_result"
    }
   ],
   "source": [
    "top_close = df.closed_date.value_counts(dropna=False).head(10)\n",
    "top_close"
   ]
  },
  {
   "cell_type": "markdown",
   "metadata": {},
   "source": [
    "#### 1. There are 603 cases missing close date values. This is ok as the cases are still open, no close date is expected.\n",
    "#### 2. A large group of calls were closed on 2018-01-29, 2017-03-31, and 2017-10-31. \n",
    "We will examine the case titles to get a feel for whether these are outliers, or make sense to be clustered in large groups."
   ]
  },
  {
   "cell_type": "code",
   "execution_count": 26,
   "metadata": {
    "scrolled": true
   },
   "outputs": [
    {
     "name": "stdout",
     "output_type": "stream",
     "text": [
      "NaT :  Series([], Name: title, dtype: int64)\n",
      "2018-01-29 07:41:25 :  Sidewalk Snow & Ice Complaint    87\n",
      "Sidewalk Snow and Ice - SS       13\n",
      "Name: title, dtype: int64\n",
      "2018-01-29 07:39:05 :  Sidewalk Snow & Ice Complaint    95\n",
      "Sidewalk Snow and Ice - SS        4\n",
      "Sidewalk Snow Ice - Open311       1\n",
      "Name: title, dtype: int64\n",
      "2017-03-31 08:45:18 :  Sidewalk Snow & Ice Complaint    42\n",
      "Sidewalk Snow and Ice - SS       32\n",
      "Sidewalk Snow Ice - Open311      21\n",
      "Name: title, dtype: int64\n",
      "2018-01-29 07:36:39 :  Sidewalk Snow & Ice Complaint    74\n",
      "Sidewalk Snow and Ice - SS       21\n",
      "Name: title, dtype: int64\n",
      "2018-01-29 08:26:09 :  Sidewalk Snow and Ice - SS       46\n",
      "Sidewalk Snow & Ice Complaint    44\n",
      "Sidewalk Snow Ice - Open311       1\n",
      "Name: title, dtype: int64\n",
      "2017-03-31 13:45:55 :  Sidewalk Snow & Ice Complaint    47\n",
      "Sidewalk Snow and Ice - SS       32\n",
      "Sidewalk Snow Ice - Open311      12\n",
      "Name: title, dtype: int64\n",
      "2017-10-31 12:34:48 :  Exterior Nuisance Complaint                46\n",
      "Residential Conditions Complaint           19\n",
      "Residential Conditions Complaint Tenant    16\n",
      "RHOD Tenant Conditions Complaint            2\n",
      "RHOD Conditions Complaint                   1\n",
      "Name: title, dtype: int64\n",
      "2017-03-31 13:47:49 :  Sidewalk Snow & Ice Complaint    29\n",
      "Sidewalk Snow and Ice - SS       26\n",
      "Sidewalk Snow Ice - Open311      13\n",
      "Name: title, dtype: int64\n",
      "2018-01-29 07:46:29 :  Sidewalk Snow & Ice Complaint    45\n",
      "Sidewalk Snow and Ice - SS       18\n",
      "Sidewalk Snow Ice - Open311       1\n",
      "Name: title, dtype: int64\n"
     ]
    }
   ],
   "source": [
    "for index in top_close.index:\n",
    "    call_types = df.loc[df.closed_date == index].title.value_counts()\n",
    "    \n",
    "    print(index, \": \", call_types)"
   ]
  },
  {
   "cell_type": "markdown",
   "metadata": {},
   "source": [
    "* The cluster of cases closed on 2018-01-29 and 2017-03-31 were Sidewalk Snow & Ice Complaints. Minnesota sidwalks can accumulate significant amounts of snow and ice during the winter. Does the City consider this type of case closed when the temperature or snow depth reach a certain level?\n",
    "* The cluster of cases closed on 2017-10-31 were made up of two types, \"Private Property - Residential Conditions\" complaints, and \"Exterior Nuisance\" complaints. By examining the location coordinates of these cases, we can see if these cases are clustered geographically as well. If the \"Exterior Nuisance\" complaints are spread throughout the city, they may correlate with the holiday that day, Halloween.\n",
    "\n",
    "- We also note that these clusters occur on the first or last day of the month. Were the group of cases closed to meet monthly goals for the department? Perhaps the Sidewalk Snow & Ice Complaints closed due to improved weather? "
   ]
  },
  {
   "cell_type": "code",
   "execution_count": 27,
   "metadata": {},
   "outputs": [
    {
     "data": {
      "image/png": "[encoded data removed]",
      "text/plain": [
       "<Figure size 432x288 with 2 Axes>"
      ]
     },
     "metadata": {},
     "output_type": "display_data"
    },
    {
     "data": {
      "image/png": "[encoded data removed]",
      "text/plain": [
       "<Figure size 432x288 with 1 Axes>"
      ]
     },
     "metadata": {},
     "output_type": "display_data"
    },
    {
     "data": {
      "image/png": "[encoded data removed]",
      "text/plain": [
       "<Figure size 432x288 with 1 Axes>"
      ]
     },
     "metadata": {},
     "output_type": "display_data"
    }
   ],
   "source": [
    "# Plotting snowfall and snow depth around the dates Sidewalk Snow & Ice Complaints were closed.\n",
    "\n",
    "fig, ax = plt.subplots(1,2)\n",
    "fig = plt.title('Snowfall and Depth During Resolution of Sidewalk Snow & Ice Complaints')\n",
    "\n",
    "# Plot for 2017-03-31 timeframe\n",
    "weather_march17 = df_weather.loc['2017-03-01':'2017-05-01', ['snow', 'snow_depth']]\n",
    "\n",
    "ax[0] = weather_march17.plot()\n",
    "ax[0] = plt.axvline(x='2017-03-31', color = 'grey')\n",
    "ax[0] = plt.xlabel('Period around 2017-03-31')\n",
    "ax[0] = plt.ylabel('Snow (Inches)')\n",
    "\n",
    "\n",
    "# Plot for 2018-01-29 timeframe\n",
    "weather_jan18 = df_weather.loc['2018-01-01':'2018-03-01', ['snow', 'snow_depth']]\n",
    "\n",
    "ax[1] = weather_jan18.plot()\n",
    "ax[1] = plt.axvline(x='2018-01-29', color = 'grey')\n",
    "ax[1] = plt.xlabel('Period around 2018-01-29')\n",
    "ax[1] = plt.ylabel('Snow (Inches)')\n",
    "\n",
    "plt.tight_layout()\n",
    "plt.show()"
   ]
  },
  {
   "cell_type": "markdown",
   "metadata": {},
   "source": [
    "### Simplifying the dataframe\n",
    "* Count unique values in each column to determine if they can be grouped or converted to numeric placeholders."
   ]
  },
  {
   "cell_type": "code",
   "execution_count": 28,
   "metadata": {},
   "outputs": [],
   "source": [
    "cols = list(df.columns)"
   ]
  },
  {
   "cell_type": "code",
   "execution_count": 29,
   "metadata": {
    "scrolled": true
   },
   "outputs": [],
   "source": [
    "# Number of unique entries per column\n",
    "unique_counts = {col : df[col].nunique() for col in cols}"
   ]
  },
  {
   "cell_type": "code",
   "execution_count": 30,
   "metadata": {},
   "outputs": [
    {
     "name": "stdout",
     "output_type": "stream",
     "text": [
      "10  Subjects/Departments:  ['Vehicles and Commuting' 'Sidewalks' 'Public Safety' 'Animal Related'\n",
      " 'Streets' 'Property' 'Permits / Licensing' 'Health / Environmental'\n",
      " 'Utilities Related' 'Solid Waste & Recycling']\n"
     ]
    }
   ],
   "source": [
    "print(df.subject.nunique(), \" Subjects/Departments: \", df.subject.unique())"
   ]
  },
  {
   "cell_type": "code",
   "execution_count": 31,
   "metadata": {
    "scrolled": true
   },
   "outputs": [
    {
     "name": "stdout",
     "output_type": "stream",
     "text": [
      "27  Reason Types:  ['Traffic Control' 'Snow & Ice' 'Graffiti / Clean City' 'Animal Control'\n",
      " 'Complaints' 'Private Property' 'Street Maintenance'\n",
      " 'Commercial / Business Licensing' 'Unhealthy Conditions' 'Water'\n",
      " 'Parking' 'Traffic' 'Garbage & Recycling' 'Construction Inspections'\n",
      " 'Lighting' 'Biking' 'Sewer & Storm Drain' 'Zoning' 'Inspection'\n",
      " 'Street Cleaning / Sweeping' 'Fire' 'Police' 'Commercial Property'\n",
      " 'Traffic Safety' 'Truth in Sale of Housing' 'Green Spaces - Public'\n",
      " 'Bridges']\n"
     ]
    }
   ],
   "source": [
    "print(df.reason.nunique(), \" Reason Types: \", df.reason.unique())"
   ]
  },
  {
   "cell_type": "code",
   "execution_count": 32,
   "metadata": {
    "scrolled": true
   },
   "outputs": [
    {
     "name": "stdout",
     "output_type": "stream",
     "text": [
      "97  Unique Case Titles\n"
     ]
    },
    {
     "data": {
      "text/plain": [
       "Abandoned Vehicle                 14585\n",
       "Parking Violation Complaint       11895\n",
       "Exterior Nuisance Complaint        9536\n",
       "Animal Complaint - Livability      8288\n",
       "Graffiti complaint / reporting     6495\n",
       "Name: title, dtype: int64"
      ]
     },
     "execution_count": 32,
     "metadata": {},
     "output_type": "execute_result"
    }
   ],
   "source": [
    "print(df.title.nunique(), \" Unique Case Titles\")\n",
    "df.title.value_counts(dropna=False).head()"
   ]
  },
  {
   "cell_type": "markdown",
   "metadata": {},
   "source": [
    "### Standardizing title/type names"
   ]
  },
  {
   "cell_type": "markdown",
   "metadata": {},
   "source": [
    "- In 2017, the City removed some call topics related to Bicycle Trails/Lanes, Certificate of Code Compliance Requests and Vacant Buildings. \n",
    "- They added topics related to Homeless Encampments, Overflowing Solid Waste (dumpsters), and Street Light Maintenance.  \n",
    "\n",
    "- In 2018, Street Light topics were changed again and Water Pollution Complaints were removed.\n",
    "- One Bicycle Trail Improvement Request was added back, as well as a new topic called 'Fire Hydrant Snow Issue'."
   ]
  },
  {
   "cell_type": "markdown",
   "metadata": {},
   "source": [
    "## EDA"
   ]
  },
  {
   "cell_type": "markdown",
   "metadata": {},
   "source": [
    "### Grouping data in different ways"
   ]
  },
  {
   "cell_type": "code",
   "execution_count": 33,
   "metadata": {
    "scrolled": true
   },
   "outputs": [
    {
     "data": {
      "text/plain": [
       "subject                  reason                         \n",
       "Animal Related           Animal Control                     10478\n",
       "Health / Environmental   Unhealthy Conditions                3788\n",
       "Permits / Licensing      Commercial / Business Licensing      982\n",
       "Property                 Commercial Property                  890\n",
       "                         Construction Inspections             786\n",
       "                         Private Property                   19782\n",
       "                         Truth in Sale of Housing              20\n",
       "                         Zoning                               208\n",
       "Public Safety            Fire                                 559\n",
       "                         Graffiti / Clean City               9806\n",
       "                         Police                               362\n",
       "Sidewalks                Complaints                          1955\n",
       "                         Inspection                           672\n",
       "                         Snow & Ice                          5698\n",
       "Solid Waste & Recycling  Garbage & Recycling                 1628\n",
       "Streets                  Bridges                                7\n",
       "                         Green Spaces - Public                 90\n",
       "                         Lighting                            2474\n",
       "                         Snow & Ice                           943\n",
       "                         Street Cleaning / Sweeping           592\n",
       "                         Street Maintenance                  5228\n",
       "                         Traffic                             2294\n",
       "Utilities Related        Sewer & Storm Drain                  750\n",
       "                         Water                                328\n",
       "Vehicles and Commuting   Biking                               847\n",
       "                         Parking                              423\n",
       "                         Traffic Control                    35192\n",
       "                         Traffic Safety                       146\n",
       "Name: title, dtype: int64"
      ]
     },
     "execution_count": 33,
     "metadata": {},
     "output_type": "execute_result"
    }
   ],
   "source": [
    "# Could the call reasons be consolidated?\n",
    "df.groupby(['subject', 'reason'])['title'].count()"
   ]
  },
  {
   "cell_type": "code",
   "execution_count": 34,
   "metadata": {
    "scrolled": false
   },
   "outputs": [
    {
     "data": {
      "text/plain": [
       "reason                           title                                \n",
       "Animal Control                   Animal Complaint - Livability            8288\n",
       "                                 Animal Complaint - Public Health         2190\n",
       "Biking                           Abandoned/Illegally Parked Bicycle        720\n",
       "                                 Bicycle Lane Issue                         13\n",
       "                                 Bicycle Trail Improvement Request           2\n",
       "                                 Bike Lane Issue - Open311                 112\n",
       "Bridges                          Bridge Complaint                            7\n",
       "Commercial / Business Licensing  Licensing Complaint                       982\n",
       "Commercial Property              Commercial Structure Unsound                7\n",
       "                                 Commercial/Mixed Conditions Complaint     883\n",
       "Name: title, dtype: int64"
      ]
     },
     "execution_count": 34,
     "metadata": {},
     "output_type": "execute_result"
    }
   ],
   "source": [
    "# Could the titles be consolidated?\n",
    "df.groupby(['reason', 'title'])['title'].count().head(10)"
   ]
  },
  {
   "cell_type": "code",
   "execution_count": 35,
   "metadata": {},
   "outputs": [
    {
     "data": {
      "text/plain": [
       "Date\n",
       "2016-01-01    3\n",
       "2016-01-02    9\n",
       "2016-01-03    9\n",
       "2016-01-04    9\n",
       "2016-01-05    9\n",
       "Name: subject, dtype: int64"
      ]
     },
     "execution_count": 35,
     "metadata": {},
     "output_type": "execute_result"
    }
   ],
   "source": [
    "subj_per_day = df.groupby('Date')['subject'].nunique()\n",
    "subj_per_day.head()"
   ]
  },
  {
   "cell_type": "code",
   "execution_count": 36,
   "metadata": {},
   "outputs": [
    {
     "data": {
      "text/plain": [
       "count    731.000000\n",
       "mean      30.771546\n",
       "std        9.295812\n",
       "min        4.000000\n",
       "25%       23.000000\n",
       "50%       33.000000\n",
       "75%       38.000000\n",
       "max       48.000000\n",
       "Name: title, dtype: float64"
      ]
     },
     "execution_count": 36,
     "metadata": {},
     "output_type": "execute_result"
    }
   ],
   "source": [
    "title_per_day = df.groupby('Date')['title'].nunique()\n",
    "title_per_day.describe()"
   ]
  },
  {
   "cell_type": "code",
   "execution_count": 37,
   "metadata": {},
   "outputs": [
    {
     "data": {
      "image/png": "[encoded data removed]",
      "text/plain": [
       "<Figure size 864x288 with 1 Axes>"
      ]
     },
     "metadata": {},
     "output_type": "display_data"
    }
   ],
   "source": [
    "cases_per_day = df.groupby('Date')['subject'].count()\n",
    "cases_per_day.loc['2016'].plot(title = '311 Cases Per Day (2016)', figsize = (12,4))\n",
    "plt.ylabel('Number of Cases')\n",
    "#cases_per_day.loc['2017'].plot()\n",
    "plt.show()"
   ]
  },
  {
   "cell_type": "code",
   "execution_count": 38,
   "metadata": {
    "scrolled": true
   },
   "outputs": [
    {
     "data": {
      "image/png": "[encoded data removed]",
      "text/plain": [
       "<Figure size 864x288 with 1 Axes>"
      ]
     },
     "metadata": {},
     "output_type": "display_data"
    }
   ],
   "source": [
    "cases_per_day.loc['2017'].plot(title = '311 Cases Per Day (2017)', figsize = (12,4), color = 'green')\n",
    "plt.ylabel('Number of Cases')\n",
    "plt.show()"
   ]
  },
  {
   "cell_type": "markdown",
   "metadata": {},
   "source": [
    "### 311 Volume is higher during the summer than the spring or fall. Call volume spike mid-December through mid-January."
   ]
  },
  {
   "cell_type": "markdown",
   "metadata": {},
   "source": [
    "## Which type of cases from 2016 and 2017 are still open?"
   ]
  },
  {
   "cell_type": "code",
   "execution_count": 39,
   "metadata": {
    "scrolled": true
   },
   "outputs": [
    {
     "data": {
      "text/plain": [
       "title\n",
       "Bicycle Lane Issue                               1\n",
       "Commercial Disability Zone                       3\n",
       "Commercial Food Safety/Sanitation Complaint      8\n",
       "Commercial/Mixed Conditions Complaint           10\n",
       "Exterior Nuisance Complaint                     54\n",
       "General Street Complaint                         1\n",
       "Graffiti - Open311                              16\n",
       "Graffiti complaint / reporting                  68\n",
       "Homeless Encampment                              4\n",
       "Land Pollution Complaint                         1\n",
       "Noise Pollution Complaint                        8\n",
       "Pothole                                          2\n",
       "Pothole - Open311                                4\n",
       "RHOD Conditions Complaint                       27\n",
       "RHOD Tenant Conditions Complaint                41\n",
       "Residential Conditions Complaint               201\n",
       "Residential Conditions Complaint Tenant         55\n",
       "Residential Disability Zone                      3\n",
       "Street Light - New                               5\n",
       "Street Light Outage                             20\n",
       "Street Light Outage - Open311                   14\n",
       "Street Light Trouble                            10\n",
       "Street Light Trouble - Open311                   2\n",
       "Street Light Wreck - Open311                     2\n",
       "Street Light Wreck/Damage                        5\n",
       "Traffic Sign - New                              10\n",
       "Traffic Sign - Removal                           7\n",
       "Traffic Sign - Repair                            1\n",
       "Traffic Sign Repair - Open311                    1\n",
       "Traffic Signal Trouble - Open311                 1\n",
       "Unpermitted Work                                 3\n",
       "Vacant Building / Open to Trespass              15\n",
       "Name: reason, dtype: int64"
      ]
     },
     "execution_count": 39,
     "metadata": {},
     "output_type": "execute_result"
    }
   ],
   "source": [
    "open_1617 = df[df['status']==1].groupby('title')['reason'].count()\n",
    "open_1617"
   ]
  },
  {
   "cell_type": "code",
   "execution_count": 40,
   "metadata": {},
   "outputs": [
    {
     "data": {
      "text/plain": [
       "Series([], Name: reason, dtype: int64)"
      ]
     },
     "execution_count": 40,
     "metadata": {},
     "output_type": "execute_result"
    }
   ],
   "source": [
    "open_16 = df[df['status']==1].loc['2016'].groupby('title')['reason'].count()\n",
    "open_16"
   ]
  },
  {
   "cell_type": "markdown",
   "metadata": {},
   "source": [
    "There are no open cases from 2016. This leads us to conclude that all cases are eventually closed. However, 32 different types of cases from 2017 are still open. These cases have been open for 7 or more months."
   ]
  },
  {
   "cell_type": "markdown",
   "metadata": {},
   "source": [
    "## Do different subjects remain open longer?\n",
    "We will examine the number of days cases are open by subject. Do some subjects tend to remain open longer? Do some have a wider range and variability? How has this changed from 2016 to 2017?"
   ]
  },
  {
   "cell_type": "code",
   "execution_count": 41,
   "metadata": {
    "scrolled": false
   },
   "outputs": [
    {
     "data": {
      "text/html": [
       "<div>\n",
       "<style scoped>\n",
       "    .dataframe tbody tr th:only-of-type {\n",
       "        vertical-align: middle;\n",
       "    }\n",
       "\n",
       "    .dataframe tbody tr th {\n",
       "        vertical-align: top;\n",
       "    }\n",
       "\n",
       "    .dataframe thead th {\n",
       "        text-align: right;\n",
       "    }\n",
       "</style>\n",
       "<table border=\"1\" class=\"dataframe\">\n",
       "  <thead>\n",
       "    <tr style=\"text-align: right;\">\n",
       "      <th></th>\n",
       "      <th>count</th>\n",
       "      <th>mean</th>\n",
       "      <th>std</th>\n",
       "      <th>min</th>\n",
       "      <th>25%</th>\n",
       "      <th>50%</th>\n",
       "      <th>75%</th>\n",
       "      <th>max</th>\n",
       "    </tr>\n",
       "    <tr>\n",
       "      <th>subject</th>\n",
       "      <th></th>\n",
       "      <th></th>\n",
       "      <th></th>\n",
       "      <th></th>\n",
       "      <th></th>\n",
       "      <th></th>\n",
       "      <th></th>\n",
       "      <th></th>\n",
       "    </tr>\n",
       "  </thead>\n",
       "  <tbody>\n",
       "    <tr>\n",
       "      <th>Animal Related</th>\n",
       "      <td>10478.0</td>\n",
       "      <td>1.571769</td>\n",
       "      <td>2.655160</td>\n",
       "      <td>1.0</td>\n",
       "      <td>1.0</td>\n",
       "      <td>1.0</td>\n",
       "      <td>1.0</td>\n",
       "      <td>59.0</td>\n",
       "    </tr>\n",
       "    <tr>\n",
       "      <th>Health / Environmental</th>\n",
       "      <td>3771.0</td>\n",
       "      <td>12.918324</td>\n",
       "      <td>40.890281</td>\n",
       "      <td>1.0</td>\n",
       "      <td>1.0</td>\n",
       "      <td>2.0</td>\n",
       "      <td>4.0</td>\n",
       "      <td>420.0</td>\n",
       "    </tr>\n",
       "    <tr>\n",
       "      <th>Permits / Licensing</th>\n",
       "      <td>982.0</td>\n",
       "      <td>3.393075</td>\n",
       "      <td>3.314976</td>\n",
       "      <td>1.0</td>\n",
       "      <td>1.0</td>\n",
       "      <td>2.0</td>\n",
       "      <td>5.0</td>\n",
       "      <td>26.0</td>\n",
       "    </tr>\n",
       "    <tr>\n",
       "      <th>Property</th>\n",
       "      <td>21276.0</td>\n",
       "      <td>25.179921</td>\n",
       "      <td>57.297202</td>\n",
       "      <td>1.0</td>\n",
       "      <td>3.0</td>\n",
       "      <td>6.0</td>\n",
       "      <td>16.0</td>\n",
       "      <td>550.0</td>\n",
       "    </tr>\n",
       "    <tr>\n",
       "      <th>Public Safety</th>\n",
       "      <td>10643.0</td>\n",
       "      <td>16.738701</td>\n",
       "      <td>22.017228</td>\n",
       "      <td>1.0</td>\n",
       "      <td>2.0</td>\n",
       "      <td>11.0</td>\n",
       "      <td>21.0</td>\n",
       "      <td>254.0</td>\n",
       "    </tr>\n",
       "    <tr>\n",
       "      <th>Sidewalks</th>\n",
       "      <td>8325.0</td>\n",
       "      <td>19.487087</td>\n",
       "      <td>24.328571</td>\n",
       "      <td>1.0</td>\n",
       "      <td>2.0</td>\n",
       "      <td>8.0</td>\n",
       "      <td>38.0</td>\n",
       "      <td>290.0</td>\n",
       "    </tr>\n",
       "    <tr>\n",
       "      <th>Solid Waste &amp; Recycling</th>\n",
       "      <td>1628.0</td>\n",
       "      <td>4.275184</td>\n",
       "      <td>11.595697</td>\n",
       "      <td>1.0</td>\n",
       "      <td>1.0</td>\n",
       "      <td>2.0</td>\n",
       "      <td>4.0</td>\n",
       "      <td>274.0</td>\n",
       "    </tr>\n",
       "    <tr>\n",
       "      <th>Streets</th>\n",
       "      <td>11543.0</td>\n",
       "      <td>10.641514</td>\n",
       "      <td>23.940677</td>\n",
       "      <td>1.0</td>\n",
       "      <td>2.0</td>\n",
       "      <td>4.0</td>\n",
       "      <td>9.0</td>\n",
       "      <td>534.0</td>\n",
       "    </tr>\n",
       "    <tr>\n",
       "      <th>Utilities Related</th>\n",
       "      <td>1078.0</td>\n",
       "      <td>6.163265</td>\n",
       "      <td>9.479552</td>\n",
       "      <td>1.0</td>\n",
       "      <td>1.0</td>\n",
       "      <td>3.0</td>\n",
       "      <td>8.0</td>\n",
       "      <td>157.0</td>\n",
       "    </tr>\n",
       "    <tr>\n",
       "      <th>Vehicles and Commuting</th>\n",
       "      <td>36601.0</td>\n",
       "      <td>3.171143</td>\n",
       "      <td>8.027208</td>\n",
       "      <td>1.0</td>\n",
       "      <td>1.0</td>\n",
       "      <td>1.0</td>\n",
       "      <td>4.0</td>\n",
       "      <td>502.0</td>\n",
       "    </tr>\n",
       "  </tbody>\n",
       "</table>\n",
       "</div>"
      ],
      "text/plain": [
       "                           count       mean        std  min  25%   50%   75%  \\\n",
       "subject                                                                        \n",
       "Animal Related           10478.0   1.571769   2.655160  1.0  1.0   1.0   1.0   \n",
       "Health / Environmental    3771.0  12.918324  40.890281  1.0  1.0   2.0   4.0   \n",
       "Permits / Licensing        982.0   3.393075   3.314976  1.0  1.0   2.0   5.0   \n",
       "Property                 21276.0  25.179921  57.297202  1.0  3.0   6.0  16.0   \n",
       "Public Safety            10643.0  16.738701  22.017228  1.0  2.0  11.0  21.0   \n",
       "Sidewalks                 8325.0  19.487087  24.328571  1.0  2.0   8.0  38.0   \n",
       "Solid Waste & Recycling   1628.0   4.275184  11.595697  1.0  1.0   2.0   4.0   \n",
       "Streets                  11543.0  10.641514  23.940677  1.0  2.0   4.0   9.0   \n",
       "Utilities Related         1078.0   6.163265   9.479552  1.0  1.0   3.0   8.0   \n",
       "Vehicles and Commuting   36601.0   3.171143   8.027208  1.0  1.0   1.0   4.0   \n",
       "\n",
       "                           max  \n",
       "subject                         \n",
       "Animal Related            59.0  \n",
       "Health / Environmental   420.0  \n",
       "Permits / Licensing       26.0  \n",
       "Property                 550.0  \n",
       "Public Safety            254.0  \n",
       "Sidewalks                290.0  \n",
       "Solid Waste & Recycling  274.0  \n",
       "Streets                  534.0  \n",
       "Utilities Related        157.0  \n",
       "Vehicles and Commuting   502.0  "
      ]
     },
     "execution_count": 41,
     "metadata": {},
     "output_type": "execute_result"
    }
   ],
   "source": [
    "df.groupby('subject')['days_open'].describe()"
   ]
  },
  {
   "cell_type": "code",
   "execution_count": 42,
   "metadata": {
    "scrolled": false
   },
   "outputs": [
    {
     "data": {
      "image/png": "[encoded data removed]",
      "text/plain": [
       "<Figure size 936x360 with 1 Axes>"
      ]
     },
     "metadata": {},
     "output_type": "display_data"
    }
   ],
   "source": [
    "# Visualize boxplots, by subject, of number of days each case is open.\n",
    "fig, ax = plt.subplots(figsize=(13,5))\n",
    "plt.suptitle('')\n",
    "df.boxplot(column=['days_open'], by='subject', ax=ax, rot=30)\n",
    "plt.yscale('log')\n",
    "#plt.ylim((-5,100))\n",
    "plt.show()"
   ]
  },
  {
   "cell_type": "markdown",
   "metadata": {},
   "source": [
    "* Every subject has a wide range of days until a case is closed. With data points spread from 0 to 549, the y-axis was scaled with the log function. This makes higher data points more visible. However, the 25th percentile is 0 for more than half the subjects, and isn't visible as it lies on the x-axis.\n",
    "* The 25th to 75th percentile box for Animal Related cases lies entirely at 0. Only the non-zero outliers are visible. This subject has the most consistent close time, and has the 2nd shortest spread. Permits/Licensing has a slightly shorter overall spread.\n",
    "* There aren't strong patterns correlating mean, spread, and density. "
   ]
  },
  {
   "cell_type": "markdown",
   "metadata": {},
   "source": [
    "### How have cases changed from year to year, by subject?"
   ]
  },
  {
   "cell_type": "code",
   "execution_count": 43,
   "metadata": {},
   "outputs": [
    {
     "data": {
      "text/html": [
       "<div>\n",
       "<style scoped>\n",
       "    .dataframe tbody tr th:only-of-type {\n",
       "        vertical-align: middle;\n",
       "    }\n",
       "\n",
       "    .dataframe tbody tr th {\n",
       "        vertical-align: top;\n",
       "    }\n",
       "\n",
       "    .dataframe thead th {\n",
       "        text-align: right;\n",
       "    }\n",
       "</style>\n",
       "<table border=\"1\" class=\"dataframe\">\n",
       "  <thead>\n",
       "    <tr style=\"text-align: right;\">\n",
       "      <th></th>\n",
       "      <th>count</th>\n",
       "      <th>mean</th>\n",
       "      <th>std</th>\n",
       "      <th>min</th>\n",
       "      <th>25%</th>\n",
       "      <th>50%</th>\n",
       "      <th>75%</th>\n",
       "      <th>max</th>\n",
       "    </tr>\n",
       "    <tr>\n",
       "      <th>subject</th>\n",
       "      <th></th>\n",
       "      <th></th>\n",
       "      <th></th>\n",
       "      <th></th>\n",
       "      <th></th>\n",
       "      <th></th>\n",
       "      <th></th>\n",
       "      <th></th>\n",
       "    </tr>\n",
       "  </thead>\n",
       "  <tbody>\n",
       "    <tr>\n",
       "      <th>Animal Related</th>\n",
       "      <td>5292.0</td>\n",
       "      <td>1.649471</td>\n",
       "      <td>2.923997</td>\n",
       "      <td>1.0</td>\n",
       "      <td>1.0</td>\n",
       "      <td>1.0</td>\n",
       "      <td>1.0</td>\n",
       "      <td>56.0</td>\n",
       "    </tr>\n",
       "    <tr>\n",
       "      <th>Health / Environmental</th>\n",
       "      <td>1992.0</td>\n",
       "      <td>3.268574</td>\n",
       "      <td>12.722067</td>\n",
       "      <td>1.0</td>\n",
       "      <td>1.0</td>\n",
       "      <td>1.0</td>\n",
       "      <td>3.0</td>\n",
       "      <td>408.0</td>\n",
       "    </tr>\n",
       "    <tr>\n",
       "      <th>Permits / Licensing</th>\n",
       "      <td>445.0</td>\n",
       "      <td>2.874157</td>\n",
       "      <td>2.901131</td>\n",
       "      <td>1.0</td>\n",
       "      <td>1.0</td>\n",
       "      <td>2.0</td>\n",
       "      <td>4.0</td>\n",
       "      <td>26.0</td>\n",
       "    </tr>\n",
       "    <tr>\n",
       "      <th>Property</th>\n",
       "      <td>10998.0</td>\n",
       "      <td>15.202946</td>\n",
       "      <td>52.384527</td>\n",
       "      <td>1.0</td>\n",
       "      <td>2.0</td>\n",
       "      <td>4.0</td>\n",
       "      <td>8.0</td>\n",
       "      <td>550.0</td>\n",
       "    </tr>\n",
       "    <tr>\n",
       "      <th>Public Safety</th>\n",
       "      <td>4794.0</td>\n",
       "      <td>15.021277</td>\n",
       "      <td>17.811856</td>\n",
       "      <td>1.0</td>\n",
       "      <td>4.0</td>\n",
       "      <td>11.0</td>\n",
       "      <td>19.0</td>\n",
       "      <td>187.0</td>\n",
       "    </tr>\n",
       "    <tr>\n",
       "      <th>Sidewalks</th>\n",
       "      <td>4117.0</td>\n",
       "      <td>17.080641</td>\n",
       "      <td>26.412034</td>\n",
       "      <td>1.0</td>\n",
       "      <td>3.0</td>\n",
       "      <td>8.0</td>\n",
       "      <td>19.0</td>\n",
       "      <td>290.0</td>\n",
       "    </tr>\n",
       "    <tr>\n",
       "      <th>Solid Waste &amp; Recycling</th>\n",
       "      <td>501.0</td>\n",
       "      <td>4.610778</td>\n",
       "      <td>13.236095</td>\n",
       "      <td>1.0</td>\n",
       "      <td>1.0</td>\n",
       "      <td>2.0</td>\n",
       "      <td>5.0</td>\n",
       "      <td>274.0</td>\n",
       "    </tr>\n",
       "    <tr>\n",
       "      <th>Streets</th>\n",
       "      <td>5865.0</td>\n",
       "      <td>10.977664</td>\n",
       "      <td>25.303061</td>\n",
       "      <td>1.0</td>\n",
       "      <td>1.0</td>\n",
       "      <td>4.0</td>\n",
       "      <td>9.0</td>\n",
       "      <td>534.0</td>\n",
       "    </tr>\n",
       "    <tr>\n",
       "      <th>Utilities Related</th>\n",
       "      <td>502.0</td>\n",
       "      <td>7.450199</td>\n",
       "      <td>8.847596</td>\n",
       "      <td>1.0</td>\n",
       "      <td>1.0</td>\n",
       "      <td>4.0</td>\n",
       "      <td>11.0</td>\n",
       "      <td>80.0</td>\n",
       "    </tr>\n",
       "    <tr>\n",
       "      <th>Vehicles and Commuting</th>\n",
       "      <td>17259.0</td>\n",
       "      <td>3.279101</td>\n",
       "      <td>9.677499</td>\n",
       "      <td>1.0</td>\n",
       "      <td>1.0</td>\n",
       "      <td>1.0</td>\n",
       "      <td>4.0</td>\n",
       "      <td>502.0</td>\n",
       "    </tr>\n",
       "  </tbody>\n",
       "</table>\n",
       "</div>"
      ],
      "text/plain": [
       "                           count       mean        std  min  25%   50%   75%  \\\n",
       "subject                                                                        \n",
       "Animal Related            5292.0   1.649471   2.923997  1.0  1.0   1.0   1.0   \n",
       "Health / Environmental    1992.0   3.268574  12.722067  1.0  1.0   1.0   3.0   \n",
       "Permits / Licensing        445.0   2.874157   2.901131  1.0  1.0   2.0   4.0   \n",
       "Property                 10998.0  15.202946  52.384527  1.0  2.0   4.0   8.0   \n",
       "Public Safety             4794.0  15.021277  17.811856  1.0  4.0  11.0  19.0   \n",
       "Sidewalks                 4117.0  17.080641  26.412034  1.0  3.0   8.0  19.0   \n",
       "Solid Waste & Recycling    501.0   4.610778  13.236095  1.0  1.0   2.0   5.0   \n",
       "Streets                   5865.0  10.977664  25.303061  1.0  1.0   4.0   9.0   \n",
       "Utilities Related          502.0   7.450199   8.847596  1.0  1.0   4.0  11.0   \n",
       "Vehicles and Commuting   17259.0   3.279101   9.677499  1.0  1.0   1.0   4.0   \n",
       "\n",
       "                           max  \n",
       "subject                         \n",
       "Animal Related            56.0  \n",
       "Health / Environmental   408.0  \n",
       "Permits / Licensing       26.0  \n",
       "Property                 550.0  \n",
       "Public Safety            187.0  \n",
       "Sidewalks                290.0  \n",
       "Solid Waste & Recycling  274.0  \n",
       "Streets                  534.0  \n",
       "Utilities Related         80.0  \n",
       "Vehicles and Commuting   502.0  "
      ]
     },
     "execution_count": 43,
     "metadata": {},
     "output_type": "execute_result"
    }
   ],
   "source": [
    "df.loc['2016'].groupby('subject')['days_open'].describe()"
   ]
  },
  {
   "cell_type": "code",
   "execution_count": 44,
   "metadata": {},
   "outputs": [
    {
     "data": {
      "text/html": [
       "<div>\n",
       "<style scoped>\n",
       "    .dataframe tbody tr th:only-of-type {\n",
       "        vertical-align: middle;\n",
       "    }\n",
       "\n",
       "    .dataframe tbody tr th {\n",
       "        vertical-align: top;\n",
       "    }\n",
       "\n",
       "    .dataframe thead th {\n",
       "        text-align: right;\n",
       "    }\n",
       "</style>\n",
       "<table border=\"1\" class=\"dataframe\">\n",
       "  <thead>\n",
       "    <tr style=\"text-align: right;\">\n",
       "      <th></th>\n",
       "      <th>count</th>\n",
       "      <th>mean</th>\n",
       "      <th>std</th>\n",
       "      <th>min</th>\n",
       "      <th>25%</th>\n",
       "      <th>50%</th>\n",
       "      <th>75%</th>\n",
       "      <th>max</th>\n",
       "    </tr>\n",
       "    <tr>\n",
       "      <th>subject</th>\n",
       "      <th></th>\n",
       "      <th></th>\n",
       "      <th></th>\n",
       "      <th></th>\n",
       "      <th></th>\n",
       "      <th></th>\n",
       "      <th></th>\n",
       "      <th></th>\n",
       "    </tr>\n",
       "  </thead>\n",
       "  <tbody>\n",
       "    <tr>\n",
       "      <th>Animal Related</th>\n",
       "      <td>5186.0</td>\n",
       "      <td>1.492480</td>\n",
       "      <td>2.346963</td>\n",
       "      <td>1.0</td>\n",
       "      <td>1.0</td>\n",
       "      <td>1.0</td>\n",
       "      <td>1.0</td>\n",
       "      <td>59.0</td>\n",
       "    </tr>\n",
       "    <tr>\n",
       "      <th>Health / Environmental</th>\n",
       "      <td>1779.0</td>\n",
       "      <td>23.723440</td>\n",
       "      <td>56.061502</td>\n",
       "      <td>1.0</td>\n",
       "      <td>1.0</td>\n",
       "      <td>3.0</td>\n",
       "      <td>7.0</td>\n",
       "      <td>420.0</td>\n",
       "    </tr>\n",
       "    <tr>\n",
       "      <th>Permits / Licensing</th>\n",
       "      <td>537.0</td>\n",
       "      <td>3.823091</td>\n",
       "      <td>3.568151</td>\n",
       "      <td>1.0</td>\n",
       "      <td>1.0</td>\n",
       "      <td>3.0</td>\n",
       "      <td>5.0</td>\n",
       "      <td>20.0</td>\n",
       "    </tr>\n",
       "    <tr>\n",
       "      <th>Property</th>\n",
       "      <td>10278.0</td>\n",
       "      <td>35.855809</td>\n",
       "      <td>60.327113</td>\n",
       "      <td>1.0</td>\n",
       "      <td>3.0</td>\n",
       "      <td>12.0</td>\n",
       "      <td>32.0</td>\n",
       "      <td>374.0</td>\n",
       "    </tr>\n",
       "    <tr>\n",
       "      <th>Public Safety</th>\n",
       "      <td>5849.0</td>\n",
       "      <td>18.146350</td>\n",
       "      <td>24.853988</td>\n",
       "      <td>1.0</td>\n",
       "      <td>1.0</td>\n",
       "      <td>12.0</td>\n",
       "      <td>23.0</td>\n",
       "      <td>254.0</td>\n",
       "    </tr>\n",
       "    <tr>\n",
       "      <th>Sidewalks</th>\n",
       "      <td>4208.0</td>\n",
       "      <td>21.841492</td>\n",
       "      <td>21.849004</td>\n",
       "      <td>1.0</td>\n",
       "      <td>1.0</td>\n",
       "      <td>9.0</td>\n",
       "      <td>42.0</td>\n",
       "      <td>130.0</td>\n",
       "    </tr>\n",
       "    <tr>\n",
       "      <th>Solid Waste &amp; Recycling</th>\n",
       "      <td>1127.0</td>\n",
       "      <td>4.125998</td>\n",
       "      <td>10.789777</td>\n",
       "      <td>1.0</td>\n",
       "      <td>1.0</td>\n",
       "      <td>2.0</td>\n",
       "      <td>3.0</td>\n",
       "      <td>132.0</td>\n",
       "    </tr>\n",
       "    <tr>\n",
       "      <th>Streets</th>\n",
       "      <td>5678.0</td>\n",
       "      <td>10.294294</td>\n",
       "      <td>22.443726</td>\n",
       "      <td>1.0</td>\n",
       "      <td>2.0</td>\n",
       "      <td>4.0</td>\n",
       "      <td>10.0</td>\n",
       "      <td>315.0</td>\n",
       "    </tr>\n",
       "    <tr>\n",
       "      <th>Utilities Related</th>\n",
       "      <td>576.0</td>\n",
       "      <td>5.041667</td>\n",
       "      <td>9.869320</td>\n",
       "      <td>1.0</td>\n",
       "      <td>1.0</td>\n",
       "      <td>3.0</td>\n",
       "      <td>6.0</td>\n",
       "      <td>157.0</td>\n",
       "    </tr>\n",
       "    <tr>\n",
       "      <th>Vehicles and Commuting</th>\n",
       "      <td>19342.0</td>\n",
       "      <td>3.074811</td>\n",
       "      <td>6.192618</td>\n",
       "      <td>1.0</td>\n",
       "      <td>1.0</td>\n",
       "      <td>1.0</td>\n",
       "      <td>4.0</td>\n",
       "      <td>376.0</td>\n",
       "    </tr>\n",
       "  </tbody>\n",
       "</table>\n",
       "</div>"
      ],
      "text/plain": [
       "                           count       mean        std  min  25%   50%   75%  \\\n",
       "subject                                                                        \n",
       "Animal Related            5186.0   1.492480   2.346963  1.0  1.0   1.0   1.0   \n",
       "Health / Environmental    1779.0  23.723440  56.061502  1.0  1.0   3.0   7.0   \n",
       "Permits / Licensing        537.0   3.823091   3.568151  1.0  1.0   3.0   5.0   \n",
       "Property                 10278.0  35.855809  60.327113  1.0  3.0  12.0  32.0   \n",
       "Public Safety             5849.0  18.146350  24.853988  1.0  1.0  12.0  23.0   \n",
       "Sidewalks                 4208.0  21.841492  21.849004  1.0  1.0   9.0  42.0   \n",
       "Solid Waste & Recycling   1127.0   4.125998  10.789777  1.0  1.0   2.0   3.0   \n",
       "Streets                   5678.0  10.294294  22.443726  1.0  2.0   4.0  10.0   \n",
       "Utilities Related          576.0   5.041667   9.869320  1.0  1.0   3.0   6.0   \n",
       "Vehicles and Commuting   19342.0   3.074811   6.192618  1.0  1.0   1.0   4.0   \n",
       "\n",
       "                           max  \n",
       "subject                         \n",
       "Animal Related            59.0  \n",
       "Health / Environmental   420.0  \n",
       "Permits / Licensing       20.0  \n",
       "Property                 374.0  \n",
       "Public Safety            254.0  \n",
       "Sidewalks                130.0  \n",
       "Solid Waste & Recycling  132.0  \n",
       "Streets                  315.0  \n",
       "Utilities Related        157.0  \n",
       "Vehicles and Commuting   376.0  "
      ]
     },
     "execution_count": 44,
     "metadata": {},
     "output_type": "execute_result"
    }
   ],
   "source": [
    "df.loc['2017'].groupby('subject')['days_open'].describe()"
   ]
  },
  {
   "cell_type": "code",
   "execution_count": 45,
   "metadata": {},
   "outputs": [
    {
     "data": {
      "text/plain": [
       "subject\n",
       "Animal Related             -0.156991\n",
       "Health / Environmental     20.454866\n",
       "Permits / Licensing         0.948934\n",
       "Property                   20.652863\n",
       "Public Safety               3.125073\n",
       "Sidewalks                   4.760851\n",
       "Solid Waste & Recycling    -0.484780\n",
       "Streets                    -0.683370\n",
       "Utilities Related          -2.408533\n",
       "Vehicles and Commuting     -0.204289\n",
       "Name: days_open, dtype: float64"
      ]
     },
     "execution_count": 45,
     "metadata": {},
     "output_type": "execute_result"
    }
   ],
   "source": [
    "subj_mean16 = df.loc['2016'].groupby('subject')['days_open'].mean()\n",
    "subj_mean17 = df.loc['2017'].groupby('subject')['days_open'].mean()\n",
    "subj_diff = subj_mean17 - subj_mean16\n",
    "subj_diff"
   ]
  },
  {
   "cell_type": "code",
   "execution_count": 46,
   "metadata": {
    "scrolled": true
   },
   "outputs": [
    {
     "data": {
      "image/png": "[encoded data removed]",
      "text/plain": [
       "<Figure size 432x288 with 1 Axes>"
      ]
     },
     "metadata": {},
     "output_type": "display_data"
    }
   ],
   "source": [
    "subj_diff.plot(kind = 'barh', title = 'Difference in average days open - 2016 to 2017')\n",
    "plt.show()"
   ]
  },
  {
   "cell_type": "markdown",
   "metadata": {},
   "source": [
    "* From 2016 to 2017, Vehicles and Communiting, Streets, Solid Waste & Recycling, Permits / Licensing, and Animal Related cases all had less than a 1 day changing in average (mean) close time.\n",
    "* At the other end of the spectrum, Property or Health / Environmental cases increased by slightly over 20 days. "
   ]
  },
  {
   "cell_type": "markdown",
   "metadata": {},
   "source": [
    "### Property cases - What's driving the increase in average number of days these cases are open?\n",
    "We will break these cases down into Reason and Title sub-categories. To identify the main drivers, we'll examine the number of cases and the average days open per sub-category."
   ]
  },
  {
   "cell_type": "code",
   "execution_count": 47,
   "metadata": {
    "scrolled": true
   },
   "outputs": [
    {
     "data": {
      "image/png": "[encoded data removed]",
      "text/plain": [
       "<Figure size 432x288 with 1 Axes>"
      ]
     },
     "metadata": {},
     "output_type": "display_data"
    }
   ],
   "source": [
    "property_mean16 = df[df['subject']=='Property'].loc['2016'].groupby('reason')['days_open'].mean()\n",
    "property_mean17 = df[df['subject']=='Property'].loc['2017'].groupby('reason')['days_open'].mean()\n",
    "property_diff =  property_mean17 - property_mean16\n",
    "property_diff.plot(kind = 'barh', title = 'Difference in average days open for Property cases - 2016 to 2017')\n",
    "plt.show()"
   ]
  },
  {
   "cell_type": "code",
   "execution_count": 48,
   "metadata": {
    "scrolled": true
   },
   "outputs": [
    {
     "data": {
      "image/png": "[encoded data removed]",
      "text/plain": [
       "<Figure size 432x288 with 1 Axes>"
      ]
     },
     "metadata": {},
     "output_type": "display_data"
    }
   ],
   "source": [
    "property_count16 = df[df['subject']=='Property'].loc['2016'].groupby('reason')['reason'].count()\n",
    "property_count17 = df[df['subject']=='Property'].loc['2017'].groupby('reason')['reason'].count()\n",
    "property_increase =  (property_count17 - property_count16)\n",
    "property_1617= pd.concat([property_count16, property_count17], axis=1, sort=True)\n",
    "property_1617.columns = ['2016', '2017']\n",
    "property_1617.plot(kind = 'barh', title = 'Count of Property Cases per Reason Type - 2016 to 2017')\n",
    "plt.xscale('log') #View as log scale due to the number of Private Property cases.\n",
    "plt.show()"
   ]
  },
  {
   "cell_type": "code",
   "execution_count": 49,
   "metadata": {},
   "outputs": [
    {
     "data": {
      "text/html": [
       "<div>\n",
       "<style scoped>\n",
       "    .dataframe tbody tr th:only-of-type {\n",
       "        vertical-align: middle;\n",
       "    }\n",
       "\n",
       "    .dataframe tbody tr th {\n",
       "        vertical-align: top;\n",
       "    }\n",
       "\n",
       "    .dataframe thead th {\n",
       "        text-align: right;\n",
       "    }\n",
       "</style>\n",
       "<table border=\"1\" class=\"dataframe\">\n",
       "  <thead>\n",
       "    <tr style=\"text-align: right;\">\n",
       "      <th></th>\n",
       "      <th>2016_Count</th>\n",
       "      <th>2017_Count</th>\n",
       "      <th>Difference</th>\n",
       "      <th>2016_Mean</th>\n",
       "      <th>2017_Mean</th>\n",
       "    </tr>\n",
       "    <tr>\n",
       "      <th>reason</th>\n",
       "      <th></th>\n",
       "      <th></th>\n",
       "      <th></th>\n",
       "      <th></th>\n",
       "      <th></th>\n",
       "    </tr>\n",
       "  </thead>\n",
       "  <tbody>\n",
       "    <tr>\n",
       "      <th>Commercial Property</th>\n",
       "      <td>29</td>\n",
       "      <td>861</td>\n",
       "      <td>832</td>\n",
       "      <td>48.344828</td>\n",
       "      <td>15.977673</td>\n",
       "    </tr>\n",
       "    <tr>\n",
       "      <th>Construction Inspections</th>\n",
       "      <td>426</td>\n",
       "      <td>360</td>\n",
       "      <td>-66</td>\n",
       "      <td>9.171362</td>\n",
       "      <td>29.823529</td>\n",
       "    </tr>\n",
       "    <tr>\n",
       "      <th>Private Property</th>\n",
       "      <td>10424</td>\n",
       "      <td>9358</td>\n",
       "      <td>-1066</td>\n",
       "      <td>15.493573</td>\n",
       "      <td>38.111595</td>\n",
       "    </tr>\n",
       "    <tr>\n",
       "      <th>Truth in Sale of Housing</th>\n",
       "      <td>12</td>\n",
       "      <td>8</td>\n",
       "      <td>-4</td>\n",
       "      <td>1.916667</td>\n",
       "      <td>1.750000</td>\n",
       "    </tr>\n",
       "    <tr>\n",
       "      <th>Zoning</th>\n",
       "      <td>107</td>\n",
       "      <td>101</td>\n",
       "      <td>-6</td>\n",
       "      <td>3.411215</td>\n",
       "      <td>27.227723</td>\n",
       "    </tr>\n",
       "  </tbody>\n",
       "</table>\n",
       "</div>"
      ],
      "text/plain": [
       "                          2016_Count  2017_Count  Difference  2016_Mean  \\\n",
       "reason                                                                    \n",
       "Commercial Property               29         861         832  48.344828   \n",
       "Construction Inspections         426         360         -66   9.171362   \n",
       "Private Property               10424        9358       -1066  15.493573   \n",
       "Truth in Sale of Housing          12           8          -4   1.916667   \n",
       "Zoning                           107         101          -6   3.411215   \n",
       "\n",
       "                          2017_Mean  \n",
       "reason                               \n",
       "Commercial Property       15.977673  \n",
       "Construction Inspections  29.823529  \n",
       "Private Property          38.111595  \n",
       "Truth in Sale of Housing   1.750000  \n",
       "Zoning                    27.227723  "
      ]
     },
     "execution_count": 49,
     "metadata": {},
     "output_type": "execute_result"
    }
   ],
   "source": [
    "m= pd.concat([property_count16, property_count17, property_increase, property_mean16, property_mean17], axis=1, sort=True)\n",
    "m.columns = ['2016_Count', '2017_Count', 'Difference', '2016_Mean', '2017_Mean']\n",
    "m"
   ]
  },
  {
   "cell_type": "code",
   "execution_count": 50,
   "metadata": {
    "scrolled": true
   },
   "outputs": [
    {
     "data": {
      "image/png": "[encoded data removed]",
      "text/plain": [
       "<Figure size 576x504 with 1 Axes>"
      ]
     },
     "metadata": {},
     "output_type": "display_data"
    }
   ],
   "source": [
    "prop_title_mean16 = df[df['subject']=='Property'].loc['2016'].groupby('title')['days_open'].mean()\n",
    "prop_title_mean17 = df[df['subject']=='Property'].loc['2017'].groupby('title')['days_open'].mean()\n",
    "prop_title_count16 = df[df['subject']=='Property'].loc['2016'].groupby('title')['reason'].count()\n",
    "prop_title_count17 = df[df['subject']=='Property'].loc['2017'].groupby('title')['reason'].count()\n",
    "prop_title_increase =  (prop_title_count17 - prop_title_count16)\n",
    "prop_title_1617= pd.concat([prop_title_count16, prop_title_count17], axis=1, sort=False)\n",
    "prop_title_1617.columns = ['2016', '2017']\n",
    "prop_title_1617.plot(kind = 'barh', title = 'Count of Property Cases per Title - 2016 vs. 2017', figsize = (8,7))\n",
    "plt.xscale('log') #View as log scale due to the number of Exterior Nuisance cases.\n",
    "plt.show()\n"
   ]
  },
  {
   "cell_type": "code",
   "execution_count": 51,
   "metadata": {
    "scrolled": true
   },
   "outputs": [
    {
     "data": {
      "text/html": [
       "<div>\n",
       "<style scoped>\n",
       "    .dataframe tbody tr th:only-of-type {\n",
       "        vertical-align: middle;\n",
       "    }\n",
       "\n",
       "    .dataframe tbody tr th {\n",
       "        vertical-align: top;\n",
       "    }\n",
       "\n",
       "    .dataframe thead th {\n",
       "        text-align: right;\n",
       "    }\n",
       "</style>\n",
       "<table border=\"1\" class=\"dataframe\">\n",
       "  <thead>\n",
       "    <tr style=\"text-align: right;\">\n",
       "      <th></th>\n",
       "      <th>2016_Count</th>\n",
       "      <th>2017_Count</th>\n",
       "      <th>Difference</th>\n",
       "      <th>2016_Mean</th>\n",
       "      <th>2017_Mean</th>\n",
       "    </tr>\n",
       "  </thead>\n",
       "  <tbody>\n",
       "    <tr>\n",
       "      <th>Campaign Sign Complaint</th>\n",
       "      <td>12.0</td>\n",
       "      <td>28.0</td>\n",
       "      <td>16.0</td>\n",
       "      <td>3.750000</td>\n",
       "      <td>1.892857</td>\n",
       "    </tr>\n",
       "    <tr>\n",
       "      <th>Certificate of Code Compliance Request</th>\n",
       "      <td>3.0</td>\n",
       "      <td>NaN</td>\n",
       "      <td>NaN</td>\n",
       "      <td>1.333333</td>\n",
       "      <td>NaN</td>\n",
       "    </tr>\n",
       "    <tr>\n",
       "      <th>Certificate of Occupancy Request</th>\n",
       "      <td>31.0</td>\n",
       "      <td>28.0</td>\n",
       "      <td>-3.0</td>\n",
       "      <td>2.645161</td>\n",
       "      <td>2.714286</td>\n",
       "    </tr>\n",
       "    <tr>\n",
       "      <th>Commercial Structure Unsound</th>\n",
       "      <td>5.0</td>\n",
       "      <td>2.0</td>\n",
       "      <td>-3.0</td>\n",
       "      <td>2.000000</td>\n",
       "      <td>2.000000</td>\n",
       "    </tr>\n",
       "    <tr>\n",
       "      <th>Commercial/Mixed Conditions Complaint</th>\n",
       "      <td>24.0</td>\n",
       "      <td>859.0</td>\n",
       "      <td>835.0</td>\n",
       "      <td>58.000000</td>\n",
       "      <td>16.010601</td>\n",
       "    </tr>\n",
       "    <tr>\n",
       "      <th>Exterior Nuisance - Self Service</th>\n",
       "      <td>723.0</td>\n",
       "      <td>248.0</td>\n",
       "      <td>-475.0</td>\n",
       "      <td>3.975104</td>\n",
       "      <td>27.806452</td>\n",
       "    </tr>\n",
       "    <tr>\n",
       "      <th>Exterior Nuisance Complaint</th>\n",
       "      <td>4854.0</td>\n",
       "      <td>4682.0</td>\n",
       "      <td>-172.0</td>\n",
       "      <td>13.030696</td>\n",
       "      <td>44.912489</td>\n",
       "    </tr>\n",
       "    <tr>\n",
       "      <th>Full TISH Report Request</th>\n",
       "      <td>12.0</td>\n",
       "      <td>8.0</td>\n",
       "      <td>-4.0</td>\n",
       "      <td>1.916667</td>\n",
       "      <td>1.750000</td>\n",
       "    </tr>\n",
       "    <tr>\n",
       "      <th>RHOD Conditions Complaint</th>\n",
       "      <td>15.0</td>\n",
       "      <td>303.0</td>\n",
       "      <td>288.0</td>\n",
       "      <td>71.866667</td>\n",
       "      <td>31.721014</td>\n",
       "    </tr>\n",
       "    <tr>\n",
       "      <th>RHOD Exterior Nuisance Complaint</th>\n",
       "      <td>60.0</td>\n",
       "      <td>535.0</td>\n",
       "      <td>475.0</td>\n",
       "      <td>39.000000</td>\n",
       "      <td>9.323364</td>\n",
       "    </tr>\n",
       "    <tr>\n",
       "      <th>RHOD Tenant Conditions Complaint</th>\n",
       "      <td>119.0</td>\n",
       "      <td>580.0</td>\n",
       "      <td>461.0</td>\n",
       "      <td>64.915966</td>\n",
       "      <td>39.495362</td>\n",
       "    </tr>\n",
       "    <tr>\n",
       "      <th>Residential Conditions Complaint</th>\n",
       "      <td>2133.0</td>\n",
       "      <td>2258.0</td>\n",
       "      <td>125.0</td>\n",
       "      <td>15.049226</td>\n",
       "      <td>27.972290</td>\n",
       "    </tr>\n",
       "    <tr>\n",
       "      <th>Residential Conditions Complaint HOD</th>\n",
       "      <td>1252.0</td>\n",
       "      <td>NaN</td>\n",
       "      <td>NaN</td>\n",
       "      <td>17.021565</td>\n",
       "      <td>NaN</td>\n",
       "    </tr>\n",
       "    <tr>\n",
       "      <th>Residential Conditions Complaint HOD Tenant</th>\n",
       "      <td>505.0</td>\n",
       "      <td>NaN</td>\n",
       "      <td>NaN</td>\n",
       "      <td>20.083168</td>\n",
       "      <td>NaN</td>\n",
       "    </tr>\n",
       "    <tr>\n",
       "      <th>Residential Conditions Complaint Tenant</th>\n",
       "      <td>602.0</td>\n",
       "      <td>537.0</td>\n",
       "      <td>-65.0</td>\n",
       "      <td>27.792359</td>\n",
       "      <td>51.879668</td>\n",
       "    </tr>\n",
       "    <tr>\n",
       "      <th>Sign Complaint</th>\n",
       "      <td>95.0</td>\n",
       "      <td>73.0</td>\n",
       "      <td>-22.0</td>\n",
       "      <td>3.368421</td>\n",
       "      <td>36.945205</td>\n",
       "    </tr>\n",
       "    <tr>\n",
       "      <th>Unpermitted Work</th>\n",
       "      <td>385.0</td>\n",
       "      <td>297.0</td>\n",
       "      <td>-88.0</td>\n",
       "      <td>9.098701</td>\n",
       "      <td>30.520408</td>\n",
       "    </tr>\n",
       "    <tr>\n",
       "      <th>Unpermitted Work - Self Service</th>\n",
       "      <td>7.0</td>\n",
       "      <td>35.0</td>\n",
       "      <td>28.0</td>\n",
       "      <td>45.428571</td>\n",
       "      <td>45.657143</td>\n",
       "    </tr>\n",
       "    <tr>\n",
       "      <th>Vacant Building / Open to Trespass</th>\n",
       "      <td>105.0</td>\n",
       "      <td>107.0</td>\n",
       "      <td>2.0</td>\n",
       "      <td>24.980952</td>\n",
       "      <td>17.695652</td>\n",
       "    </tr>\n",
       "    <tr>\n",
       "      <th>Vacant Building / Open to Trespass Boarded</th>\n",
       "      <td>56.0</td>\n",
       "      <td>NaN</td>\n",
       "      <td>NaN</td>\n",
       "      <td>23.750000</td>\n",
       "      <td>NaN</td>\n",
       "    </tr>\n",
       "    <tr>\n",
       "      <th>Homeless Encampment</th>\n",
       "      <td>NaN</td>\n",
       "      <td>108.0</td>\n",
       "      <td>NaN</td>\n",
       "      <td>NaN</td>\n",
       "      <td>72.721154</td>\n",
       "    </tr>\n",
       "  </tbody>\n",
       "</table>\n",
       "</div>"
      ],
      "text/plain": [
       "                                             2016_Count  2017_Count  \\\n",
       "Campaign Sign Complaint                            12.0        28.0   \n",
       "Certificate of Code Compliance Request              3.0         NaN   \n",
       "Certificate of Occupancy Request                   31.0        28.0   \n",
       "Commercial Structure Unsound                        5.0         2.0   \n",
       "Commercial/Mixed Conditions Complaint              24.0       859.0   \n",
       "Exterior Nuisance - Self Service                  723.0       248.0   \n",
       "Exterior Nuisance Complaint                      4854.0      4682.0   \n",
       "Full TISH Report Request                           12.0         8.0   \n",
       "RHOD Conditions Complaint                          15.0       303.0   \n",
       "RHOD Exterior Nuisance Complaint                   60.0       535.0   \n",
       "RHOD Tenant Conditions Complaint                  119.0       580.0   \n",
       "Residential Conditions Complaint                 2133.0      2258.0   \n",
       "Residential Conditions Complaint HOD             1252.0         NaN   \n",
       "Residential Conditions Complaint HOD Tenant       505.0         NaN   \n",
       "Residential Conditions Complaint Tenant           602.0       537.0   \n",
       "Sign Complaint                                     95.0        73.0   \n",
       "Unpermitted Work                                  385.0       297.0   \n",
       "Unpermitted Work - Self Service                     7.0        35.0   \n",
       "Vacant Building / Open to Trespass                105.0       107.0   \n",
       "Vacant Building / Open to Trespass Boarded         56.0         NaN   \n",
       "Homeless Encampment                                 NaN       108.0   \n",
       "\n",
       "                                             Difference  2016_Mean  2017_Mean  \n",
       "Campaign Sign Complaint                            16.0   3.750000   1.892857  \n",
       "Certificate of Code Compliance Request              NaN   1.333333        NaN  \n",
       "Certificate of Occupancy Request                   -3.0   2.645161   2.714286  \n",
       "Commercial Structure Unsound                       -3.0   2.000000   2.000000  \n",
       "Commercial/Mixed Conditions Complaint             835.0  58.000000  16.010601  \n",
       "Exterior Nuisance - Self Service                 -475.0   3.975104  27.806452  \n",
       "Exterior Nuisance Complaint                      -172.0  13.030696  44.912489  \n",
       "Full TISH Report Request                           -4.0   1.916667   1.750000  \n",
       "RHOD Conditions Complaint                         288.0  71.866667  31.721014  \n",
       "RHOD Exterior Nuisance Complaint                  475.0  39.000000   9.323364  \n",
       "RHOD Tenant Conditions Complaint                  461.0  64.915966  39.495362  \n",
       "Residential Conditions Complaint                  125.0  15.049226  27.972290  \n",
       "Residential Conditions Complaint HOD                NaN  17.021565        NaN  \n",
       "Residential Conditions Complaint HOD Tenant         NaN  20.083168        NaN  \n",
       "Residential Conditions Complaint Tenant           -65.0  27.792359  51.879668  \n",
       "Sign Complaint                                    -22.0   3.368421  36.945205  \n",
       "Unpermitted Work                                  -88.0   9.098701  30.520408  \n",
       "Unpermitted Work - Self Service                    28.0  45.428571  45.657143  \n",
       "Vacant Building / Open to Trespass                  2.0  24.980952  17.695652  \n",
       "Vacant Building / Open to Trespass Boarded          NaN  23.750000        NaN  \n",
       "Homeless Encampment                                 NaN        NaN  72.721154  "
      ]
     },
     "execution_count": 51,
     "metadata": {},
     "output_type": "execute_result"
    }
   ],
   "source": [
    "t = pd.concat([prop_title_count16, prop_title_count17, prop_title_increase, prop_title_mean16, prop_title_mean17], axis=1, sort=False)\n",
    "t.columns = ['2016_Count', '2017_Count', 'Difference', '2016_Mean', '2017_Mean']\n",
    "t"
   ]
  },
  {
   "cell_type": "markdown",
   "metadata": {},
   "source": [
    "#### Property cases - The Private Property (Exterior Nuisance) complaints drive the category's increase in average days open.\n",
    "There are over 10 times as many Private Property cases than any other Property sub-type. These cases overwhelmingly drive the Property group's metrics. Although the number of Private Property calls decrease by around 10% from 2016 to 2017, the average days open increase from 14.5 to 37.1 days. \n",
    "\n",
    "Drilling down further, we see that the Exterior Nuisance Complaints make up the largest portion of Private Property cases. Again, we see that these cases have decrease in volume, yet increased in average days open. These account for the Property category's average number of days open to increase by just over 20 days."
   ]
  },
  {
   "cell_type": "markdown",
   "metadata": {},
   "source": [
    "#### Adjusting for titles missing or changed from 2016 to 2017.\n",
    " - There are only 3 entries for \"Certificate of Code Compliance Request\" in 2016, none in 2017. We could remove those rows.\n",
    " - \"RHOD Tenant Conditions Complaint\" can be combined with \"Residential Conditions Complaint HOD Tenant\".\n",
    " - \"RHOD Conditions Complaint\" can be combined with \"Residential Conditions Complaint HOD\".\n",
    " - \"Unpermitted Work\" can be combined with \"Unpermitted Work - Self Service\""
   ]
  },
  {
   "cell_type": "markdown",
   "metadata": {},
   "source": [
    "### Health/Environmental cases - What's driving the increase in average number of days these cases are open?\n",
    "We will break these cases down into Title sub-categories. To identify the main drivers, we'll examine the number of cases and the average days open per sub-category."
   ]
  },
  {
   "cell_type": "code",
   "execution_count": 52,
   "metadata": {},
   "outputs": [
    {
     "data": {
      "image/png": "[encoded data removed]",
      "text/plain": [
       "<Figure size 432x288 with 1 Axes>"
      ]
     },
     "metadata": {},
     "output_type": "display_data"
    }
   ],
   "source": [
    "health_mean16 = df[df['subject']=='Health / Environmental'].loc['2016'].groupby('title')['days_open'].mean()\n",
    "health_mean17 = df[df['subject']=='Health / Environmental'].loc['2017'].groupby('title')['days_open'].mean()\n",
    "health_diff =  health_mean17 - health_mean16\n",
    "health_diff.plot(kind = 'barh', title = 'Difference in average days open for Health / Environmental cases - 2016 to 2017')\n",
    "plt.xscale('log') #View as log scale due to the increase in Hoarding cases.\n",
    "plt.show()"
   ]
  },
  {
   "cell_type": "code",
   "execution_count": 53,
   "metadata": {},
   "outputs": [
    {
     "data": {
      "image/png": "[encoded data removed]",
      "text/plain": [
       "<Figure size 432x288 with 1 Axes>"
      ]
     },
     "metadata": {},
     "output_type": "display_data"
    }
   ],
   "source": [
    "health_count16 = df[df['subject']=='Health / Environmental'].loc['2016'].groupby('title')['days_open'].count()\n",
    "health_count17 = df[df['subject']=='Health / Environmental'].loc['2017'].groupby('title')['days_open'].count()\n",
    "health_increase =  (health_count17 - health_count16)\n",
    "health_1617= pd.concat([health_count16, health_count17], axis=1, sort=False)\n",
    "health_1617.columns = ['2016', '2017']\n",
    "health_1617.plot(kind = 'barh', title = 'Count of Health Cases per Title - 2016 vs. 2017')\n",
    "#plt.xscale('log') #View as log scale due to the number of Noise and Air cases.\n",
    "plt.show()"
   ]
  },
  {
   "cell_type": "code",
   "execution_count": 54,
   "metadata": {},
   "outputs": [
    {
     "data": {
      "text/html": [
       "<div>\n",
       "<style scoped>\n",
       "    .dataframe tbody tr th:only-of-type {\n",
       "        vertical-align: middle;\n",
       "    }\n",
       "\n",
       "    .dataframe tbody tr th {\n",
       "        vertical-align: top;\n",
       "    }\n",
       "\n",
       "    .dataframe thead th {\n",
       "        text-align: right;\n",
       "    }\n",
       "</style>\n",
       "<table border=\"1\" class=\"dataframe\">\n",
       "  <thead>\n",
       "    <tr style=\"text-align: right;\">\n",
       "      <th></th>\n",
       "      <th>2016_Count</th>\n",
       "      <th>2017_Count</th>\n",
       "      <th>Difference</th>\n",
       "      <th>2016_Mean</th>\n",
       "      <th>2017_Mean</th>\n",
       "    </tr>\n",
       "    <tr>\n",
       "      <th>title</th>\n",
       "      <th></th>\n",
       "      <th></th>\n",
       "      <th></th>\n",
       "      <th></th>\n",
       "      <th></th>\n",
       "    </tr>\n",
       "  </thead>\n",
       "  <tbody>\n",
       "    <tr>\n",
       "      <th>Air Pollution Complaint</th>\n",
       "      <td>573</td>\n",
       "      <td>395</td>\n",
       "      <td>-178</td>\n",
       "      <td>2.066318</td>\n",
       "      <td>5.658228</td>\n",
       "    </tr>\n",
       "    <tr>\n",
       "      <th>Commercial Food Safety/Sanitation Complaint</th>\n",
       "      <td>314</td>\n",
       "      <td>374</td>\n",
       "      <td>60</td>\n",
       "      <td>5.334395</td>\n",
       "      <td>61.478610</td>\n",
       "    </tr>\n",
       "    <tr>\n",
       "      <th>Emergency Pollution Complaint</th>\n",
       "      <td>19</td>\n",
       "      <td>37</td>\n",
       "      <td>18</td>\n",
       "      <td>1.736842</td>\n",
       "      <td>6.216216</td>\n",
       "    </tr>\n",
       "    <tr>\n",
       "      <th>Hoarding</th>\n",
       "      <td>58</td>\n",
       "      <td>43</td>\n",
       "      <td>-15</td>\n",
       "      <td>1.000000</td>\n",
       "      <td>242.697674</td>\n",
       "    </tr>\n",
       "    <tr>\n",
       "      <th>Land Pollution Complaint</th>\n",
       "      <td>324</td>\n",
       "      <td>284</td>\n",
       "      <td>-40</td>\n",
       "      <td>4.342593</td>\n",
       "      <td>6.010563</td>\n",
       "    </tr>\n",
       "    <tr>\n",
       "      <th>Noise Pollution Complaint</th>\n",
       "      <td>664</td>\n",
       "      <td>607</td>\n",
       "      <td>-57</td>\n",
       "      <td>3.162651</td>\n",
       "      <td>7.406919</td>\n",
       "    </tr>\n",
       "    <tr>\n",
       "      <th>Urgent Pollution Complaint</th>\n",
       "      <td>38</td>\n",
       "      <td>35</td>\n",
       "      <td>-3</td>\n",
       "      <td>1.368421</td>\n",
       "      <td>2.828571</td>\n",
       "    </tr>\n",
       "    <tr>\n",
       "      <th>Water Pollution Complaint</th>\n",
       "      <td>2</td>\n",
       "      <td>4</td>\n",
       "      <td>2</td>\n",
       "      <td>1.000000</td>\n",
       "      <td>2.000000</td>\n",
       "    </tr>\n",
       "  </tbody>\n",
       "</table>\n",
       "</div>"
      ],
      "text/plain": [
       "                                             2016_Count  2017_Count  \\\n",
       "title                                                                 \n",
       "Air Pollution Complaint                             573         395   \n",
       "Commercial Food Safety/Sanitation Complaint         314         374   \n",
       "Emergency Pollution Complaint                        19          37   \n",
       "Hoarding                                             58          43   \n",
       "Land Pollution Complaint                            324         284   \n",
       "Noise Pollution Complaint                           664         607   \n",
       "Urgent Pollution Complaint                           38          35   \n",
       "Water Pollution Complaint                             2           4   \n",
       "\n",
       "                                             Difference  2016_Mean   2017_Mean  \n",
       "title                                                                           \n",
       "Air Pollution Complaint                            -178   2.066318    5.658228  \n",
       "Commercial Food Safety/Sanitation Complaint          60   5.334395   61.478610  \n",
       "Emergency Pollution Complaint                        18   1.736842    6.216216  \n",
       "Hoarding                                            -15   1.000000  242.697674  \n",
       "Land Pollution Complaint                            -40   4.342593    6.010563  \n",
       "Noise Pollution Complaint                           -57   3.162651    7.406919  \n",
       "Urgent Pollution Complaint                           -3   1.368421    2.828571  \n",
       "Water Pollution Complaint                             2   1.000000    2.000000  "
      ]
     },
     "execution_count": 54,
     "metadata": {},
     "output_type": "execute_result"
    }
   ],
   "source": [
    "h = pd.concat([health_count16, health_count17, health_increase, health_mean16, health_mean17], axis=1, sort=False)\n",
    "h.columns = ['2016_Count', '2017_Count', 'Difference', '2016_Mean', '2017_Mean']\n",
    "h"
   ]
  },
  {
   "cell_type": "markdown",
   "metadata": {},
   "source": [
    "### What's up with Hoarding?\n",
    "It took a very long time to resolve Hoarding cases in 2017. What's going on?"
   ]
  },
  {
   "cell_type": "code",
   "execution_count": 55,
   "metadata": {
    "scrolled": true
   },
   "outputs": [
    {
     "data": {
      "text/html": [
       "<div>\n",
       "<style scoped>\n",
       "    .dataframe tbody tr th:only-of-type {\n",
       "        vertical-align: middle;\n",
       "    }\n",
       "\n",
       "    .dataframe tbody tr th {\n",
       "        vertical-align: top;\n",
       "    }\n",
       "\n",
       "    .dataframe thead th {\n",
       "        text-align: right;\n",
       "    }\n",
       "</style>\n",
       "<table border=\"1\" class=\"dataframe\">\n",
       "  <thead>\n",
       "    <tr style=\"text-align: right;\">\n",
       "      <th></th>\n",
       "      <th></th>\n",
       "      <th>closed_date</th>\n",
       "      <th>days_open</th>\n",
       "      <th>x_geom</th>\n",
       "      <th>y_geom</th>\n",
       "    </tr>\n",
       "    <tr>\n",
       "      <th>Date</th>\n",
       "      <th>Time</th>\n",
       "      <th></th>\n",
       "      <th></th>\n",
       "      <th></th>\n",
       "      <th></th>\n",
       "    </tr>\n",
       "  </thead>\n",
       "  <tbody>\n",
       "    <tr>\n",
       "      <th>2017-01-10</th>\n",
       "      <th>03:17:29</th>\n",
       "      <td>2018-03-05 08:18:00</td>\n",
       "      <td>420.0</td>\n",
       "      <td>-93.256811</td>\n",
       "      <td>44.934139</td>\n",
       "    </tr>\n",
       "    <tr>\n",
       "      <th>2017-01-24</th>\n",
       "      <th>02:50:51</th>\n",
       "      <td>2018-03-05 08:20:00</td>\n",
       "      <td>406.0</td>\n",
       "      <td>-93.261635</td>\n",
       "      <td>44.893413</td>\n",
       "    </tr>\n",
       "    <tr>\n",
       "      <th>2017-01-31</th>\n",
       "      <th>07:11:36</th>\n",
       "      <td>2018-03-05 08:22:00</td>\n",
       "      <td>399.0</td>\n",
       "      <td>-93.312518</td>\n",
       "      <td>44.913303</td>\n",
       "    </tr>\n",
       "    <tr>\n",
       "      <th>2017-02-17</th>\n",
       "      <th>02:49:06</th>\n",
       "      <td>2018-03-05 08:23:00</td>\n",
       "      <td>382.0</td>\n",
       "      <td>-93.261993</td>\n",
       "      <td>44.944729</td>\n",
       "    </tr>\n",
       "    <tr>\n",
       "      <th>2017-02-22</th>\n",
       "      <th>08:23:59</th>\n",
       "      <td>2018-03-05 08:24:00</td>\n",
       "      <td>377.0</td>\n",
       "      <td>-93.290611</td>\n",
       "      <td>45.026667</td>\n",
       "    </tr>\n",
       "  </tbody>\n",
       "</table>\n",
       "</div>"
      ],
      "text/plain": [
       "                            closed_date  days_open     x_geom     y_geom\n",
       "Date       Time                                                         \n",
       "2017-01-10 03:17:29 2018-03-05 08:18:00      420.0 -93.256811  44.934139\n",
       "2017-01-24 02:50:51 2018-03-05 08:20:00      406.0 -93.261635  44.893413\n",
       "2017-01-31 07:11:36 2018-03-05 08:22:00      399.0 -93.312518  44.913303\n",
       "2017-02-17 02:49:06 2018-03-05 08:23:00      382.0 -93.261993  44.944729\n",
       "2017-02-22 08:23:59 2018-03-05 08:24:00      377.0 -93.290611  45.026667"
      ]
     },
     "execution_count": 55,
     "metadata": {},
     "output_type": "execute_result"
    }
   ],
   "source": [
    "hoarding = df[df['title']=='Hoarding']\n",
    "hoarding16 = df[df['title']=='Hoarding'].loc['2016']\n",
    "hoarding17 = df[df['title']=='Hoarding'].loc['2017']\n",
    "#hoarding16[['closed_date', 'days_open', 'x_geom', 'y_geom']]\n",
    "hoarding17[['closed_date', 'days_open', 'x_geom', 'y_geom']].head()"
   ]
  },
  {
   "cell_type": "markdown",
   "metadata": {},
   "source": [
    "#### Hoarding - These cases were handled differently each year. Where they ever resolved?\n",
    "In 2016, every Hoarding case was closed the same day it was reported. Does this mean the calls were treated as informational and no action was taken to resolve them?\n",
    "\n",
    "The opposite pattern in seen in 2017. One case reported on 2017-09-20 was closed after 6 days. However, the other 42 cases were all closed on the same day, 2018-03-05. We can confirm from the reported locations that these are distinct cases, not the same hoarder reported 42 times.  Perhaps the City tried a different method of handling these cases, and found they were still unable to resolve the cases in a significant way."
   ]
  },
  {
   "cell_type": "code",
   "execution_count": 56,
   "metadata": {
    "scrolled": true
   },
   "outputs": [
    {
     "data": {
      "text/html": [
       "<div>\n",
       "<style scoped>\n",
       "    .dataframe tbody tr th:only-of-type {\n",
       "        vertical-align: middle;\n",
       "    }\n",
       "\n",
       "    .dataframe tbody tr th {\n",
       "        vertical-align: top;\n",
       "    }\n",
       "\n",
       "    .dataframe thead th {\n",
       "        text-align: right;\n",
       "    }\n",
       "</style>\n",
       "<table border=\"1\" class=\"dataframe\">\n",
       "  <thead>\n",
       "    <tr style=\"text-align: right;\">\n",
       "      <th></th>\n",
       "      <th></th>\n",
       "      <th>closed_date</th>\n",
       "      <th>days_open</th>\n",
       "      <th>x_geom</th>\n",
       "      <th>y_geom</th>\n",
       "    </tr>\n",
       "    <tr>\n",
       "      <th>Date</th>\n",
       "      <th>Time</th>\n",
       "      <th></th>\n",
       "      <th></th>\n",
       "      <th></th>\n",
       "      <th></th>\n",
       "    </tr>\n",
       "  </thead>\n",
       "  <tbody>\n",
       "    <tr>\n",
       "      <th rowspan=\"3\" valign=\"top\">2017-07-18</th>\n",
       "      <th>06:02:04</th>\n",
       "      <td>2018-02-05 08:50:36</td>\n",
       "      <td>203.0</td>\n",
       "      <td>-93.271065</td>\n",
       "      <td>44.978339</td>\n",
       "    </tr>\n",
       "    <tr>\n",
       "      <th>10:08:37</th>\n",
       "      <td>2018-02-05 08:49:40</td>\n",
       "      <td>202.0</td>\n",
       "      <td>-93.265840</td>\n",
       "      <td>44.973520</td>\n",
       "    </tr>\n",
       "    <tr>\n",
       "      <th>12:39:27</th>\n",
       "      <td>2018-02-05 08:48:40</td>\n",
       "      <td>202.0</td>\n",
       "      <td>-93.277199</td>\n",
       "      <td>44.987026</td>\n",
       "    </tr>\n",
       "    <tr>\n",
       "      <th rowspan=\"2\" valign=\"top\">2017-07-24</th>\n",
       "      <th>04:59:02</th>\n",
       "      <td>2018-02-05 08:47:36</td>\n",
       "      <td>197.0</td>\n",
       "      <td>-93.288239</td>\n",
       "      <td>44.900291</td>\n",
       "    </tr>\n",
       "    <tr>\n",
       "      <th>07:59:26</th>\n",
       "      <td>2018-02-05 08:46:36</td>\n",
       "      <td>197.0</td>\n",
       "      <td>-93.254413</td>\n",
       "      <td>44.948365</td>\n",
       "    </tr>\n",
       "  </tbody>\n",
       "</table>\n",
       "</div>"
      ],
      "text/plain": [
       "                            closed_date  days_open     x_geom     y_geom\n",
       "Date       Time                                                         \n",
       "2017-07-18 06:02:04 2018-02-05 08:50:36      203.0 -93.271065  44.978339\n",
       "           10:08:37 2018-02-05 08:49:40      202.0 -93.265840  44.973520\n",
       "           12:39:27 2018-02-05 08:48:40      202.0 -93.277199  44.987026\n",
       "2017-07-24 04:59:02 2018-02-05 08:47:36      197.0 -93.288239  44.900291\n",
       "           07:59:26 2018-02-05 08:46:36      197.0 -93.254413  44.948365"
      ]
     },
     "execution_count": 56,
     "metadata": {},
     "output_type": "execute_result"
    }
   ],
   "source": [
    "food = df[df['title']=='Commercial Food Safety/Sanitation Complaint']\n",
    "food16 = df[df['title']=='Commercial Food Safety/Sanitation Complaint'].loc['2016']\n",
    "food17 = df[df['title']=='Commercial Food Safety/Sanitation Complaint'].loc['2017']\n",
    "#food16[['closed_date', 'days_open', 'x_geom', 'y_geom']]\n",
    "food17[['closed_date', 'days_open', 'x_geom', 'y_geom']].sort_values('days_open', ascending=False).head()"
   ]
  },
  {
   "cell_type": "markdown",
   "metadata": {},
   "source": [
    "## Change in case volume by subject"
   ]
  },
  {
   "cell_type": "code",
   "execution_count": 57,
   "metadata": {},
   "outputs": [
    {
     "data": {
      "image/png": "[encoded data removed]",
      "text/plain": [
       "<Figure size 432x288 with 1 Axes>"
      ]
     },
     "metadata": {},
     "output_type": "display_data"
    }
   ],
   "source": [
    "subj_count16 = df.loc['2016'].groupby('subject')['days_open'].count()\n",
    "subj_count17 = df.loc['2017'].groupby('subject')['days_open'].count()\n",
    "subj_diff_count = subj_count17 - subj_count16\n",
    "subj_diff_count.plot(kind = 'barh', title = 'Difference in number of calls per subject - 2016 to 2017')\n",
    "plt.show()"
   ]
  },
  {
   "cell_type": "code",
   "execution_count": 58,
   "metadata": {},
   "outputs": [
    {
     "data": {
      "image/png": "[encoded data removed]",
      "text/plain": [
       "<Figure size 432x288 with 1 Axes>"
      ]
     },
     "metadata": {},
     "output_type": "display_data"
    }
   ],
   "source": [
    "subj_count16 = df.loc['2016'].groupby('subject')['days_open'].count()\n",
    "subj_count17 = df.loc['2017'].groupby('subject')['days_open'].count()\n",
    "subj_diff_percent = (subj_count17 - subj_count16)/(subj_count16)\n",
    "subj_diff_percent.plot(kind = 'barh', title = 'Percent growth in number of calls per subject - 2016 to 2017')\n",
    "plt.show()"
   ]
  },
  {
   "cell_type": "markdown",
   "metadata": {},
   "source": [
    "### Solid Waste and Recycling case volume increased by over 120%"
   ]
  },
  {
   "cell_type": "code",
   "execution_count": 59,
   "metadata": {},
   "outputs": [
    {
     "data": {
      "image/png": "[encoded data removed]",
      "text/plain": [
       "<Figure size 432x288 with 1 Axes>"
      ]
     },
     "metadata": {},
     "output_type": "display_data"
    }
   ],
   "source": [
    "waste_count16 = df[df['subject']=='Solid Waste & Recycling'].loc['2016'].groupby('title')['days_open'].count()\n",
    "waste_count17 = df[df['subject']=='Solid Waste & Recycling'].loc['2017'].groupby('title')['days_open'].count()\n",
    "waste_increase =  (health_count17 - health_count16)\n",
    "waste_1617= pd.concat([waste_count16, waste_count17], axis=1, sort=False)\n",
    "waste_1617.columns = ['2016', '2017']\n",
    "waste_1617.plot(kind = 'barh', title = 'Count of Waste and Recycling Cases per Title - 2016 vs. 2017')\n",
    "#plt.xscale('log') #View as log scale due to the number of Noise and Air cases.\n",
    "plt.show()"
   ]
  },
  {
   "cell_type": "markdown",
   "metadata": {},
   "source": [
    "#### Solid Waste and Recycling - Additional categories, Lots of overflowing trash\n",
    "There was higher volume in every Solid Waste sub-category. In 2017, new case titles were added to report overflowing waste containers (ex. dumpster or public trash bin). Complaints could be filed by phone or via the Open311 app."
   ]
  },
  {
   "cell_type": "code",
   "execution_count": null,
   "metadata": {},
   "outputs": [],
   "source": []
  },
  {
   "cell_type": "code",
   "execution_count": 60,
   "metadata": {},
   "outputs": [],
   "source": [
    "#df.groupby(by=[b.index.month, b.index.year])"
   ]
  }
 ],
 "metadata": {
  "kernelspec": {
   "display_name": "Python 3",
   "language": "python",
   "name": "python3"
  },
  "language_info": {
   "codemirror_mode": {
    "name": "ipython",
    "version": 3
   },
   "file_extension": ".py",
   "mimetype": "text/x-python",
   "name": "python",
   "nbconvert_exporter": "python",
   "pygments_lexer": "ipython3",
   "version": "3.6.6"
  }
 },
 "nbformat": 4,
 "nbformat_minor": 2
}
